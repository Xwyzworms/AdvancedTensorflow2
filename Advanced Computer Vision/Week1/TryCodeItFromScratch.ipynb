{
 "cells": [
  {
   "cell_type": "code",
   "execution_count": 1,
   "id": "practical-collaboration",
   "metadata": {},
   "outputs": [
    {
     "name": "stdout",
     "output_type": "stream",
     "text": [
      "Tensorflow version 2.1.0\n"
     ]
    }
   ],
   "source": [
    "import os, re, time, json\n",
    "import PIL.Image, PIL.ImageFont, PIL.ImageDraw\n",
    "import numpy as np\n",
    "import cv2 as cv\n",
    "try:\n",
    "  # %tensorflow_version only exists in Colab.\n",
    "  %tensorflow_version 2.x\n",
    "except Exception:\n",
    "  pass\n",
    "import tensorflow as tf\n",
    "from matplotlib import pyplot as plt\n",
    "import tensorflow_datasets as tfds\n",
    "\n",
    "print(\"Tensorflow version \" + tf.__version__)"
   ]
  },
  {
   "cell_type": "code",
   "execution_count": 107,
   "id": "designed-serbia",
   "metadata": {},
   "outputs": [
    {
     "name": "stdout",
     "output_type": "stream",
     "text": [
      "2\n"
     ]
    }
   ],
   "source": [
    "width, height = 220, 190\n",
    "image= PIL.Image.open(\"Pratama Azmi Atmajaya.jpg\")\n",
    "shape = [(40, 40), (width - 10, height - 10)]\n",
    "print(len(shape))\n",
    "# creating new Image object\n",
    "img = PIL.Image.new(\"RGB\", imageGan.size)\n",
    "img.paste(imageGan)\n",
    "img.show()\n"
   ]
  },
  {
   "cell_type": "code",
   "execution_count": 77,
   "id": "invalid-planner",
   "metadata": {},
   "outputs": [],
   "source": [
    "w, h = 220, 190\n",
    "shape = [(40, 10) ,(40,50), (100,50),(100,10),(40,10)]  \n",
    "# creating new Image object\n",
    "img = PIL.Image.new(\"RGB\", (w, h))\n",
    "# create line image\n",
    "img1 = PIL.ImageDraw.Draw(img)  \n",
    "img1.line(shape, fill =\"green\", width = 0)\n",
    "img.show()"
   ]
  },
  {
   "cell_type": "code",
   "execution_count": 78,
   "id": "computational-italic",
   "metadata": {},
   "outputs": [],
   "source": [
    "IMAGE_WIDTH = 75\n",
    "IMAGE_HEIGHT = 75\n",
    "\n",
    "NORMALIZED_COORDINATES = True\n",
    "\n",
    "def draw_bounding_boxes_on_image_array(image, boxes,\n",
    "                                       color =[],\n",
    "                                       thickness = 1,\n",
    "                                       display_str_list=()):\n",
    "    \n",
    "    \n",
    "    image_pil = PIL.Image.fromarray(image)\n",
    "    imageCopy = PIL.Image.new(\"RGBA\",size = image_pil.size)\n",
    "    imageCopy.paste(image_pil)\n",
    "    draw_bounding_boxes_on_image(imageCopy, boxes, color, thickness, display_str_list)\n",
    "\n",
    "    return np.array(imageCopy)\n",
    "\n",
    "def draw_bounding_boxes_on_image(image,boxes,color,thickness,display_str_list):\n",
    "    boxes_shape = boxes.shape\n",
    "    if boxes_shape[1] != 4:\n",
    "        raise ValueError(\"Input must be of Size [[N,4]]\")\n",
    "    for i in range(boxes_shape[0]): # [1,4]\n",
    "        draw_bounding_box_on_image(image,\n",
    "                                   ymin = boxes[i, 1],\n",
    "                                   xmin = boxes[i,2],\n",
    "                                   ymax = boxes[i,3],\n",
    "                                   xmax = boxes[i,4],\n",
    "                                   color=color[i],\n",
    "                                   thickness= thickness,\n",
    "                                   display_str = display_str_list[i])\n",
    "        \n",
    "def draw_bounding_box_on_image(image,\n",
    "                                  ymin,\n",
    "                                  xmin,\n",
    "                                  ymax,\n",
    "                                  xmax,\n",
    "                                  color='red',\n",
    "                                  thickness=1,\n",
    "                                  display_str=None,\n",
    "                                  use_normalized_coordinates = True):\n",
    "    drawImage = PIL.ImageDraw.Draw(image)\n",
    "    im_width, im_height = image.size\n",
    "    \n",
    "    (left,right,top,bottom) = (xmin,xmax,ymin,ymax)\n",
    "    drawImage.line([(left,top),\n",
    "                    (left,bottom),\n",
    "                    (right,bottom),\n",
    "                    (right,top),\n",
    "                    (left,top)],\n",
    "                  width = thickness, fill = color)\n",
    "\n",
    "    \n"
   ]
  },
  {
   "cell_type": "code",
   "execution_count": 116,
   "id": "valued-travel",
   "metadata": {},
   "outputs": [
    {
     "name": "stdout",
     "output_type": "stream",
     "text": [
      "C:\\Users\\xwyzworm\\anaconda3\\envs\\DataScience\\lib\\site-packages\\matplotlib\n"
     ]
    }
   ],
   "source": [
    "# Setting up Matplotlib\n",
    "plt.rc(\"image\",cmap=\"gray\")\n",
    "plt.rc(\"grid\",linewidth=2)\n",
    "plt.rc(\"xtick\",top=False,bottom=False,labelsize=\"large\") # Modified xtick\n",
    "plt.rc(\"ytick\",left=False,right=False,labelsize=\"large\") #Modified ytick\n",
    "plt.rc(\"axes\",facecolor=\"000000\",titlesize=\"large\",edgecolor=\"white\") \n",
    "plt.rc(\"text\",color=\"000000\") # Modified Title\n",
    "plt.rc(\"figure\",facecolor=\"F0F0F0\") # Modified Figurenya \n",
    "MATPLOTLIB_FONT_DIR = os.path.join(os.path.dirname(plt.__file__))\n",
    "#Kalau mau liat muka ganteng tinggal di Uncomment aja\n",
    "print(MATPLOTLIB_FONT_DIR)\n",
    "#plt.imshow(plt.imread(\"Pratama Azmi Atmajaya.jpg\"))\n",
    "#plt.xlabel(\"sampis\")\n",
    "#plt.title('Lol')"
   ]
  },
  {
   "cell_type": "code",
   "execution_count": 142,
   "id": "seasonal-arrival",
   "metadata": {},
   "outputs": [
    {
     "data": {
      "text/plain": [
       "[array([8, 3, 3, 3, 6]), array([5, 3, 4, 4, 4])]"
      ]
     },
     "execution_count": 142,
     "metadata": {},
     "output_type": "execute_result"
    }
   ],
   "source": [
    "np.split(np.random.randint(1,10,size=10),indices_or_sections=2,axis=0)\n",
    "np.stack()"
   ]
  },
  {
   "cell_type": "code",
   "execution_count": 136,
   "id": "sunset-brick",
   "metadata": {},
   "outputs": [
    {
     "data": {
      "text/plain": [
       "array([[0., 0., 0., ..., 0., 0., 0.],\n",
       "       [0., 0., 0., ..., 0., 0., 0.],\n",
       "       [0., 0., 0., ..., 0., 0., 0.],\n",
       "       ...,\n",
       "       [0., 0., 0., ..., 0., 0., 0.],\n",
       "       [0., 0., 0., ..., 0., 0., 0.],\n",
       "       [0., 0., 0., ..., 0., 0., 0.]], dtype=float32)"
      ]
     },
     "execution_count": 136,
     "metadata": {},
     "output_type": "execute_result"
    }
   ],
   "source": [
    "\n",
    "    font_labels = []\n",
    "    \n",
    "    image = PIL.Image.new(\"LA\", size=(75*10,75),color=\"black\")\n",
    "    #font1 = PIL.ImageFont.truetype(os.path.join(MATPLOTLIB_FONT_DIR, 'DejaVuSansMono-Oblique.ttf'),size=  25)\n",
    "    #font2 = PIL.ImageFont.truetype(os.path.join(MATPLOTLIB_FONT_DIR, \"STIXGeneral.ttf\"),size= 25)\n",
    "    drawImage = PIL.ImageDraw.Draw(image)\n",
    "    \n",
    "    # Uncomment Kalau mau liat Example\n",
    "    #drawImage.text(xy=([(10,20)]),text=\"SAMPIS\")\n",
    "    #image.show()\n",
    "    \n",
    "    for i in range(10):\n",
    "        font_labels.append(i % 10)\n",
    "        drawImage.text(xy=(7 + i * 75,0 if i < 10 else -4), text = str(i%10) , fill = (255,255))\n",
    "        image.show()\n",
    "    font_digits = np.array(image.getdata(), dtype=np.float32)[:,0] / 255.0\n",
    "    font_digits = np.reshape(np.stack(np.split(np.reshape(font_digits, [75, 75*10]), 10, axis=1), axis=0), [10, 75*75])\n",
    "    font_digits"
   ]
  },
  {
   "cell_type": "code",
   "execution_count": null,
   "id": "falling-tucson",
   "metadata": {},
   "outputs": [],
   "source": []
  },
  {
   "cell_type": "code",
   "execution_count": null,
   "id": "covered-thing",
   "metadata": {},
   "outputs": [],
   "source": []
  },
  {
   "cell_type": "code",
   "execution_count": null,
   "id": "optical-apparel",
   "metadata": {},
   "outputs": [],
   "source": []
  },
  {
   "cell_type": "code",
   "execution_count": null,
   "id": "russian-circulation",
   "metadata": {},
   "outputs": [],
   "source": []
  }
 ],
 "metadata": {
  "kernelspec": {
   "display_name": "Python 3",
   "language": "python",
   "name": "python3"
  },
  "language_info": {
   "codemirror_mode": {
    "name": "ipython",
    "version": 3
   },
   "file_extension": ".py",
   "mimetype": "text/x-python",
   "name": "python",
   "nbconvert_exporter": "python",
   "pygments_lexer": "ipython3",
   "version": "3.6.12"
  }
 },
 "nbformat": 4,
 "nbformat_minor": 5
}
