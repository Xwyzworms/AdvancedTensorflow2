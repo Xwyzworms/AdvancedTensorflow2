{
  "nbformat": 4,
  "nbformat_minor": 0,
  "metadata": {
    "colab": {
      "name": "AdvancedModelSubclassing.ipynb",
      "provenance": [],
      "collapsed_sections": []
    },
    "kernelspec": {
      "name": "python3",
      "display_name": "Python 3"
    }
  },
  "cells": [
    {
      "cell_type": "code",
      "metadata": {
        "id": "Wi7MRDFED4ge"
      },
      "source": [
        "from tensorflow.keras.models import Model\r\n",
        "import tensorflow as tf\r\n",
        "from tensorflow.keras.layers import Dense,Dropout,Layer"
      ],
      "execution_count": 1,
      "outputs": []
    },
    {
      "cell_type": "code",
      "metadata": {
        "colab": {
          "base_uri": "https://localhost:8080/"
        },
        "id": "l4sTQrUx3bQl",
        "outputId": "5eb18009-7d5f-4481-f68f-7c726c6a0ab3"
      },
      "source": [
        "class MyModel(Model):\r\n",
        "  def __init__(self, num_classes, **kwargs):\r\n",
        "    super(MyModel,self).__init__(**kwargs)\r\n",
        "    self.dense1 = Dense(16,activation=tf.nn.sigmoid)\r\n",
        "    self.dropout = Dropout(0.5)\r\n",
        "    self.dense2 = Dense(num_classes,activation=tf.nn.softmax)\r\n",
        "\r\n",
        "  \r\n",
        "  def call(self,inputs,training=False):\r\n",
        "    h = self.dense1(inputs)\r\n",
        "    y = self.dense1(inputs)\r\n",
        "    h = self.dropout(h,training=training)\r\n",
        "    fin = tf.concat([h,y],axis=0)\r\n",
        "    return self.dense2(fin)\r\n",
        "\r\n",
        "\r\n",
        "my_model = MyModel(12,name=\"Lol\")\r\n",
        "my_model(tf.random.uniform([1,10]))\r\n",
        "my_model.summary()"
      ],
      "execution_count": 2,
      "outputs": [
        {
          "output_type": "stream",
          "text": [
            "Model: \"Lol\"\n",
            "_________________________________________________________________\n",
            "Layer (type)                 Output Shape              Param #   \n",
            "=================================================================\n",
            "dense (Dense)                multiple                  176       \n",
            "_________________________________________________________________\n",
            "dropout (Dropout)            multiple                  0         \n",
            "_________________________________________________________________\n",
            "dense_1 (Dense)              multiple                  204       \n",
            "=================================================================\n",
            "Total params: 380\n",
            "Trainable params: 380\n",
            "Non-trainable params: 0\n",
            "_________________________________________________________________\n"
          ],
          "name": "stdout"
        }
      ]
    },
    {
      "cell_type": "code",
      "metadata": {
        "colab": {
          "base_uri": "https://localhost:8080/"
        },
        "id": "8X2qoBrP6Q1W",
        "outputId": "598d1130-2264-4ad1-fcfb-77253393ad3c"
      },
      "source": [
        "class Sigmoid(Layer):\r\n",
        "  \"\"\"Bisa jadi Salah ,Masi Belajar aku \"\"\"\r\n",
        "  def __init__(self,input_dim,units):\r\n",
        "    super().__init__()\r\n",
        "    weight_init = tf.random_normal_initializer()\r\n",
        "    bias_init = tf.zeros(shape=(units))\r\n",
        "    self.w = tf.Variable(initial_value=weight_init(shape=(input_dim,units)))\r\n",
        "    self.b = tf.Variable(initial_value=bias_init)\r\n",
        "  def call(self, inputs):\r\n",
        "    matmul = tf.add(tf.matmul(inputs, self.w) , self.b)\r\n",
        "    return 1 / (1 + tf.exp(-matmul)) \r\n",
        "\r\n",
        "class DenseCustom(Layer):\r\n",
        "  def __init__(self,units,**kwargs):\r\n",
        "    super().__init__(**kwargs)\r\n",
        "    self.units= units\r\n",
        "\r\n",
        "  def build(self,input_shape):\r\n",
        "    print(input_shape)\r\n",
        "    self.weight = self.add_weight(shape=(input_shape[-1], self.units),\r\n",
        "                                  initializer=tf.random.normal)\r\n",
        "    self.bias = self.add_weight(shape=(self.units),\r\n",
        "                                initializer=tf.zeros)\r\n",
        "  def call(self,inputs): \r\n",
        "    return tf.matmul(inputs,self.weight) + self.bias\r\n",
        "\r\n",
        "\r\n",
        "sig = Sigmoid(15,4)\r\n",
        "inputs = tf.ones((3,15))\r\n",
        "print(sig(inputs))\r\n",
        "\r\n",
        "Dens = DenseCustom(5)\r\n",
        "x = tf.ones(shape=(2,10))\r\n",
        "print(Dens(x))"
      ],
      "execution_count": 20,
      "outputs": [
        {
          "output_type": "stream",
          "text": [
            "tf.Tensor(\n",
            "[[0.5279577  0.582747   0.5096473  0.54328877]\n",
            " [0.5279577  0.582747   0.5096473  0.54328877]\n",
            " [0.5279577  0.582747   0.5096473  0.54328877]], shape=(3, 4), dtype=float32)\n",
            "(2, 10)\n",
            "tf.Tensor(\n",
            "[[ 3.2745876  2.7722564 -1.992646   3.754048   3.169958 ]\n",
            " [ 3.2745876  2.7722564 -1.992646   3.754048   3.169958 ]], shape=(2, 5), dtype=float32)\n"
          ],
          "name": "stdout"
        }
      ]
    },
    {
      "cell_type": "code",
      "metadata": {
        "id": "IGVp_Krd_GtE"
      },
      "source": [
        "def layerMean(Layer):\r\n",
        "  def __init__(self,units,input_dim):\r\n",
        "    super().__init__()\r\n",
        "    self.weight = self.add_weight(shape=(input_dim,units),initializer=tf.random.normal)\r\n",
        "    self.bias = self.add_weight(shape=(units),initializer=tf.ones)\r\n",
        "    self.sum_Activation = tf.Variable(initial_value=tf.zeros(shape=(units)),trainable=False)\r\n",
        "    self.num_Calls = tf.Variable(initial_value=0,trainable=False)\r\n",
        "\r\n",
        "  def call(self,inputs):\r\n",
        "    activations = tf.matmul(inputs,self.weight) + self.bias\r\n",
        "    self.sum_Activation.assign_add(tf.reduce_mean(activations,axis=0))\r\n",
        "  "
      ],
      "execution_count": 4,
      "outputs": []
    },
    {
      "cell_type": "code",
      "metadata": {
        "colab": {
          "base_uri": "https://localhost:8080/"
        },
        "id": "D7aXmF3nUq-6",
        "outputId": "8d5ca57a-3069-4076-f74b-1dcf5ff4288f"
      },
      "source": [
        " x = tf.constant(2.0)\r\n",
        "\r\n",
        "with tf.GradientTape() as tape:\r\n",
        "  tape.watch(x)\r\n",
        "  y = x**2\r\n",
        "  grad = tape.gradient(target=y,sources=x) \r\n",
        "\r\n",
        "print(grad) "
      ],
      "execution_count": 22,
      "outputs": [
        {
          "output_type": "stream",
          "text": [
            "tf.Tensor(4.0, shape=(), dtype=float32)\n"
          ],
          "name": "stdout"
        }
      ]
    },
    {
      "cell_type": "code",
      "metadata": {
        "colab": {
          "base_uri": "https://localhost:8080/"
        },
        "id": "_pnduk_gXD2R",
        "outputId": "9bf438e4-641c-4234-9805-44c7ef63f5c2"
      },
      "source": [
        "x = tf.constant([0,1,2,3],dtype=tf.float32)\r\n",
        "\r\n",
        "with tf.GradientTape() as tape:\r\n",
        "  tape.watch(x)\r\n",
        "  print(tf.reduce_sum(x**2,axis=None))\r\n",
        "  y = tf.reduce_sum(x**2)\r\n",
        "  z = tf.math.sin(y)\r\n",
        "  dz_dy = tape.gradient(target=z,sources=y)\r\n",
        "\r\n",
        "print(dz_dy)"
      ],
      "execution_count": 23,
      "outputs": [
        {
          "output_type": "stream",
          "text": [
            "tf.Tensor(14.0, shape=(), dtype=float32)\n",
            "tf.Tensor(0.13673721, shape=(), dtype=float32)\n"
          ],
          "name": "stdout"
        }
      ]
    },
    {
      "cell_type": "code",
      "metadata": {
        "colab": {
          "base_uri": "https://localhost:8080/"
        },
        "id": "dWGg9-YaYO55",
        "outputId": "5c1634ab-4ff2-4eaa-cea4-270cd6418a0d"
      },
      "source": [
        "x = tf.constant([0,1,2,3],dtype=tf.float32)\r\n",
        "\r\n",
        "with tf.GradientTape() as tape:\r\n",
        "  tape.watch(x)\r\n",
        "  print(tf.reduce_sum(x**2,axis=None))\r\n",
        "  y = tf.reduce_sum(x**2)\r\n",
        "  z = tf.math.sin(y)\r\n",
        "  dz_dy,dz_dx = tape.gradient(target=z,sources=[y,x])\r\n",
        "\r\n",
        "print(dz_dy)\r\n",
        "print(dz_dx)"
      ],
      "execution_count": 24,
      "outputs": [
        {
          "output_type": "stream",
          "text": [
            "tf.Tensor(14.0, shape=(), dtype=float32)\n",
            "tf.Tensor(0.13673721, shape=(), dtype=float32)\n",
            "tf.Tensor([0.         0.27347443 0.54694885 0.82042325], shape=(4,), dtype=float32)\n"
          ],
          "name": "stdout"
        }
      ]
    },
    {
      "cell_type": "code",
      "metadata": {
        "id": "BWZkJ853avRJ"
      },
      "source": [
        "import matplotlib.pyplot as plt\r\n",
        "import numpy as np"
      ],
      "execution_count": 51,
      "outputs": []
    },
    {
      "cell_type": "code",
      "metadata": {
        "colab": {
          "base_uri": "https://localhost:8080/",
          "height": 282
        },
        "id": "e7k5gjNjdfPz",
        "outputId": "3a056007-32f3-4fcd-f5a8-eb93897d3ac7"
      },
      "source": [
        "def atLeastNoisy(m,b,n = 100):\r\n",
        "  x =tf.random.uniform(shape=(n,))\r\n",
        "  noise = tf.random.normal(shape=(len(x),),stddev=0.12)\r\n",
        "  y = m * x +b + noise\r\n",
        "  return x,y\r\n",
        "\r\n",
        "m= 1\r\n",
        "b = 2\r\n",
        "x_train,y_train = atLeastNoisy(m,b)\r\n",
        "plt.plot(x_train,y_train,\"bo\")"
      ],
      "execution_count": 66,
      "outputs": [
        {
          "output_type": "execute_result",
          "data": {
            "text/plain": [
              "[<matplotlib.lines.Line2D at 0x7f5bb4e82f98>]"
            ]
          },
          "metadata": {
            "tags": []
          },
          "execution_count": 66
        },
        {
          "output_type": "display_data",
          "data": {
            "image/png": "[encoded data removed]",
            "text/plain": [
              "<Figure size 432x288 with 1 Axes>"
            ]
          },
          "metadata": {
            "tags": [],
            "needs_background": "light"
          }
        }
      ]
    },
    {
      "cell_type": "code",
      "metadata": {
        "colab": {
          "base_uri": "https://localhost:8080/",
          "height": 550
        },
        "id": "Ws3tcCQLhBtB",
        "outputId": "6ba0b04e-6e60-48ae-ad22-642b35d7d4ad"
      },
      "source": [
        "class LinLayer(Layer):\r\n",
        "  def __init__(self,**kwargs):\r\n",
        "    super().__init__(**kwargs)\r\n",
        "\r\n",
        "  def build(self,input_shape):\r\n",
        "    self.weight = self.add_weight(shape=(1,),\r\n",
        "                                  initializer=tf.random.uniform)\r\n",
        "    self.bias = self.add_weight(shape=(1,),\r\n",
        "                                initializer=tf.ones)\r\n",
        "\r\n",
        "  def call(self,inputs):\r\n",
        "    return inputs * self.weight + self.bias\r\n",
        "\r\n",
        "linReg = LinLayer()\r\n",
        "linReg(x_train)\r\n",
        "\r\n",
        "def squaredError(y_pred,y_true):\r\n",
        "  return tf.reduce_mean(tf.square(y_pred - y_true))\r\n",
        "\r\n",
        "loss = squaredError(linReg(x_train),y_train)\r\n",
        "print(\"starting loss\", loss.numpy())\r\n",
        "\r\n",
        "learning_rate =0.1\r\n",
        "steps=35\r\n",
        "\r\n",
        "for step in range(steps):\r\n",
        "  with tf.GradientTape() as tape:\r\n",
        "    predictions = linReg(x_train)\r\n",
        "    loss = squaredError(predictions,y_train)\r\n",
        "  \r\n",
        "  gradients = tape.gradient(loss,linReg.trainable_variables)\r\n",
        "  linReg.weight.assign_add(learning_rate*gradients[0])\r\n",
        "  linReg.bias.assign_add(learning_rate*gradients[1])\r\n",
        "\r\n",
        "plt.figure(figsize=(10,8))\r\n",
        "print(\"m:{}, Trained m :{}\".format(m,linReg.weight.numpy()))\r\n",
        "print(\"b:{}, Trained b :{}\".format(m,linReg.bias.numpy()))\r\n",
        "\r\n",
        "plt.plot(x_train,y_train,\"b.\")\r\n",
        "\r\n",
        "x_linear_reg =np.linspace(min(x_train),max(x_train),20)\r\n",
        "plt.plot(x_linear_reg,linReg.weight * x_linear_reg + linReg.bias,'r.')\r\n"
      ],
      "execution_count": 68,
      "outputs": [
        {
          "output_type": "stream",
          "text": [
            "starting loss 1.2110544\n",
            "m:1, Trained m :[-1534.2894]\n",
            "b:1, Trained b :[-2714.4436]\n"
          ],
          "name": "stdout"
        },
        {
          "output_type": "execute_result",
          "data": {
            "text/plain": [
              "[<matplotlib.lines.Line2D at 0x7f5bb3cdc710>]"
            ]
          },
          "metadata": {
            "tags": []
          },
          "execution_count": 68
        },
        {
          "output_type": "display_data",
          "data": {
            "image/png": "[encoded data removed]",
            "text/plain": [
              "<Figure size 720x576 with 1 Axes>"
            ]
          },
          "metadata": {
            "tags": [],
            "needs_background": "light"
          }
        }
      ]
    },
    {
      "cell_type": "code",
      "metadata": {
        "colab": {
          "base_uri": "https://localhost:8080/",
          "height": 315
        },
        "id": "o6SBaGNZhkaf",
        "outputId": "7bf9f4f3-da31-446d-cc19-3dc66124c156"
      },
      "source": [
        "print(\"m:{}, Trained m :{}\".format(m,linReg.weight.numpy()))\r\n",
        "print(\"b:{}, Trained b :{}\".format(m,linReg.bias.numpy()))\r\n",
        "\r\n",
        "plt.plot(x_train,y_train,\"b.\")\r\n",
        "\r\n",
        "x_linear_reg =np.linspace(min(x_train),max(x_train),100)\r\n",
        "plt.plot(x_linear_reg,linReg.weight * x_linear_reg + linReg.bias,'r.')"
      ],
      "execution_count": 57,
      "outputs": [
        {
          "output_type": "stream",
          "text": [
            "m:1, Trained m :[-1420.121]\n",
            "b:1, Trained b :[-2500.9324]\n"
          ],
          "name": "stdout"
        },
        {
          "output_type": "execute_result",
          "data": {
            "text/plain": [
              "[<matplotlib.lines.Line2D at 0x7f5bb3f3f438>]"
            ]
          },
          "metadata": {
            "tags": []
          },
          "execution_count": 57
        },
        {
          "output_type": "display_data",
          "data": {
            "image/png": "[encoded data removed]",
            "text/plain": [
              "<Figure size 432x288 with 1 Axes>"
            ]
          },
          "metadata": {
            "tags": [],
            "needs_background": "light"
          }
        }
      ]
    },
    {
      "cell_type": "code",
      "metadata": {
        "id": "urW6u4npoKyO"
      },
      "source": [
        "#Lets Try IT"
      ],
      "execution_count": null,
      "outputs": []
    }
  ]
}