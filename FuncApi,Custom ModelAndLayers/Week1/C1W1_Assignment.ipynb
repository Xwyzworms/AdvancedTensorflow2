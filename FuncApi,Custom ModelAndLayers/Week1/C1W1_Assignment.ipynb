{
 "cells": [
  {
   "cell_type": "markdown",
   "metadata": {
    "colab_type": "text",
    "id": "ZL_6GK8qX35J"
   },
   "source": [
    "\n",
    "\n",
    "# Week 1: Multiple Output Models using the Keras Functional API\n",
    "\n",
    "Welcome to the first programming assignment of the course! Your task will be to use the Keras functional API to train a model to predict two outputs. For this lab, you will use the **[Wine Quality Dataset](https://archive.ics.uci.edu/ml/datasets/Wine+Quality)** from the **UCI machine learning repository**. It has separate datasets for red wine and white wine.\n",
    "\n",
    "Normally, the wines are classified into one of the quality ratings specified in the attributes. In this exercise, you will combine the two datasets to predict the wine quality and whether the wine is red or white solely from the attributes. \n",
    "\n",
    "You will model wine quality estimations as a regression problem and wine type detection as a binary classification problem.\n",
    "\n",
    "#### Please complete sections that are marked **(TODO)**"
   ]
  },
  {
   "cell_type": "markdown",
   "metadata": {
    "colab_type": "text",
    "id": "obdcD6urYBY9"
   },
   "source": [
    "## Imports"
   ]
  },
  {
   "cell_type": "code",
   "execution_count": 1,
   "metadata": {
    "colab": {},
    "colab_type": "code",
    "id": "t8N3pcTQ5oQI"
   },
   "outputs": [],
   "source": [
    "import tensorflow as tf\n",
    "from tensorflow.keras.models import Model\n",
    "from tensorflow.keras.layers import Dense, Input\n",
    "\n",
    "import numpy as np\n",
    "import matplotlib.pyplot as plt\n",
    "import pandas as pd\n",
    "from sklearn.model_selection import train_test_split\n",
    "from sklearn.metrics import confusion_matrix\n",
    "import itertools\n",
    "\n",
    "import utils"
   ]
  },
  {
   "cell_type": "markdown",
   "metadata": {
    "colab_type": "text",
    "id": "gQMERzWQYpgm"
   },
   "source": [
    "## Load Dataset\n",
    "\n",
    "\n",
    "You will now download the dataset from the [UCI Machine Learning Repository](https://archive.ics.uci.edu/ml/index.php). \n",
    "\n",
    "### Pre-process the white wine dataset (TODO)\n",
    "You will add a new column named `is_red` in your dataframe to indicate if the wine is white or red. \n",
    "- In the white wine dataset, you will fill the column `is_red` with  zeros (0)."
   ]
  },
  {
   "cell_type": "code",
   "execution_count": 4,
   "metadata": {
    "colab": {},
    "colab_type": "code",
    "deletable": false,
    "id": "2qYAjKXCd4RH",
    "nbgrader": {
     "cell_type": "code",
     "checksum": "cb9f284ba6255170fe04a309a407d72d",
     "grade": false,
     "grade_id": "cell-e5bfa0f152d9a21f",
     "locked": false,
     "schema_version": 3,
     "solution": true,
     "task": false
    }
   },
   "outputs": [
    {
     "data": {
      "text/html": [
       "<div>\n",
       "<style scoped>\n",
       "    .dataframe tbody tr th:only-of-type {\n",
       "        vertical-align: middle;\n",
       "    }\n",
       "\n",
       "    .dataframe tbody tr th {\n",
       "        vertical-align: top;\n",
       "    }\n",
       "\n",
       "    .dataframe thead th {\n",
       "        text-align: right;\n",
       "    }\n",
       "</style>\n",
       "<table border=\"1\" class=\"dataframe\">\n",
       "  <thead>\n",
       "    <tr style=\"text-align: right;\">\n",
       "      <th></th>\n",
       "      <th>fixed acidity</th>\n",
       "      <th>volatile acidity</th>\n",
       "      <th>citric acid</th>\n",
       "      <th>residual sugar</th>\n",
       "      <th>chlorides</th>\n",
       "      <th>free sulfur dioxide</th>\n",
       "      <th>total sulfur dioxide</th>\n",
       "      <th>density</th>\n",
       "      <th>pH</th>\n",
       "      <th>sulphates</th>\n",
       "      <th>alcohol</th>\n",
       "      <th>quality</th>\n",
       "      <th>is_red</th>\n",
       "    </tr>\n",
       "  </thead>\n",
       "  <tbody>\n",
       "    <tr>\n",
       "      <th>0</th>\n",
       "      <td>7.0</td>\n",
       "      <td>0.27</td>\n",
       "      <td>0.36</td>\n",
       "      <td>20.7</td>\n",
       "      <td>0.045</td>\n",
       "      <td>45.0</td>\n",
       "      <td>170.0</td>\n",
       "      <td>1.0010</td>\n",
       "      <td>3.00</td>\n",
       "      <td>0.45</td>\n",
       "      <td>8.8</td>\n",
       "      <td>6</td>\n",
       "      <td>0</td>\n",
       "    </tr>\n",
       "    <tr>\n",
       "      <th>1</th>\n",
       "      <td>6.3</td>\n",
       "      <td>0.30</td>\n",
       "      <td>0.34</td>\n",
       "      <td>1.6</td>\n",
       "      <td>0.049</td>\n",
       "      <td>14.0</td>\n",
       "      <td>132.0</td>\n",
       "      <td>0.9940</td>\n",
       "      <td>3.30</td>\n",
       "      <td>0.49</td>\n",
       "      <td>9.5</td>\n",
       "      <td>6</td>\n",
       "      <td>0</td>\n",
       "    </tr>\n",
       "    <tr>\n",
       "      <th>2</th>\n",
       "      <td>8.1</td>\n",
       "      <td>0.28</td>\n",
       "      <td>0.40</td>\n",
       "      <td>6.9</td>\n",
       "      <td>0.050</td>\n",
       "      <td>30.0</td>\n",
       "      <td>97.0</td>\n",
       "      <td>0.9951</td>\n",
       "      <td>3.26</td>\n",
       "      <td>0.44</td>\n",
       "      <td>10.1</td>\n",
       "      <td>6</td>\n",
       "      <td>0</td>\n",
       "    </tr>\n",
       "    <tr>\n",
       "      <th>3</th>\n",
       "      <td>7.2</td>\n",
       "      <td>0.23</td>\n",
       "      <td>0.32</td>\n",
       "      <td>8.5</td>\n",
       "      <td>0.058</td>\n",
       "      <td>47.0</td>\n",
       "      <td>186.0</td>\n",
       "      <td>0.9956</td>\n",
       "      <td>3.19</td>\n",
       "      <td>0.40</td>\n",
       "      <td>9.9</td>\n",
       "      <td>6</td>\n",
       "      <td>0</td>\n",
       "    </tr>\n",
       "    <tr>\n",
       "      <th>6</th>\n",
       "      <td>6.2</td>\n",
       "      <td>0.32</td>\n",
       "      <td>0.16</td>\n",
       "      <td>7.0</td>\n",
       "      <td>0.045</td>\n",
       "      <td>30.0</td>\n",
       "      <td>136.0</td>\n",
       "      <td>0.9949</td>\n",
       "      <td>3.18</td>\n",
       "      <td>0.47</td>\n",
       "      <td>9.6</td>\n",
       "      <td>6</td>\n",
       "      <td>0</td>\n",
       "    </tr>\n",
       "  </tbody>\n",
       "</table>\n",
       "</div>"
      ],
      "text/plain": [
       "   fixed acidity  volatile acidity  citric acid  residual sugar  chlorides  \\\n",
       "0            7.0              0.27         0.36            20.7      0.045   \n",
       "1            6.3              0.30         0.34             1.6      0.049   \n",
       "2            8.1              0.28         0.40             6.9      0.050   \n",
       "3            7.2              0.23         0.32             8.5      0.058   \n",
       "6            6.2              0.32         0.16             7.0      0.045   \n",
       "\n",
       "   free sulfur dioxide  total sulfur dioxide  density    pH  sulphates  \\\n",
       "0                 45.0                 170.0   1.0010  3.00       0.45   \n",
       "1                 14.0                 132.0   0.9940  3.30       0.49   \n",
       "2                 30.0                  97.0   0.9951  3.26       0.44   \n",
       "3                 47.0                 186.0   0.9956  3.19       0.40   \n",
       "6                 30.0                 136.0   0.9949  3.18       0.47   \n",
       "\n",
       "   alcohol  quality  is_red  \n",
       "0      8.8        6       0  \n",
       "1      9.5        6       0  \n",
       "2     10.1        6       0  \n",
       "3      9.9        6       0  \n",
       "6      9.6        6       0  "
      ]
     },
     "execution_count": 4,
     "metadata": {},
     "output_type": "execute_result"
    }
   ],
   "source": [
    "## Please uncomment all lines in this cell and replace those marked with `# YOUR CODE HERE`.\n",
    "## You can select all lines in this code cell with Ctrl+A (Windows/Linux) or Cmd+A (Mac), then press Ctrl+/ (Windows/Linux) or Cmd+/ (Mac) to uncomment.\n",
    "\n",
    "\n",
    "\n",
    "# # URL of the white wine dataset\n",
    "# URL = 'http://archive.ics.uci.edu/ml/machine-learning-databases/wine-quality/winequality-white.csv'\n",
    "URL = 'http://archive.ics.uci.edu/ml/machine-learning-databases/wine-quality/winequality-white.csv'\n",
    "# # load the dataset from the URL\n",
    "# white_df = pd.read_csv(URL, sep=\";\")\n",
    "white_df = pd.read_csv(URL,sep=\";\")\n",
    "# # fill the `is_red` column with zeros.\n",
    "white_df[\"is_red\"] = 0 # YOUR CODE HERE\n",
    "\n",
    "# # keep only the first of duplicate items\n",
    "white_df = white_df.drop_duplicates(keep='first')\n",
    "white_df.head()"
   ]
  },
  {
   "cell_type": "code",
   "execution_count": 5,
   "metadata": {
    "deletable": false,
    "editable": false,
    "nbgrader": {
     "cell_type": "code",
     "checksum": "defe38d6ec58fd31cd67b89e46c4373f",
     "grade": true,
     "grade_id": "cell-30575e713b55fc51",
     "locked": true,
     "points": 1,
     "schema_version": 3,
     "solution": false,
     "task": false
    }
   },
   "outputs": [
    {
     "name": "stdout",
     "output_type": "stream",
     "text": [
      "\u001b[92m All public tests passed\n"
     ]
    }
   ],
   "source": [
    "# You can click `File -> Open` in the menu above and open the `utils.py` file \n",
    "# in case you want to inspect the unit tests being used for each graded function.\n",
    "\n",
    "utils.test_white_df(white_df)\n"
   ]
  },
  {
   "cell_type": "code",
   "execution_count": 7,
   "metadata": {
    "colab": {},
    "colab_type": "code",
    "id": "OQHK0ohBQRCk"
   },
   "outputs": [
    {
     "name": "stdout",
     "output_type": "stream",
     "text": [
      "8.8\n",
      "9.1\n"
     ]
    }
   ],
   "source": [
    "print(white_df.alcohol.loc[0])\n",
    "print(white_df.alcohol.loc[100])\n",
    "\n",
    "# EXPECTED OUTPUT\n",
    "# 8.8\n",
    "# 9.1"
   ]
  },
  {
   "cell_type": "markdown",
   "metadata": {},
   "source": [
    "### Pre-process the red wine dataset (TODO)\n",
    "- In the red wine dataset, you will fill in the column `is_red` with ones (1)."
   ]
  },
  {
   "cell_type": "code",
   "execution_count": 8,
   "metadata": {
    "colab": {},
    "colab_type": "code",
    "deletable": false,
    "id": "8y3QxKwBed8v",
    "nbgrader": {
     "cell_type": "code",
     "checksum": "be72275f78e2c2d0038dde9aa63f8d4f",
     "grade": false,
     "grade_id": "cell-e47a40f306593274",
     "locked": false,
     "schema_version": 3,
     "solution": true,
     "task": false
    }
   },
   "outputs": [],
   "source": [
    "## Please uncomment all lines in this cell and replace those marked with `# YOUR CODE HERE`.\n",
    "## You can select all lines in this code cell with Ctrl+A (Windows/Linux) or Cmd+A (Mac), then press Ctrl+/ (Windows/Linux) or Cmd+/ (Mac) to uncomment.\n",
    "\n",
    "\n",
    "\n",
    "# # URL of the red wine dataset\n",
    "URL = 'http://archive.ics.uci.edu/ml/machine-learning-databases/wine-quality/winequality-red.csv'\n",
    "\n",
    "# # load the dataset from the URL\n",
    "# red_df = pd.read_csv(URL, sep=\";\")\n",
    "red_df = pd.read_csv(URL,sep=\";\")\n",
    "# # fill the `is_red` column with ones.\n",
    "# red_df[\"is_red\"] = # YOUR CODE HERE\n",
    "red_df[\"is_red\"] = 1\n",
    "# # keep only the first of duplicate items\n",
    "# red_df = red_df.drop_duplicates(keep='first')\n",
    "red_df = red_df.drop_duplicates(keep='first')"
   ]
  },
  {
   "cell_type": "code",
   "execution_count": 9,
   "metadata": {
    "deletable": false,
    "editable": false,
    "nbgrader": {
     "cell_type": "code",
     "checksum": "d8e0c91b0fd668b63ba74a8f2f958b59",
     "grade": true,
     "grade_id": "cell-2a75937adcc0c25b",
     "locked": true,
     "points": 1,
     "schema_version": 3,
     "solution": false,
     "task": false
    }
   },
   "outputs": [
    {
     "name": "stdout",
     "output_type": "stream",
     "text": [
      "\u001b[92m All public tests passed\n"
     ]
    }
   ],
   "source": [
    "utils.test_red_df(red_df)\n"
   ]
  },
  {
   "cell_type": "code",
   "execution_count": 11,
   "metadata": {
    "colab": {},
    "colab_type": "code",
    "id": "zsB3LUzNQpo_"
   },
   "outputs": [
    {
     "name": "stdout",
     "output_type": "stream",
     "text": [
      "9.4\n",
      "10.2\n"
     ]
    }
   ],
   "source": [
    "print(red_df.alcohol.loc[0])\n",
    "print(red_df.alcohol.loc[100])\n",
    "\n",
    "# EXPECTED OUTPUT\n",
    "# 9.4\n",
    "# 10.2"
   ]
  },
  {
   "cell_type": "markdown",
   "metadata": {
    "colab_type": "text",
    "id": "2G8B-NYuM6-f"
   },
   "source": [
    "### Concatenate the datasets\n",
    "\n",
    "Next, concatenate the red and white wine dataframes."
   ]
  },
  {
   "cell_type": "code",
   "execution_count": 12,
   "metadata": {
    "colab": {},
    "colab_type": "code",
    "id": "YpQrOjJbfN3m"
   },
   "outputs": [],
   "source": [
    "df = pd.concat([red_df, white_df], ignore_index=True)"
   ]
  },
  {
   "cell_type": "code",
   "execution_count": 14,
   "metadata": {
    "colab": {},
    "colab_type": "code",
    "id": "Se2dTmThQyjb"
   },
   "outputs": [
    {
     "name": "stdout",
     "output_type": "stream",
     "text": [
      "9.4\n",
      "9.5\n"
     ]
    }
   ],
   "source": [
    "print(df.alcohol.loc[0])\n",
    "print(df.alcohol.loc[100])\n",
    "\n",
    "# EXPECTED OUTPUT\n",
    "# 9.4\n",
    "# 9.5"
   ]
  },
  {
   "cell_type": "code",
   "execution_count": null,
   "metadata": {
    "colab": {},
    "colab_type": "code",
    "id": "wx6y3rPpQv4k"
   },
   "outputs": [],
   "source": [
    "# NOTE: In a real-world scenario, you should shuffle the data.\n",
    "# YOU ARE NOT going to do that here because we want to test\n",
    "# with deterministic data. But if you want the code to do it,\n",
    "# it's in the commented line below:\n",
    "\n",
    "#df = df.iloc[np.random.permutation(len(df))]"
   ]
  },
  {
   "cell_type": "markdown",
   "metadata": {
    "colab_type": "text",
    "id": "-EqIcbg5M_n1"
   },
   "source": [
    "This will chart the quality of the wines."
   ]
  },
  {
   "cell_type": "code",
   "execution_count": 15,
   "metadata": {
    "colab": {},
    "colab_type": "code",
    "id": "IsvK0-Sgy17C"
   },
   "outputs": [
    {
     "data": {
      "image/png": "[encoded data removed]",
      "text/plain": [
       "<Figure size 432x288 with 1 Axes>"
      ]
     },
     "metadata": {
      "needs_background": "light"
     },
     "output_type": "display_data"
    }
   ],
   "source": [
    "df['quality'].hist(bins=20);"
   ]
  },
  {
   "cell_type": "markdown",
   "metadata": {
    "colab_type": "text",
    "id": "Nut1rmYLzf-p"
   },
   "source": [
    "### Imbalanced data (TODO)\n",
    "You can see from the plot above that the wine quality dataset is imbalanced. \n",
    "- Since there are very few observations with quality equal to 3, 4, 8 and 9, you can drop these observations from your dataset. \n",
    "- You can do this by removing data belonging to all classes except those > 4 and < 8."
   ]
  },
  {
   "cell_type": "code",
   "execution_count": 17,
   "metadata": {
    "colab": {},
    "colab_type": "code",
    "deletable": false,
    "id": "doH9_-gnf3sz",
    "nbgrader": {
     "cell_type": "code",
     "checksum": "d9ba9fc3a3ca02ccc567be33652b80fe",
     "grade": false,
     "grade_id": "cell-6a3e9db696f6827b",
     "locked": false,
     "schema_version": 3,
     "solution": true,
     "task": false
    }
   },
   "outputs": [],
   "source": [
    "## Please uncomment all lines in this cell and replace those marked with `# YOUR CODE HERE`.\n",
    "## You can select all lines in this code cell with Ctrl+A (Windows/Linux) or Cmd+A (Mac), then press Ctrl+/ (Windows/Linux) or Cmd+/ (Mac) to uncomment.\n",
    "\n",
    "\n",
    "\n",
    "# # get data with wine quality greater than 4 and less than 8\n",
    "# df = df[(df['quality'] > # YOUR CODE HERE) & (df['quality'] < YOUR CODE HERE )]\n",
    "df = df[ (df[\"quality\"] > 4 ) & (df[\"quality\"] < 8)]\n",
    "# # reset index and drop the old one\n",
    "df = df.reset_index(drop=True)\n",
    "# df = df.reset_index(drop=True)"
   ]
  },
  {
   "cell_type": "code",
   "execution_count": 18,
   "metadata": {
    "deletable": false,
    "editable": false,
    "nbgrader": {
     "cell_type": "code",
     "checksum": "281e1d86a4803560ed5892cd7eda4c01",
     "grade": true,
     "grade_id": "cell-aed3da719d4682c7",
     "locked": true,
     "points": 1,
     "schema_version": 3,
     "solution": false,
     "task": false
    }
   },
   "outputs": [
    {
     "name": "stdout",
     "output_type": "stream",
     "text": [
      "\u001b[92m All public tests passed\n"
     ]
    }
   ],
   "source": [
    "utils.test_df_drop(df)\n",
    "\n"
   ]
  },
  {
   "cell_type": "code",
   "execution_count": 19,
   "metadata": {
    "colab": {},
    "colab_type": "code",
    "id": "xNR1iAlMRPXO"
   },
   "outputs": [
    {
     "name": "stdout",
     "output_type": "stream",
     "text": [
      "9.4\n",
      "10.9\n"
     ]
    }
   ],
   "source": [
    "print(df.alcohol.loc[0])\n",
    "print(df.alcohol.loc[100])\n",
    "\n",
    "# EXPECTED OUTPUT\n",
    "# 9.4\n",
    "# 10.9"
   ]
  },
  {
   "cell_type": "markdown",
   "metadata": {
    "colab_type": "text",
    "id": "cwhuRpnVRTzG"
   },
   "source": [
    "You can plot again to see the new range of data and quality"
   ]
  },
  {
   "cell_type": "code",
   "execution_count": 20,
   "metadata": {
    "colab": {},
    "colab_type": "code",
    "id": "857ygzZiLgGg"
   },
   "outputs": [
    {
     "data": {
      "image/png": "[encoded data removed]",
      "text/plain": [
       "<Figure size 432x288 with 1 Axes>"
      ]
     },
     "metadata": {
      "needs_background": "light"
     },
     "output_type": "display_data"
    }
   ],
   "source": [
    "df['quality'].hist(bins=20);"
   ]
  },
  {
   "cell_type": "markdown",
   "metadata": {
    "colab_type": "text",
    "id": "n3k0vqSsp84t"
   },
   "source": [
    "### Train Test Split (TODO)\n",
    "\n",
    "Next, you can split the datasets into training, test and validation datasets.\n",
    "- The data frame should be split 80:20 into `train` and `test` sets.\n",
    "- The resulting `train` should then be split 80:20 into `train` and `val` sets.\n",
    "- The `train_test_split` parameter `test_size` takes a float value that ranges between 0. and 1, and represents the proportion of the dataset that is allocated to the test set.  The rest of the data is allocated to the training set."
   ]
  },
  {
   "cell_type": "code",
   "execution_count": 32,
   "metadata": {
    "colab": {},
    "colab_type": "code",
    "deletable": false,
    "id": "PAVIf2-fgRVY",
    "nbgrader": {
     "cell_type": "code",
     "checksum": "7f5738f4fb51d65adc9a8acbdf2b9970",
     "grade": false,
     "grade_id": "cell-91946cadf745206b",
     "locked": false,
     "schema_version": 3,
     "solution": true,
     "task": false
    }
   },
   "outputs": [],
   "source": [
    "## Please uncomment all lines in this cell and replace those marked with `# YOUR CODE HERE`.\n",
    "## You can select all lines in this code cell with Ctrl+A (Windows/Linux) or Cmd+A (Mac), then press Ctrl+/ (Windows/Linux) or Cmd+/ (Mac) to uncomment.\n",
    "\n",
    "\n",
    "\n",
    "## Please do not change the random_state parameter. This is needed for grading.\n",
    "\n",
    "# # split df into 80:20 train and test sets\n",
    "# train, test = train_test_split(df, test_size=# YOUR CODE HERE, random_state = 1)\n",
    "train,test = train_test_split(df, test_size=0.2,random_state=1  )                      \n",
    "# # split train into 80:20 train and val sets\n",
    "# train, val = train_test_split(train, test_size=# YOUR CODE HERE, random_state = 1)\n",
    "train, val = train_test_split(train,test_size= 0.2,random_state=1)"
   ]
  },
  {
   "cell_type": "code",
   "execution_count": 33,
   "metadata": {
    "colab": {},
    "colab_type": "code",
    "deletable": false,
    "editable": false,
    "id": "57h9LcEzRWpk",
    "nbgrader": {
     "cell_type": "code",
     "checksum": "42adbe9e66efac7c7a5f8cd73ac92f22",
     "grade": true,
     "grade_id": "cell-64b8b38cd0b965f6",
     "locked": true,
     "points": 1,
     "schema_version": 3,
     "solution": false,
     "task": false
    }
   },
   "outputs": [
    {
     "name": "stdout",
     "output_type": "stream",
     "text": [
      "\u001b[92m All public tests passed\n"
     ]
    }
   ],
   "source": [
    "utils.test_data_sizes(train.size, test.size, val.size)\n",
    "\n"
   ]
  },
  {
   "cell_type": "markdown",
   "metadata": {
    "colab_type": "text",
    "id": "RwTNu4KFqG-K"
   },
   "source": [
    "Here's where you can explore the training stats. You can pop the labels 'is_red' and 'quality' from the data as these will be used as the labels\n"
   ]
  },
  {
   "cell_type": "code",
   "execution_count": 34,
   "metadata": {
    "colab": {},
    "colab_type": "code",
    "id": "Y_afyhhHM6WQ"
   },
   "outputs": [],
   "source": [
    "train_stats = train.describe()\n",
    "train_stats.pop('is_red')\n",
    "train_stats.pop('quality')\n",
    "train_stats = train_stats.transpose()"
   ]
  },
  {
   "cell_type": "markdown",
   "metadata": {
    "colab_type": "text",
    "id": "ahvbYm4fNqSt"
   },
   "source": [
    "Explore the training stats!"
   ]
  },
  {
   "cell_type": "code",
   "execution_count": 35,
   "metadata": {
    "colab": {},
    "colab_type": "code",
    "id": "n_gAtPjZ0otF"
   },
   "outputs": [
    {
     "data": {
      "text/html": [
       "<div>\n",
       "<style scoped>\n",
       "    .dataframe tbody tr th:only-of-type {\n",
       "        vertical-align: middle;\n",
       "    }\n",
       "\n",
       "    .dataframe tbody tr th {\n",
       "        vertical-align: top;\n",
       "    }\n",
       "\n",
       "    .dataframe thead th {\n",
       "        text-align: right;\n",
       "    }\n",
       "</style>\n",
       "<table border=\"1\" class=\"dataframe\">\n",
       "  <thead>\n",
       "    <tr style=\"text-align: right;\">\n",
       "      <th></th>\n",
       "      <th>count</th>\n",
       "      <th>mean</th>\n",
       "      <th>std</th>\n",
       "      <th>min</th>\n",
       "      <th>25%</th>\n",
       "      <th>50%</th>\n",
       "      <th>75%</th>\n",
       "      <th>max</th>\n",
       "    </tr>\n",
       "  </thead>\n",
       "  <tbody>\n",
       "    <tr>\n",
       "      <th>fixed acidity</th>\n",
       "      <td>3155.0</td>\n",
       "      <td>7.221616</td>\n",
       "      <td>1.325297</td>\n",
       "      <td>3.80000</td>\n",
       "      <td>6.40000</td>\n",
       "      <td>7.00000</td>\n",
       "      <td>7.7000</td>\n",
       "      <td>15.60000</td>\n",
       "    </tr>\n",
       "    <tr>\n",
       "      <th>volatile acidity</th>\n",
       "      <td>3155.0</td>\n",
       "      <td>0.338929</td>\n",
       "      <td>0.162476</td>\n",
       "      <td>0.08000</td>\n",
       "      <td>0.23000</td>\n",
       "      <td>0.29000</td>\n",
       "      <td>0.4000</td>\n",
       "      <td>1.24000</td>\n",
       "    </tr>\n",
       "    <tr>\n",
       "      <th>citric acid</th>\n",
       "      <td>3155.0</td>\n",
       "      <td>0.321569</td>\n",
       "      <td>0.147970</td>\n",
       "      <td>0.00000</td>\n",
       "      <td>0.25000</td>\n",
       "      <td>0.31000</td>\n",
       "      <td>0.4000</td>\n",
       "      <td>1.66000</td>\n",
       "    </tr>\n",
       "    <tr>\n",
       "      <th>residual sugar</th>\n",
       "      <td>3155.0</td>\n",
       "      <td>5.155911</td>\n",
       "      <td>4.639632</td>\n",
       "      <td>0.60000</td>\n",
       "      <td>1.80000</td>\n",
       "      <td>2.80000</td>\n",
       "      <td>7.6500</td>\n",
       "      <td>65.80000</td>\n",
       "    </tr>\n",
       "    <tr>\n",
       "      <th>chlorides</th>\n",
       "      <td>3155.0</td>\n",
       "      <td>0.056976</td>\n",
       "      <td>0.036802</td>\n",
       "      <td>0.01200</td>\n",
       "      <td>0.03800</td>\n",
       "      <td>0.04700</td>\n",
       "      <td>0.0660</td>\n",
       "      <td>0.61100</td>\n",
       "    </tr>\n",
       "    <tr>\n",
       "      <th>free sulfur dioxide</th>\n",
       "      <td>3155.0</td>\n",
       "      <td>30.388590</td>\n",
       "      <td>17.236784</td>\n",
       "      <td>1.00000</td>\n",
       "      <td>17.00000</td>\n",
       "      <td>28.00000</td>\n",
       "      <td>41.0000</td>\n",
       "      <td>131.00000</td>\n",
       "    </tr>\n",
       "    <tr>\n",
       "      <th>total sulfur dioxide</th>\n",
       "      <td>3155.0</td>\n",
       "      <td>115.062282</td>\n",
       "      <td>56.706617</td>\n",
       "      <td>6.00000</td>\n",
       "      <td>75.00000</td>\n",
       "      <td>117.00000</td>\n",
       "      <td>156.0000</td>\n",
       "      <td>344.00000</td>\n",
       "    </tr>\n",
       "    <tr>\n",
       "      <th>density</th>\n",
       "      <td>3155.0</td>\n",
       "      <td>0.994633</td>\n",
       "      <td>0.003005</td>\n",
       "      <td>0.98711</td>\n",
       "      <td>0.99232</td>\n",
       "      <td>0.99481</td>\n",
       "      <td>0.9968</td>\n",
       "      <td>1.03898</td>\n",
       "    </tr>\n",
       "    <tr>\n",
       "      <th>pH</th>\n",
       "      <td>3155.0</td>\n",
       "      <td>3.223201</td>\n",
       "      <td>0.161272</td>\n",
       "      <td>2.72000</td>\n",
       "      <td>3.11000</td>\n",
       "      <td>3.21000</td>\n",
       "      <td>3.3300</td>\n",
       "      <td>4.01000</td>\n",
       "    </tr>\n",
       "    <tr>\n",
       "      <th>sulphates</th>\n",
       "      <td>3155.0</td>\n",
       "      <td>0.534051</td>\n",
       "      <td>0.149149</td>\n",
       "      <td>0.22000</td>\n",
       "      <td>0.43000</td>\n",
       "      <td>0.51000</td>\n",
       "      <td>0.6000</td>\n",
       "      <td>1.95000</td>\n",
       "    </tr>\n",
       "    <tr>\n",
       "      <th>alcohol</th>\n",
       "      <td>3155.0</td>\n",
       "      <td>10.504466</td>\n",
       "      <td>1.154654</td>\n",
       "      <td>8.50000</td>\n",
       "      <td>9.50000</td>\n",
       "      <td>10.30000</td>\n",
       "      <td>11.3000</td>\n",
       "      <td>14.00000</td>\n",
       "    </tr>\n",
       "  </tbody>\n",
       "</table>\n",
       "</div>"
      ],
      "text/plain": [
       "                       count        mean        std      min       25%  \\\n",
       "fixed acidity         3155.0    7.221616   1.325297  3.80000   6.40000   \n",
       "volatile acidity      3155.0    0.338929   0.162476  0.08000   0.23000   \n",
       "citric acid           3155.0    0.321569   0.147970  0.00000   0.25000   \n",
       "residual sugar        3155.0    5.155911   4.639632  0.60000   1.80000   \n",
       "chlorides             3155.0    0.056976   0.036802  0.01200   0.03800   \n",
       "free sulfur dioxide   3155.0   30.388590  17.236784  1.00000  17.00000   \n",
       "total sulfur dioxide  3155.0  115.062282  56.706617  6.00000  75.00000   \n",
       "density               3155.0    0.994633   0.003005  0.98711   0.99232   \n",
       "pH                    3155.0    3.223201   0.161272  2.72000   3.11000   \n",
       "sulphates             3155.0    0.534051   0.149149  0.22000   0.43000   \n",
       "alcohol               3155.0   10.504466   1.154654  8.50000   9.50000   \n",
       "\n",
       "                            50%       75%        max  \n",
       "fixed acidity           7.00000    7.7000   15.60000  \n",
       "volatile acidity        0.29000    0.4000    1.24000  \n",
       "citric acid             0.31000    0.4000    1.66000  \n",
       "residual sugar          2.80000    7.6500   65.80000  \n",
       "chlorides               0.04700    0.0660    0.61100  \n",
       "free sulfur dioxide    28.00000   41.0000  131.00000  \n",
       "total sulfur dioxide  117.00000  156.0000  344.00000  \n",
       "density                 0.99481    0.9968    1.03898  \n",
       "pH                      3.21000    3.3300    4.01000  \n",
       "sulphates               0.51000    0.6000    1.95000  \n",
       "alcohol                10.30000   11.3000   14.00000  "
      ]
     },
     "execution_count": 35,
     "metadata": {},
     "output_type": "execute_result"
    }
   ],
   "source": [
    "train_stats"
   ]
  },
  {
   "cell_type": "markdown",
   "metadata": {
    "colab_type": "text",
    "id": "bGPvt9jir_HC"
   },
   "source": [
    "### Get the labels (TODO)\n",
    "\n",
    "The features and labels are currently in the same dataframe.\n",
    "- You will want to store the label columns `is_red` and `quality` separately from the feature columns.  \n",
    "- The following function, `format_output`, gets these two columns from the dataframe (it's given to you).\n",
    "- `format_output` also formats the data into numpy arrays. \n",
    "- Please use the `format_output` and apply it to the `train`, `val` and `test` sets to get dataframes for the labels."
   ]
  },
  {
   "cell_type": "code",
   "execution_count": 27,
   "metadata": {
    "colab": {},
    "colab_type": "code",
    "id": "Z_fs14XQqZVP"
   },
   "outputs": [],
   "source": [
    "def format_output(data):\n",
    "    is_red = data.pop('is_red')\n",
    "    is_red = np.array(is_red)\n",
    "    quality = data.pop('quality')\n",
    "    quality = np.array(quality)\n",
    "    return (quality, is_red)"
   ]
  },
  {
   "cell_type": "code",
   "execution_count": 36,
   "metadata": {
    "colab": {},
    "colab_type": "code",
    "deletable": false,
    "id": "8L3ZZe1fQicm",
    "nbgrader": {
     "cell_type": "code",
     "checksum": "7a86809e54895a816434c48dc903f55d",
     "grade": false,
     "grade_id": "cell-5c30fa2c2a354b0f",
     "locked": false,
     "schema_version": 3,
     "solution": true,
     "task": false
    }
   },
   "outputs": [],
   "source": [
    "## Please uncomment all lines in this cell and replace those marked with `# YOUR CODE HERE`.\n",
    "## You can select all lines in this code cell with Ctrl+A (Windows/Linux) or Cmd+A (Mac), then press Ctrl+/ (Windows/Linux) or Cmd+/ (Mac) to uncomment.\n",
    "\n",
    "# # format the output of the train set\n",
    "# train_Y = format_output(# YOUR CODE HERE)\n",
    "train_Y = format_output(train)\n",
    "# # format the output of the val set\n",
    "# val_Y = format_output(# YOUR CODE HERE)\n",
    "val_Y = format_output(val)\n",
    "# # format the output of the test set\n",
    "# test_Y = format_output(# YOUR CODE HERE)\n",
    "test_Y = format_output(test)"
   ]
  },
  {
   "cell_type": "code",
   "execution_count": 37,
   "metadata": {
    "deletable": false,
    "editable": false,
    "nbgrader": {
     "cell_type": "code",
     "checksum": "359cabbafaed14ec9bbc1e57a7b6f32c",
     "grade": true,
     "grade_id": "cell-4977d8befb80f56b",
     "locked": true,
     "points": 1,
     "schema_version": 3,
     "solution": false,
     "task": false
    }
   },
   "outputs": [
    {
     "name": "stdout",
     "output_type": "stream",
     "text": [
      "\u001b[92m All public tests passed\n"
     ]
    }
   ],
   "source": [
    "utils.test_format_output(df, train_Y, val_Y, test_Y)"
   ]
  },
  {
   "cell_type": "markdown",
   "metadata": {},
   "source": [
    "Notice that after you get the labels, the `train`, `val` and `test` dataframes no longer contain the label columns, and contain just the feature columns.\n",
    "- This is because you used `.pop` in the `format_output` function."
   ]
  },
  {
   "cell_type": "code",
   "execution_count": 62,
   "metadata": {},
   "outputs": [
    {
     "name": "stdout",
     "output_type": "stream",
     "text": [
      "(3155,) (3155, 11)\n",
      "5\n",
      "6\n"
     ]
    }
   ],
   "source": [
    "print(train_Y[0].shape,train.shape)\n",
    "print(train_Y[0][0])\n",
    "print(train_Y[0][1])"
   ]
  },
  {
   "cell_type": "markdown",
   "metadata": {
    "colab_type": "text",
    "id": "hEdbrruAsN1D"
   },
   "source": [
    "### Normalize the data (TODO)\n",
    "\n",
    "Next, you can normalize the data, x, using the formula:\n",
    "$$x_{norm} = \\frac{x - \\mu}{\\sigma}$$\n",
    "- The `norm` function is defined for you.\n",
    "- Please apply the `norm` function to normalize the dataframes that contains the feature columns of `train`, `val` and `test` sets."
   ]
  },
  {
   "cell_type": "code",
   "execution_count": 63,
   "metadata": {
    "colab": {},
    "colab_type": "code",
    "id": "WWiZPAHCLjUs"
   },
   "outputs": [],
   "source": [
    "def norm(x):\n",
    "    return (x - train_stats['mean']) / train_stats['std']"
   ]
  },
  {
   "cell_type": "code",
   "execution_count": 64,
   "metadata": {
    "colab": {},
    "colab_type": "code",
    "deletable": false,
    "id": "JEaOi2I2Lk69",
    "nbgrader": {
     "cell_type": "code",
     "checksum": "6bc0cdcb563d192f271067aa3373ff32",
     "grade": false,
     "grade_id": "cell-d8416d975c371095",
     "locked": false,
     "schema_version": 3,
     "solution": true,
     "task": false
    }
   },
   "outputs": [],
   "source": [
    "## Please uncomment all lines in this cell and replace those marked with `# YOUR CODE HERE`.\n",
    "## You can select all lines in this code cell with Ctrl+A (Windows/Linux) or Cmd+A (Mac), then press Ctrl+/ (Windows/Linux) or Cmd+/ (Mac) to uncomment.\n",
    "\n",
    "# Baru Tau kalau misalnya Function di apply ke Data frame satu satu bisa kwkwwk\n",
    "\n",
    "# # normalize the train set\n",
    "# norm_train_X = norm(# YOUR CODE HERE)\n",
    "norm_train_X = norm(train)    \n",
    "# # normalize the val set\n",
    "# norm_val_X = norm(# YOUR CODE HERE)\n",
    "norm_val_X = norm(val)\n",
    "# # normalize the test set\n",
    "# norm_test_X = norm(# YOUR CODE HERE)\n",
    "norm_test_X = norm(test)"
   ]
  },
  {
   "cell_type": "code",
   "execution_count": 65,
   "metadata": {
    "deletable": false,
    "editable": false,
    "nbgrader": {
     "cell_type": "code",
     "checksum": "4f567db45bf40191601780379cc100b8",
     "grade": true,
     "grade_id": "cell-97fad979d157529b",
     "locked": true,
     "points": 1,
     "schema_version": 3,
     "solution": false,
     "task": false
    }
   },
   "outputs": [
    {
     "name": "stdout",
     "output_type": "stream",
     "text": [
      "\u001b[92m All public tests passed\n"
     ]
    }
   ],
   "source": [
    "utils.test_norm(norm_train_X, norm_val_X, norm_test_X, train, val, test)\n"
   ]
  },
  {
   "cell_type": "markdown",
   "metadata": {
    "colab_type": "text",
    "id": "hzykDwQhsaPO"
   },
   "source": [
    "## Define the Model (TODO)\n",
    "\n",
    "Define the model using the functional API. The base model will be 2 `Dense` layers of 128 neurons each, and have the `'relu'` activation.\n",
    "- Check out the documentation for [tf.keras.layers.Dense](https://www.tensorflow.org/api_docs/python/tf/keras/layers/Dense)"
   ]
  },
  {
   "cell_type": "code",
   "execution_count": 78,
   "metadata": {
    "colab": {},
    "colab_type": "code",
    "deletable": false,
    "id": "Rhcns3oTFkM6",
    "nbgrader": {
     "cell_type": "code",
     "checksum": "74b031247e569526552bf13a034a1c07",
     "grade": false,
     "grade_id": "cell-73fceedad1fe351c",
     "locked": false,
     "schema_version": 3,
     "solution": true,
     "task": false
    }
   },
   "outputs": [],
   "source": [
    "## Please uncomment all lines in this cell and replace those marked with `# YOUR CODE HERE`.\n",
    "## You can select all lines in this code cell with Ctrl+A (Windows/Linux) or Cmd+A (Mac), then press Ctrl+/ (Windows/Linux) or Cmd+/ (Mac) to uncomment.\n",
    "\n",
    "\n",
    "\n",
    "def base_model(inputs):\n",
    "    \n",
    "#     # connect a Dense layer with 128 neurons and a relu activation\n",
    "#     x = # YOUR CODE HERE\n",
    "    x = tf.keras.layers.Dense(units=128,activation=tf.nn.relu)(inputs)\n",
    "#     # connect another Dense layer with 128 neurons and a relu activation\n",
    "#     x = # YOUR CODE HERE\n",
    "    x = tf.keras.layers.Dense(units=128,activation=tf.nn.relu)(x)\n",
    "    return x\n",
    "  "
   ]
  },
  {
   "cell_type": "code",
   "execution_count": 79,
   "metadata": {
    "deletable": false,
    "editable": false,
    "nbgrader": {
     "cell_type": "code",
     "checksum": "9255924b3def80f679616e4c851a43e1",
     "grade": true,
     "grade_id": "cell-54f742a133353d75",
     "locked": true,
     "points": 1,
     "schema_version": 3,
     "solution": false,
     "task": false
    }
   },
   "outputs": [
    {
     "name": "stdout",
     "output_type": "stream",
     "text": [
      "\u001b[92m All public tests passed\n"
     ]
    }
   ],
   "source": [
    "utils.test_base_model(base_model)"
   ]
  },
  {
   "cell_type": "markdown",
   "metadata": {
    "colab_type": "text",
    "id": "xem_fcVws6Kz"
   },
   "source": [
    "# Define output layers of the model (TODO)\n",
    "\n",
    "You will add output layers to the base model. \n",
    "- The model will need two outputs.\n",
    "\n",
    "One output layer will predict wine quality, which is a numeric value.\n",
    "- Define a `Dense` layer with 1 neuron.\n",
    "- Since this is a regression output, the activation can be left as its default value `None`.\n",
    "\n",
    "The other output layer will predict the wine type, which is either red `1` or not red `0` (white).\n",
    "- Define a `Dense` layer with 1 neuron.\n",
    "- Since there are two possible categories, you can use a sigmoid activation for binary classification.\n",
    "\n",
    "Define the `Model`\n",
    "- Define the `Model` object, and set the following parameters:\n",
    "  - `inputs`: pass in the inputs to the model as a list.\n",
    "  - `outputs`: pass in a list of the outputs that you just defined: wine quality, then wine type.\n",
    "  - **Note**: please list the wine quality before wine type in the outputs, as this will affect the calculated loss if you choose the other order."
   ]
  },
  {
   "cell_type": "code",
   "execution_count": 86,
   "metadata": {
    "colab": {},
    "colab_type": "code",
    "deletable": false,
    "id": "n5UGF8PMVLPt",
    "nbgrader": {
     "cell_type": "code",
     "checksum": "76d35b90d20cdcbb22986cd8211057de",
     "grade": false,
     "grade_id": "cell-19e285f482f021fb",
     "locked": false,
     "schema_version": 3,
     "solution": true,
     "task": false
    }
   },
   "outputs": [],
   "source": [
    "## Please uncomment all lines in this cell and replace those marked with `# YOUR CODE HERE`.\n",
    "## You can select all lines in this code cell with Ctrl+A (Windows/Linux) or Cmd+A (Mac), then press Ctrl+/ (Windows/Linux) or Cmd+/ (Mac) to uncomment.\n",
    "\n",
    "\n",
    "\n",
    "def final_model(inputs):\n",
    "    \n",
    "#     # get the base model\n",
    "#     x = base_model(inputs)\n",
    "    x = base_model(inputs)\n",
    "#     # connect the output Dense layer for regression\n",
    "#     wine_quality = Dense(units='1', name='wine_quality')(x)\n",
    "    wine_quality = Dense(units= 1, name=\"wine_quality\")(x)\n",
    "#     # connect the output Dense layer for classification. this will use a sigmoid activation.\n",
    "#     wine_type = Dense(units='1', activation=# YOUR CODE HERE, name='wine_type')(x)\n",
    "    wine_type = Dense(units=1,activation='sigmoid',name=\"wine_type\")(x)\n",
    "#     # define the model using the input and output layers\n",
    "#     model = Model(inputs=# YOUR CODE HERE, outputs=# YOUR CODE HERE)\n",
    "    model = Model(inputs= inputs, outputs=[wine_quality,wine_type])\n",
    "      \n",
    "    return model"
   ]
  },
  {
   "cell_type": "code",
   "execution_count": 87,
   "metadata": {
    "deletable": false,
    "editable": false,
    "nbgrader": {
     "cell_type": "code",
     "checksum": "89cbf89d8ab5e2e59ecf7f63f517520a",
     "grade": true,
     "grade_id": "cell-40d050f855c817d1",
     "locked": true,
     "points": 1,
     "schema_version": 3,
     "solution": false,
     "task": false
    }
   },
   "outputs": [
    {
     "name": "stdout",
     "output_type": "stream",
     "text": [
      "\u001b[92m All public tests passed\n"
     ]
    }
   ],
   "source": [
    "utils.test_final_model(final_model)"
   ]
  },
  {
   "cell_type": "markdown",
   "metadata": {
    "colab_type": "text",
    "id": "5R0BMTsltZyu"
   },
   "source": [
    "## Compiling the Model\n",
    "\n",
    "Next, compile the model. When setting the loss parameter of `model.compile`, you're setting the loss for each of the two outputs (wine quality and wine type).\n",
    "\n",
    "To set more than one loss, use a dictionary of key-value pairs.\n",
    "- You can look at the docs for the losses [here](https://www.tensorflow.org/api_docs/python/tf/keras/losses#functions).\n",
    "    - **Note**: For the desired spelling, please look at the \"Functions\" section of the documentation and not the \"classes\" section on that same page.\n",
    "- wine_type: Since you will be performing binary classification on wine type, you should use the binary crossentropy loss function for it.  Please pass this in as a string.  \n",
    "  - **Hint**, this should be all lowercase.  In the documentation, you'll see this under the \"Functions\" section, not the \"Classes\" section.\n",
    "- wine_quality: since this is a regression output, use the mean squared error.  Please pass it in as a string, all lowercase.\n",
    "  - **Hint**: You may notice that there are two aliases for mean squared error.  Please use the shorter name.\n",
    "\n",
    "\n",
    "You will also set the metric for each of the two outputs.  Again, to set metrics for two or more outputs, use a dictionary with key value pairs.\n",
    "- The metrics documentation is linked [here](https://www.tensorflow.org/api_docs/python/tf/keras/metrics).\n",
    "- For the wine type, please set it to accuracy as a string, all lowercase.\n",
    "- For wine quality, please use the root mean squared error.  Instead of a string, you'll set it to an instance of the class [RootMeanSquaredError](https://www.tensorflow.org/api_docs/python/tf/keras/metrics/RootMeanSquaredError), which belongs to the tf.keras.metrics module.\n",
    "\n",
    "**Note**: If you see the error message \n",
    ">Exception: wine quality loss function is incorrect.\n",
    "\n",
    "- Please also check your other losses and metrics, as the error may be caused by the other three key-value pairs and not the wine quality loss."
   ]
  },
  {
   "cell_type": "code",
   "execution_count": 103,
   "metadata": {
    "colab": {},
    "colab_type": "code",
    "deletable": false,
    "id": "LK11duUbUjmh",
    "nbgrader": {
     "cell_type": "code",
     "checksum": "22f45067ca69eb2ccadb43874dbcc27b",
     "grade": false,
     "grade_id": "cell-81afdc4dcca51d5e",
     "locked": false,
     "schema_version": 3,
     "solution": true,
     "task": false
    }
   },
   "outputs": [],
   "source": [
    "## Please uncomment all lines in this cell and replace those marked with `# YOUR CODE HERE`.\n",
    "## You can select all lines in this code cell with Ctrl+A (Windows/Linux) or Cmd+A (Mac), then press Ctrl+/ (Windows/Linux) or Cmd+/ (Mac) to uncomment.\n",
    "\n",
    "\n",
    "\n",
    "# inputs = tf.keras.layers.Input(shape=(11,))\n",
    "# rms = tf.keras.optimizers.RMSprop(lr=0.0001)\n",
    "# model = final_model(inputs)\n",
    "\n",
    "inputs = tf.keras.layers.Input(shape=(11,))\n",
    "rms = tf.keras.optimizers.RMSprop(lr=0.0001)\n",
    "model = final_model(inputs)\n",
    "model.compile(optimizer=rms,\n",
    "             loss = {\"wine_type\":tf.keras.losses.BinaryCrossentropy(),\n",
    "                     \"wine_quality\":tf.keras.losses.MeanSquaredError()},\n",
    "             metrics={\"wine_type\":tf.keras.metrics.BinaryAccuracy(),\n",
    "                     \"wine_quality\":tf.keras.metrics.RootMeanSquaredError()})\n",
    "# model.compile(optimizer=rms, \n",
    "#               loss = {'wine_type' : # YOUR CODE HERE,\n",
    "#                       'wine_quality' : # YOUR CODE HERE\n",
    "#                      },\n",
    "#               metrics = {'wine_type' : # YOUR CODE HERE,\n",
    "#                          'wine_quality': # YOUR CODE HERE\n",
    "#                        }\n",
    "#              )\n"
   ]
  },
  {
   "cell_type": "code",
   "execution_count": 104,
   "metadata": {
    "deletable": false,
    "editable": false,
    "nbgrader": {
     "cell_type": "code",
     "checksum": "88e02238ea5e456ff65e835cc8158054",
     "grade": true,
     "grade_id": "cell-2eeeba02391c4632",
     "locked": true,
     "points": 1,
     "schema_version": 3,
     "solution": false,
     "task": false
    }
   },
   "outputs": [
    {
     "name": "stdout",
     "output_type": "stream",
     "text": [
      "\u001b[92m All public tests passed\n"
     ]
    }
   ],
   "source": [
    "utils.test_model_compile(model)"
   ]
  },
  {
   "cell_type": "markdown",
   "metadata": {
    "colab_type": "text",
    "id": "90MpAMpWuKm-"
   },
   "source": [
    "## Training the Model\n",
    "\n",
    "Fit the model to the training inputs and outputs. \n",
    "- Check the documentation for [model.fit](https://www.tensorflow.org/api_docs/python/tf/keras/Model#fit).\n",
    "- Remember to use the normalized training set as inputs. \n",
    "- For the validation data, please use the normalized validation set."
   ]
  },
  {
   "cell_type": "code",
   "execution_count": 105,
   "metadata": {
    "colab": {},
    "colab_type": "code",
    "deletable": false,
    "id": "_eiZkle4XwiY",
    "nbgrader": {
     "cell_type": "code",
     "checksum": "2ca7664be03bfd6fd3651ae44d17b793",
     "grade": false,
     "grade_id": "cell-0bb56262896f6680",
     "locked": false,
     "schema_version": 3,
     "solution": true,
     "task": false
    }
   },
   "outputs": [
    {
     "name": "stdout",
     "output_type": "stream",
     "text": [
      "Train on 3155 samples, validate on 789 samples\n",
      "Epoch 1/180\n",
      "3155/3155 [==============================] - 1s 338us/sample - loss: 25.6262 - wine_quality_loss: 24.9628 - wine_type_loss: 0.6413 - wine_quality_root_mean_squared_error: 4.9985 - wine_type_binary_accuracy: 0.7823 - val_loss: 17.6612 - val_wine_quality_loss: 17.0650 - val_wine_type_loss: 0.6194 - val_wine_quality_root_mean_squared_error: 4.1282 - val_wine_type_binary_accuracy: 0.8188\n",
      "Epoch 2/180\n",
      "3155/3155 [==============================] - 0s 97us/sample - loss: 11.4335 - wine_quality_loss: 10.8275 - wine_type_loss: 0.5845 - wine_quality_root_mean_squared_error: 3.2938 - wine_type_binary_accuracy: 0.8716 - val_loss: 6.5622 - val_wine_quality_loss: 6.1084 - val_wine_type_loss: 0.5433 - val_wine_quality_root_mean_squared_error: 2.4533 - val_wine_type_binary_accuracy: 0.8758\n",
      "Epoch 3/180\n",
      "3155/3155 [==============================] - 0s 94us/sample - loss: 4.3959 - wine_quality_loss: 3.8980 - wine_type_loss: 0.4914 - wine_quality_root_mean_squared_error: 1.9759 - wine_type_binary_accuracy: 0.8716 - val_loss: 3.3212 - val_wine_quality_loss: 2.9775 - val_wine_type_loss: 0.4425 - val_wine_quality_root_mean_squared_error: 1.6967 - val_wine_type_binary_accuracy: 0.8745\n",
      "Epoch 4/180\n",
      "3155/3155 [==============================] - 0s 94us/sample - loss: 2.9043 - wine_quality_loss: 2.5134 - wine_type_loss: 0.3878 - wine_quality_root_mean_squared_error: 1.5863 - wine_type_binary_accuracy: 0.9036 - val_loss: 2.6715 - val_wine_quality_loss: 2.3924 - val_wine_type_loss: 0.3448 - val_wine_quality_root_mean_squared_error: 1.5254 - val_wine_type_binary_accuracy: 0.9316\n",
      "Epoch 5/180\n",
      "3155/3155 [==============================] - 0s 94us/sample - loss: 2.3688 - wine_quality_loss: 2.0695 - wine_type_loss: 0.3004 - wine_quality_root_mean_squared_error: 1.4382 - wine_type_binary_accuracy: 0.9559 - val_loss: 2.2442 - val_wine_quality_loss: 2.0183 - val_wine_type_loss: 0.2688 - val_wine_quality_root_mean_squared_error: 1.4055 - val_wine_type_binary_accuracy: 0.9670\n",
      "Epoch 6/180\n",
      "3155/3155 [==============================] - 0s 77us/sample - loss: 2.0262 - wine_quality_loss: 1.7878 - wine_type_loss: 0.2359 - wine_quality_root_mean_squared_error: 1.3381 - wine_type_binary_accuracy: 0.9727 - val_loss: 1.9408 - val_wine_quality_loss: 1.7571 - val_wine_type_loss: 0.2128 - val_wine_quality_root_mean_squared_error: 1.3145 - val_wine_type_binary_accuracy: 0.9810\n",
      "Epoch 7/180\n",
      "3155/3155 [==============================] - 0s 91us/sample - loss: 1.7830 - wine_quality_loss: 1.5939 - wine_type_loss: 0.1882 - wine_quality_root_mean_squared_error: 1.2627 - wine_type_binary_accuracy: 0.9832 - val_loss: 1.7251 - val_wine_quality_loss: 1.5730 - val_wine_type_loss: 0.1711 - val_wine_quality_root_mean_squared_error: 1.2465 - val_wine_type_binary_accuracy: 0.9848\n",
      "Epoch 8/180\n",
      "3155/3155 [==============================] - 0s 92us/sample - loss: 1.5925 - wine_quality_loss: 1.4382 - wine_type_loss: 0.1524 - wine_quality_root_mean_squared_error: 1.1999 - wine_type_binary_accuracy: 0.9848 - val_loss: 1.5534 - val_wine_quality_loss: 1.4245 - val_wine_type_loss: 0.1397 - val_wine_quality_root_mean_squared_error: 1.1889 - val_wine_type_binary_accuracy: 0.9886\n",
      "Epoch 9/180\n",
      "3155/3155 [==============================] - 0s 90us/sample - loss: 1.4442 - wine_quality_loss: 1.3146 - wine_type_loss: 0.1265 - wine_quality_root_mean_squared_error: 1.1478 - wine_type_binary_accuracy: 0.9864 - val_loss: 1.4172 - val_wine_quality_loss: 1.3067 - val_wine_type_loss: 0.1173 - val_wine_quality_root_mean_squared_error: 1.1400 - val_wine_type_binary_accuracy: 0.9886\n",
      "Epoch 10/180\n",
      "3155/3155 [==============================] - 0s 76us/sample - loss: 1.3223 - wine_quality_loss: 1.2155 - wine_type_loss: 0.1073 - wine_quality_root_mean_squared_error: 1.1022 - wine_type_binary_accuracy: 0.9873 - val_loss: 1.2929 - val_wine_quality_loss: 1.1981 - val_wine_type_loss: 0.1000 - val_wine_quality_root_mean_squared_error: 1.0921 - val_wine_type_binary_accuracy: 0.9886\n",
      "Epoch 11/180\n",
      "3155/3155 [==============================] - 0s 92us/sample - loss: 1.2168 - wine_quality_loss: 1.1233 - wine_type_loss: 0.0928 - wine_quality_root_mean_squared_error: 1.0601 - wine_type_binary_accuracy: 0.9880 - val_loss: 1.1925 - val_wine_quality_loss: 1.1083 - val_wine_type_loss: 0.0866 - val_wine_quality_root_mean_squared_error: 1.0515 - val_wine_type_binary_accuracy: 0.9886\n",
      "Epoch 12/180\n",
      "3155/3155 [==============================] - 0s 92us/sample - loss: 1.1277 - wine_quality_loss: 1.0440 - wine_type_loss: 0.0818 - wine_quality_root_mean_squared_error: 1.0227 - wine_type_binary_accuracy: 0.9883 - val_loss: 1.1112 - val_wine_quality_loss: 1.0353 - val_wine_type_loss: 0.0768 - val_wine_quality_root_mean_squared_error: 1.0169 - val_wine_type_binary_accuracy: 0.9886\n",
      "Epoch 13/180\n",
      "3155/3155 [==============================] - 0s 93us/sample - loss: 1.0492 - wine_quality_loss: 0.9761 - wine_type_loss: 0.0734 - wine_quality_root_mean_squared_error: 0.9878 - wine_type_binary_accuracy: 0.9886 - val_loss: 1.0232 - val_wine_quality_loss: 0.9549 - val_wine_type_loss: 0.0691 - val_wine_quality_root_mean_squared_error: 0.9766 - val_wine_type_binary_accuracy: 0.9886\n",
      "Epoch 14/180\n",
      "3155/3155 [==============================] - 0s 93us/sample - loss: 0.9797 - wine_quality_loss: 0.9114 - wine_type_loss: 0.0671 - wine_quality_root_mean_squared_error: 0.9553 - wine_type_binary_accuracy: 0.9886 - val_loss: 0.9508 - val_wine_quality_loss: 0.8881 - val_wine_type_loss: 0.0630 - val_wine_quality_root_mean_squared_error: 0.9421 - val_wine_type_binary_accuracy: 0.9899\n",
      "Epoch 15/180\n",
      "3155/3155 [==============================] - 0s 92us/sample - loss: 0.9167 - wine_quality_loss: 0.8562 - wine_type_loss: 0.0616 - wine_quality_root_mean_squared_error: 0.9247 - wine_type_binary_accuracy: 0.9895 - val_loss: 0.8986 - val_wine_quality_loss: 0.8398 - val_wine_type_loss: 0.0585 - val_wine_quality_root_mean_squared_error: 0.9164 - val_wine_type_binary_accuracy: 0.9911\n",
      "Epoch 16/180\n",
      "3155/3155 [==============================] - 0s 91us/sample - loss: 0.8589 - wine_quality_loss: 0.8030 - wine_type_loss: 0.0575 - wine_quality_root_mean_squared_error: 0.8952 - wine_type_binary_accuracy: 0.9899 - val_loss: 0.8387 - val_wine_quality_loss: 0.7837 - val_wine_type_loss: 0.0546 - val_wine_quality_root_mean_squared_error: 0.8853 - val_wine_type_binary_accuracy: 0.9924\n",
      "Epoch 17/180\n",
      "3155/3155 [==============================] - 0s 76us/sample - loss: 0.8071 - wine_quality_loss: 0.7532 - wine_type_loss: 0.0541 - wine_quality_root_mean_squared_error: 0.8677 - wine_type_binary_accuracy: 0.9899 - val_loss: 0.7805 - val_wine_quality_loss: 0.7288 - val_wine_type_loss: 0.0512 - val_wine_quality_root_mean_squared_error: 0.8537 - val_wine_type_binary_accuracy: 0.9924\n",
      "Epoch 18/180\n",
      "3155/3155 [==============================] - 0s 91us/sample - loss: 0.7607 - wine_quality_loss: 0.7083 - wine_type_loss: 0.0513 - wine_quality_root_mean_squared_error: 0.8422 - wine_type_binary_accuracy: 0.9908 - val_loss: 0.7357 - val_wine_quality_loss: 0.6865 - val_wine_type_loss: 0.0486 - val_wine_quality_root_mean_squared_error: 0.8287 - val_wine_type_binary_accuracy: 0.9924\n",
      "Epoch 19/180\n",
      "3155/3155 [==============================] - 0s 93us/sample - loss: 0.7193 - wine_quality_loss: 0.6724 - wine_type_loss: 0.0488 - wine_quality_root_mean_squared_error: 0.8188 - wine_type_binary_accuracy: 0.9908 - val_loss: 0.6931 - val_wine_quality_loss: 0.6461 - val_wine_type_loss: 0.0462 - val_wine_quality_root_mean_squared_error: 0.8041 - val_wine_type_binary_accuracy: 0.9924\n",
      "Epoch 20/180\n",
      "3155/3155 [==============================] - 0s 93us/sample - loss: 0.6802 - wine_quality_loss: 0.6339 - wine_type_loss: 0.0468 - wine_quality_root_mean_squared_error: 0.7958 - wine_type_binary_accuracy: 0.9908 - val_loss: 0.6626 - val_wine_quality_loss: 0.6166 - val_wine_type_loss: 0.0445 - val_wine_quality_root_mean_squared_error: 0.7860 - val_wine_type_binary_accuracy: 0.9924\n",
      "Epoch 21/180\n",
      "3155/3155 [==============================] - 0s 74us/sample - loss: 0.6450 - wine_quality_loss: 0.6002 - wine_type_loss: 0.0451 - wine_quality_root_mean_squared_error: 0.7744 - wine_type_binary_accuracy: 0.9911 - val_loss: 0.6245 - val_wine_quality_loss: 0.5805 - val_wine_type_loss: 0.0428 - val_wine_quality_root_mean_squared_error: 0.7625 - val_wine_type_binary_accuracy: 0.9924\n",
      "Epoch 22/180\n",
      "3155/3155 [==============================] - 0s 110us/sample - loss: 0.6152 - wine_quality_loss: 0.5710 - wine_type_loss: 0.0436 - wine_quality_root_mean_squared_error: 0.7559 - wine_type_binary_accuracy: 0.9914 - val_loss: 0.5996 - val_wine_quality_loss: 0.5568 - val_wine_type_loss: 0.0416 - val_wine_quality_root_mean_squared_error: 0.7467 - val_wine_type_binary_accuracy: 0.9924\n",
      "Epoch 23/180\n",
      "3155/3155 [==============================] - 0s 79us/sample - loss: 0.5871 - wine_quality_loss: 0.5438 - wine_type_loss: 0.0424 - wine_quality_root_mean_squared_error: 0.7380 - wine_type_binary_accuracy: 0.9918 - val_loss: 0.5767 - val_wine_quality_loss: 0.5343 - val_wine_type_loss: 0.0403 - val_wine_quality_root_mean_squared_error: 0.7321 - val_wine_type_binary_accuracy: 0.9937\n",
      "Epoch 24/180\n",
      "3155/3155 [==============================] - 0s 95us/sample - loss: 0.5634 - wine_quality_loss: 0.5225 - wine_type_loss: 0.0413 - wine_quality_root_mean_squared_error: 0.7225 - wine_type_binary_accuracy: 0.9918 - val_loss: 0.5405 - val_wine_quality_loss: 0.4996 - val_wine_type_loss: 0.0394 - val_wine_quality_root_mean_squared_error: 0.7076 - val_wine_type_binary_accuracy: 0.9937\n",
      "Epoch 25/180\n",
      "3155/3155 [==============================] - 0s 93us/sample - loss: 0.5384 - wine_quality_loss: 0.4977 - wine_type_loss: 0.0404 - wine_quality_root_mean_squared_error: 0.7057 - wine_type_binary_accuracy: 0.9921 - val_loss: 0.5242 - val_wine_quality_loss: 0.4839 - val_wine_type_loss: 0.0386 - val_wine_quality_root_mean_squared_error: 0.6965 - val_wine_type_binary_accuracy: 0.9937\n",
      "Epoch 26/180\n",
      "3155/3155 [==============================] - 0s 90us/sample - loss: 0.5190 - wine_quality_loss: 0.4807 - wine_type_loss: 0.0395 - wine_quality_root_mean_squared_error: 0.6924 - wine_type_binary_accuracy: 0.9924 - val_loss: 0.5001 - val_wine_quality_loss: 0.4607 - val_wine_type_loss: 0.0378 - val_wine_quality_root_mean_squared_error: 0.6796 - val_wine_type_binary_accuracy: 0.9949\n",
      "Epoch 27/180\n",
      "3155/3155 [==============================] - 0s 89us/sample - loss: 0.4992 - wine_quality_loss: 0.4611 - wine_type_loss: 0.0390 - wine_quality_root_mean_squared_error: 0.6786 - wine_type_binary_accuracy: 0.9927 - val_loss: 0.4771 - val_wine_quality_loss: 0.4384 - val_wine_type_loss: 0.0372 - val_wine_quality_root_mean_squared_error: 0.6629 - val_wine_type_binary_accuracy: 0.9949\n",
      "Epoch 28/180\n",
      "3155/3155 [==============================] - 0s 78us/sample - loss: 0.4826 - wine_quality_loss: 0.4440 - wine_type_loss: 0.0382 - wine_quality_root_mean_squared_error: 0.6667 - wine_type_binary_accuracy: 0.9927 - val_loss: 0.4634 - val_wine_quality_loss: 0.4256 - val_wine_type_loss: 0.0366 - val_wine_quality_root_mean_squared_error: 0.6530 - val_wine_type_binary_accuracy: 0.9949\n",
      "Epoch 29/180\n",
      "3155/3155 [==============================] - 0s 91us/sample - loss: 0.4657 - wine_quality_loss: 0.4275 - wine_type_loss: 0.0372 - wine_quality_root_mean_squared_error: 0.6545 - wine_type_binary_accuracy: 0.9927 - val_loss: 0.4572 - val_wine_quality_loss: 0.4195 - val_wine_type_loss: 0.0359 - val_wine_quality_root_mean_squared_error: 0.6488 - val_wine_type_binary_accuracy: 0.9949\n",
      "Epoch 30/180\n",
      "3155/3155 [==============================] - 0s 92us/sample - loss: 0.4515 - wine_quality_loss: 0.4140 - wine_type_loss: 0.0368 - wine_quality_root_mean_squared_error: 0.6440 - wine_type_binary_accuracy: 0.9924 - val_loss: 0.4544 - val_wine_quality_loss: 0.4175 - val_wine_type_loss: 0.0357 - val_wine_quality_root_mean_squared_error: 0.6467 - val_wine_type_binary_accuracy: 0.9949\n",
      "Epoch 31/180\n",
      "3155/3155 [==============================] - 0s 90us/sample - loss: 0.4393 - wine_quality_loss: 0.4031 - wine_type_loss: 0.0363 - wine_quality_root_mean_squared_error: 0.6348 - wine_type_binary_accuracy: 0.9927 - val_loss: 0.4359 - val_wine_quality_loss: 0.4000 - val_wine_type_loss: 0.0351 - val_wine_quality_root_mean_squared_error: 0.6328 - val_wine_type_binary_accuracy: 0.9949\n",
      "Epoch 32/180\n",
      "3155/3155 [==============================] - 0s 88us/sample - loss: 0.4292 - wine_quality_loss: 0.3932 - wine_type_loss: 0.0357 - wine_quality_root_mean_squared_error: 0.6273 - wine_type_binary_accuracy: 0.9924 - val_loss: 0.4190 - val_wine_quality_loss: 0.3826 - val_wine_type_loss: 0.0347 - val_wine_quality_root_mean_squared_error: 0.6196 - val_wine_type_binary_accuracy: 0.9949\n",
      "Epoch 33/180\n",
      "3155/3155 [==============================] - 0s 76us/sample - loss: 0.4191 - wine_quality_loss: 0.3844 - wine_type_loss: 0.0352 - wine_quality_root_mean_squared_error: 0.6195 - wine_type_binary_accuracy: 0.9924 - val_loss: 0.4125 - val_wine_quality_loss: 0.3766 - val_wine_type_loss: 0.0343 - val_wine_quality_root_mean_squared_error: 0.6147 - val_wine_type_binary_accuracy: 0.9949\n",
      "Epoch 34/180\n",
      "3155/3155 [==============================] - 0s 91us/sample - loss: 0.4099 - wine_quality_loss: 0.3750 - wine_type_loss: 0.0346 - wine_quality_root_mean_squared_error: 0.6125 - wine_type_binary_accuracy: 0.9933 - val_loss: 0.4117 - val_wine_quality_loss: 0.3762 - val_wine_type_loss: 0.0340 - val_wine_quality_root_mean_squared_error: 0.6143 - val_wine_type_binary_accuracy: 0.9949\n",
      "Epoch 35/180\n",
      "3155/3155 [==============================] - 0s 91us/sample - loss: 0.4041 - wine_quality_loss: 0.3689 - wine_type_loss: 0.0342 - wine_quality_root_mean_squared_error: 0.6081 - wine_type_binary_accuracy: 0.9933 - val_loss: 0.3980 - val_wine_quality_loss: 0.3628 - val_wine_type_loss: 0.0336 - val_wine_quality_root_mean_squared_error: 0.6033 - val_wine_type_binary_accuracy: 0.9949\n",
      "Epoch 36/180\n",
      "3155/3155 [==============================] - 0s 92us/sample - loss: 0.3965 - wine_quality_loss: 0.3624 - wine_type_loss: 0.0338 - wine_quality_root_mean_squared_error: 0.6022 - wine_type_binary_accuracy: 0.9937 - val_loss: 0.3848 - val_wine_quality_loss: 0.3501 - val_wine_type_loss: 0.0334 - val_wine_quality_root_mean_squared_error: 0.5925 - val_wine_type_binary_accuracy: 0.9949\n",
      "Epoch 37/180\n",
      "3155/3155 [==============================] - 0s 76us/sample - loss: 0.3894 - wine_quality_loss: 0.3557 - wine_type_loss: 0.0334 - wine_quality_root_mean_squared_error: 0.5965 - wine_type_binary_accuracy: 0.9937 - val_loss: 0.3824 - val_wine_quality_loss: 0.3479 - val_wine_type_loss: 0.0331 - val_wine_quality_root_mean_squared_error: 0.5907 - val_wine_type_binary_accuracy: 0.9949\n",
      "Epoch 38/180\n",
      "3155/3155 [==============================] - 0s 93us/sample - loss: 0.3847 - wine_quality_loss: 0.3523 - wine_type_loss: 0.0332 - wine_quality_root_mean_squared_error: 0.5929 - wine_type_binary_accuracy: 0.9940 - val_loss: 0.3777 - val_wine_quality_loss: 0.3434 - val_wine_type_loss: 0.0329 - val_wine_quality_root_mean_squared_error: 0.5869 - val_wine_type_binary_accuracy: 0.9949\n",
      "Epoch 39/180\n",
      "3155/3155 [==============================] - 0s 95us/sample - loss: 0.3794 - wine_quality_loss: 0.3470 - wine_type_loss: 0.0327 - wine_quality_root_mean_squared_error: 0.5888 - wine_type_binary_accuracy: 0.9940 - val_loss: 0.3768 - val_wine_quality_loss: 0.3427 - val_wine_type_loss: 0.0328 - val_wine_quality_root_mean_squared_error: 0.5862 - val_wine_type_binary_accuracy: 0.9949\n",
      "Epoch 40/180\n",
      "3155/3155 [==============================] - 0s 92us/sample - loss: 0.3751 - wine_quality_loss: 0.3420 - wine_type_loss: 0.0323 - wine_quality_root_mean_squared_error: 0.5853 - wine_type_binary_accuracy: 0.9940 - val_loss: 0.3755 - val_wine_quality_loss: 0.3420 - val_wine_type_loss: 0.0325 - val_wine_quality_root_mean_squared_error: 0.5854 - val_wine_type_binary_accuracy: 0.9949\n",
      "Epoch 41/180\n",
      "3155/3155 [==============================] - 0s 91us/sample - loss: 0.3716 - wine_quality_loss: 0.3394 - wine_type_loss: 0.0320 - wine_quality_root_mean_squared_error: 0.5827 - wine_type_binary_accuracy: 0.9943 - val_loss: 0.3728 - val_wine_quality_loss: 0.3395 - val_wine_type_loss: 0.0323 - val_wine_quality_root_mean_squared_error: 0.5832 - val_wine_type_binary_accuracy: 0.9949\n",
      "Epoch 42/180\n",
      "3155/3155 [==============================] - 0s 91us/sample - loss: 0.3674 - wine_quality_loss: 0.3355 - wine_type_loss: 0.0319 - wine_quality_root_mean_squared_error: 0.5793 - wine_type_binary_accuracy: 0.9946 - val_loss: 0.3672 - val_wine_quality_loss: 0.3338 - val_wine_type_loss: 0.0319 - val_wine_quality_root_mean_squared_error: 0.5787 - val_wine_type_binary_accuracy: 0.9949\n",
      "Epoch 43/180\n",
      "3155/3155 [==============================] - 0s 74us/sample - loss: 0.3631 - wine_quality_loss: 0.3321 - wine_type_loss: 0.0315 - wine_quality_root_mean_squared_error: 0.5758 - wine_type_binary_accuracy: 0.9943 - val_loss: 0.3619 - val_wine_quality_loss: 0.3291 - val_wine_type_loss: 0.0318 - val_wine_quality_root_mean_squared_error: 0.5742 - val_wine_type_binary_accuracy: 0.9949\n",
      "Epoch 44/180\n",
      "3155/3155 [==============================] - 0s 93us/sample - loss: 0.3613 - wine_quality_loss: 0.3302 - wine_type_loss: 0.0311 - wine_quality_root_mean_squared_error: 0.5745 - wine_type_binary_accuracy: 0.9943 - val_loss: 0.3597 - val_wine_quality_loss: 0.3270 - val_wine_type_loss: 0.0316 - val_wine_quality_root_mean_squared_error: 0.5725 - val_wine_type_binary_accuracy: 0.9949\n",
      "Epoch 45/180\n",
      "3155/3155 [==============================] - 0s 94us/sample - loss: 0.3586 - wine_quality_loss: 0.3277 - wine_type_loss: 0.0308 - wine_quality_root_mean_squared_error: 0.5724 - wine_type_binary_accuracy: 0.9946 - val_loss: 0.3616 - val_wine_quality_loss: 0.3285 - val_wine_type_loss: 0.0316 - val_wine_quality_root_mean_squared_error: 0.5742 - val_wine_type_binary_accuracy: 0.9949\n",
      "Epoch 46/180\n",
      "3155/3155 [==============================] - 0s 90us/sample - loss: 0.3549 - wine_quality_loss: 0.3243 - wine_type_loss: 0.0306 - wine_quality_root_mean_squared_error: 0.5694 - wine_type_binary_accuracy: 0.9946 - val_loss: 0.3583 - val_wine_quality_loss: 0.3257 - val_wine_type_loss: 0.0314 - val_wine_quality_root_mean_squared_error: 0.5714 - val_wine_type_binary_accuracy: 0.9949\n",
      "Epoch 47/180\n",
      "3155/3155 [==============================] - 0s 91us/sample - loss: 0.3522 - wine_quality_loss: 0.3214 - wine_type_loss: 0.0304 - wine_quality_root_mean_squared_error: 0.5672 - wine_type_binary_accuracy: 0.9946 - val_loss: 0.3584 - val_wine_quality_loss: 0.3258 - val_wine_type_loss: 0.0313 - val_wine_quality_root_mean_squared_error: 0.5715 - val_wine_type_binary_accuracy: 0.9949\n",
      "Epoch 48/180\n",
      "3155/3155 [==============================] - 0s 77us/sample - loss: 0.3519 - wine_quality_loss: 0.3221 - wine_type_loss: 0.0303 - wine_quality_root_mean_squared_error: 0.5672 - wine_type_binary_accuracy: 0.9946 - val_loss: 0.3538 - val_wine_quality_loss: 0.3215 - val_wine_type_loss: 0.0312 - val_wine_quality_root_mean_squared_error: 0.5676 - val_wine_type_binary_accuracy: 0.9949\n",
      "Epoch 49/180\n",
      "3155/3155 [==============================] - 0s 90us/sample - loss: 0.3494 - wine_quality_loss: 0.3191 - wine_type_loss: 0.0313 - wine_quality_root_mean_squared_error: 0.5652 - wine_type_binary_accuracy: 0.9946 - val_loss: 0.3510 - val_wine_quality_loss: 0.3192 - val_wine_type_loss: 0.0310 - val_wine_quality_root_mean_squared_error: 0.5654 - val_wine_type_binary_accuracy: 0.9949\n",
      "Epoch 50/180\n",
      "3155/3155 [==============================] - 0s 89us/sample - loss: 0.3460 - wine_quality_loss: 0.3162 - wine_type_loss: 0.0296 - wine_quality_root_mean_squared_error: 0.5624 - wine_type_binary_accuracy: 0.9946 - val_loss: 0.3566 - val_wine_quality_loss: 0.3244 - val_wine_type_loss: 0.0310 - val_wine_quality_root_mean_squared_error: 0.5703 - val_wine_type_binary_accuracy: 0.9949\n",
      "Epoch 51/180\n",
      "3155/3155 [==============================] - 0s 92us/sample - loss: 0.3445 - wine_quality_loss: 0.3149 - wine_type_loss: 0.0296 - wine_quality_root_mean_squared_error: 0.5613 - wine_type_binary_accuracy: 0.9949 - val_loss: 0.3486 - val_wine_quality_loss: 0.3168 - val_wine_type_loss: 0.0309 - val_wine_quality_root_mean_squared_error: 0.5634 - val_wine_type_binary_accuracy: 0.9949\n",
      "Epoch 52/180\n",
      "3155/3155 [==============================] - 0s 93us/sample - loss: 0.3428 - wine_quality_loss: 0.3133 - wine_type_loss: 0.0292 - wine_quality_root_mean_squared_error: 0.5599 - wine_type_binary_accuracy: 0.9946 - val_loss: 0.3491 - val_wine_quality_loss: 0.3175 - val_wine_type_loss: 0.0307 - val_wine_quality_root_mean_squared_error: 0.5640 - val_wine_type_binary_accuracy: 0.9949\n",
      "Epoch 53/180\n",
      "3155/3155 [==============================] - 0s 79us/sample - loss: 0.3412 - wine_quality_loss: 0.3116 - wine_type_loss: 0.0291 - wine_quality_root_mean_squared_error: 0.5587 - wine_type_binary_accuracy: 0.9949 - val_loss: 0.3522 - val_wine_quality_loss: 0.3205 - val_wine_type_loss: 0.0305 - val_wine_quality_root_mean_squared_error: 0.5668 - val_wine_type_binary_accuracy: 0.9949\n",
      "Epoch 54/180\n",
      "3155/3155 [==============================] - 0s 91us/sample - loss: 0.3396 - wine_quality_loss: 0.3108 - wine_type_loss: 0.0287 - wine_quality_root_mean_squared_error: 0.5575 - wine_type_binary_accuracy: 0.9949 - val_loss: 0.3552 - val_wine_quality_loss: 0.3240 - val_wine_type_loss: 0.0304 - val_wine_quality_root_mean_squared_error: 0.5695 - val_wine_type_binary_accuracy: 0.9949\n",
      "Epoch 55/180\n",
      "3155/3155 [==============================] - 0s 92us/sample - loss: 0.3372 - wine_quality_loss: 0.3085 - wine_type_loss: 0.0286 - wine_quality_root_mean_squared_error: 0.5554 - wine_type_binary_accuracy: 0.9952 - val_loss: 0.3611 - val_wine_quality_loss: 0.3295 - val_wine_type_loss: 0.0304 - val_wine_quality_root_mean_squared_error: 0.5747 - val_wine_type_binary_accuracy: 0.9949\n",
      "Epoch 56/180\n",
      "3155/3155 [==============================] - 0s 90us/sample - loss: 0.3368 - wine_quality_loss: 0.3077 - wine_type_loss: 0.0283 - wine_quality_root_mean_squared_error: 0.5554 - wine_type_binary_accuracy: 0.9952 - val_loss: 0.3485 - val_wine_quality_loss: 0.3176 - val_wine_type_loss: 0.0303 - val_wine_quality_root_mean_squared_error: 0.5638 - val_wine_type_binary_accuracy: 0.9949\n",
      "Epoch 57/180\n",
      "3155/3155 [==============================] - 0s 89us/sample - loss: 0.3346 - wine_quality_loss: 0.3063 - wine_type_loss: 0.0281 - wine_quality_root_mean_squared_error: 0.5535 - wine_type_binary_accuracy: 0.9952 - val_loss: 0.3483 - val_wine_quality_loss: 0.3174 - val_wine_type_loss: 0.0302 - val_wine_quality_root_mean_squared_error: 0.5637 - val_wine_type_binary_accuracy: 0.9949\n",
      "Epoch 58/180\n",
      "3155/3155 [==============================] - 0s 78us/sample - loss: 0.3334 - wine_quality_loss: 0.3057 - wine_type_loss: 0.0280 - wine_quality_root_mean_squared_error: 0.5525 - wine_type_binary_accuracy: 0.9952 - val_loss: 0.3492 - val_wine_quality_loss: 0.3181 - val_wine_type_loss: 0.0301 - val_wine_quality_root_mean_squared_error: 0.5645 - val_wine_type_binary_accuracy: 0.9949\n",
      "Epoch 59/180\n",
      "3155/3155 [==============================] - 0s 92us/sample - loss: 0.3328 - wine_quality_loss: 0.3042 - wine_type_loss: 0.0277 - wine_quality_root_mean_squared_error: 0.5522 - wine_type_binary_accuracy: 0.9952 - val_loss: 0.3449 - val_wine_quality_loss: 0.3139 - val_wine_type_loss: 0.0300 - val_wine_quality_root_mean_squared_error: 0.5608 - val_wine_type_binary_accuracy: 0.9949\n",
      "Epoch 60/180\n",
      "3155/3155 [==============================] - 0s 91us/sample - loss: 0.3312 - wine_quality_loss: 0.3035 - wine_type_loss: 0.0276 - wine_quality_root_mean_squared_error: 0.5510 - wine_type_binary_accuracy: 0.9952 - val_loss: 0.3485 - val_wine_quality_loss: 0.3177 - val_wine_type_loss: 0.0298 - val_wine_quality_root_mean_squared_error: 0.5642 - val_wine_type_binary_accuracy: 0.9949\n",
      "Epoch 61/180\n",
      "3155/3155 [==============================] - 0s 90us/sample - loss: 0.3297 - wine_quality_loss: 0.3028 - wine_type_loss: 0.0275 - wine_quality_root_mean_squared_error: 0.5497 - wine_type_binary_accuracy: 0.9952 - val_loss: 0.3493 - val_wine_quality_loss: 0.3187 - val_wine_type_loss: 0.0299 - val_wine_quality_root_mean_squared_error: 0.5649 - val_wine_type_binary_accuracy: 0.9949\n",
      "Epoch 62/180\n",
      "3155/3155 [==============================] - 0s 76us/sample - loss: 0.3299 - wine_quality_loss: 0.3021 - wine_type_loss: 0.0273 - wine_quality_root_mean_squared_error: 0.5500 - wine_type_binary_accuracy: 0.9952 - val_loss: 0.3435 - val_wine_quality_loss: 0.3128 - val_wine_type_loss: 0.0297 - val_wine_quality_root_mean_squared_error: 0.5598 - val_wine_type_binary_accuracy: 0.9949\n",
      "Epoch 63/180\n",
      "3155/3155 [==============================] - 0s 90us/sample - loss: 0.3279 - wine_quality_loss: 0.3003 - wine_type_loss: 0.0271 - wine_quality_root_mean_squared_error: 0.5484 - wine_type_binary_accuracy: 0.9952 - val_loss: 0.3479 - val_wine_quality_loss: 0.3171 - val_wine_type_loss: 0.0297 - val_wine_quality_root_mean_squared_error: 0.5637 - val_wine_type_binary_accuracy: 0.9949\n",
      "Epoch 64/180\n",
      "3155/3155 [==============================] - 0s 91us/sample - loss: 0.3264 - wine_quality_loss: 0.2997 - wine_type_loss: 0.0270 - wine_quality_root_mean_squared_error: 0.5471 - wine_type_binary_accuracy: 0.9952 - val_loss: 0.3410 - val_wine_quality_loss: 0.3105 - val_wine_type_loss: 0.0296 - val_wine_quality_root_mean_squared_error: 0.5576 - val_wine_type_binary_accuracy: 0.9949\n",
      "Epoch 65/180\n",
      "3155/3155 [==============================] - 0s 88us/sample - loss: 0.3259 - wine_quality_loss: 0.2992 - wine_type_loss: 0.0268 - wine_quality_root_mean_squared_error: 0.5469 - wine_type_binary_accuracy: 0.9952 - val_loss: 0.3379 - val_wine_quality_loss: 0.3077 - val_wine_type_loss: 0.0294 - val_wine_quality_root_mean_squared_error: 0.5551 - val_wine_type_binary_accuracy: 0.9949\n",
      "Epoch 66/180\n",
      "3155/3155 [==============================] - 0s 78us/sample - loss: 0.3248 - wine_quality_loss: 0.2976 - wine_type_loss: 0.0267 - wine_quality_root_mean_squared_error: 0.5460 - wine_type_binary_accuracy: 0.9956 - val_loss: 0.3448 - val_wine_quality_loss: 0.3144 - val_wine_type_loss: 0.0293 - val_wine_quality_root_mean_squared_error: 0.5613 - val_wine_type_binary_accuracy: 0.9949\n",
      "Epoch 67/180\n",
      "3155/3155 [==============================] - 0s 92us/sample - loss: 0.3239 - wine_quality_loss: 0.2977 - wine_type_loss: 0.0264 - wine_quality_root_mean_squared_error: 0.5454 - wine_type_binary_accuracy: 0.9956 - val_loss: 0.3407 - val_wine_quality_loss: 0.3104 - val_wine_type_loss: 0.0293 - val_wine_quality_root_mean_squared_error: 0.5577 - val_wine_type_binary_accuracy: 0.9949\n",
      "Epoch 68/180\n",
      "3155/3155 [==============================] - 0s 93us/sample - loss: 0.3227 - wine_quality_loss: 0.2961 - wine_type_loss: 0.0263 - wine_quality_root_mean_squared_error: 0.5444 - wine_type_binary_accuracy: 0.9956 - val_loss: 0.3413 - val_wine_quality_loss: 0.3109 - val_wine_type_loss: 0.0293 - val_wine_quality_root_mean_squared_error: 0.5582 - val_wine_type_binary_accuracy: 0.9949\n",
      "Epoch 69/180\n",
      "3155/3155 [==============================] - 0s 93us/sample - loss: 0.3230 - wine_quality_loss: 0.2963 - wine_type_loss: 0.0261 - wine_quality_root_mean_squared_error: 0.5448 - wine_type_binary_accuracy: 0.9956 - val_loss: 0.3398 - val_wine_quality_loss: 0.3096 - val_wine_type_loss: 0.0292 - val_wine_quality_root_mean_squared_error: 0.5569 - val_wine_type_binary_accuracy: 0.9949\n",
      "Epoch 70/180\n",
      "3155/3155 [==============================] - 0s 93us/sample - loss: 0.3215 - wine_quality_loss: 0.2955 - wine_type_loss: 0.0260 - wine_quality_root_mean_squared_error: 0.5435 - wine_type_binary_accuracy: 0.9956 - val_loss: 0.3477 - val_wine_quality_loss: 0.3176 - val_wine_type_loss: 0.0291 - val_wine_quality_root_mean_squared_error: 0.5641 - val_wine_type_binary_accuracy: 0.9949\n",
      "Epoch 71/180\n",
      "3155/3155 [==============================] - 0s 92us/sample - loss: 0.3201 - wine_quality_loss: 0.2942 - wine_type_loss: 0.0258 - wine_quality_root_mean_squared_error: 0.5424 - wine_type_binary_accuracy: 0.9959 - val_loss: 0.3392 - val_wine_quality_loss: 0.3094 - val_wine_type_loss: 0.0291 - val_wine_quality_root_mean_squared_error: 0.5565 - val_wine_type_binary_accuracy: 0.9949\n",
      "Epoch 72/180\n",
      "3155/3155 [==============================] - 0s 75us/sample - loss: 0.3186 - wine_quality_loss: 0.2924 - wine_type_loss: 0.0257 - wine_quality_root_mean_squared_error: 0.5411 - wine_type_binary_accuracy: 0.9959 - val_loss: 0.3406 - val_wine_quality_loss: 0.3109 - val_wine_type_loss: 0.0291 - val_wine_quality_root_mean_squared_error: 0.5578 - val_wine_type_binary_accuracy: 0.9949\n",
      "Epoch 73/180\n",
      "3155/3155 [==============================] - 0s 78us/sample - loss: 0.3197 - wine_quality_loss: 0.2936 - wine_type_loss: 0.0255 - wine_quality_root_mean_squared_error: 0.5423 - wine_type_binary_accuracy: 0.9959 - val_loss: 0.3471 - val_wine_quality_loss: 0.3171 - val_wine_type_loss: 0.0291 - val_wine_quality_root_mean_squared_error: 0.5636 - val_wine_type_binary_accuracy: 0.9949\n",
      "Epoch 74/180\n",
      "3155/3155 [==============================] - 0s 92us/sample - loss: 0.3167 - wine_quality_loss: 0.2915 - wine_type_loss: 0.0257 - wine_quality_root_mean_squared_error: 0.5396 - wine_type_binary_accuracy: 0.9959 - val_loss: 0.3433 - val_wine_quality_loss: 0.3133 - val_wine_type_loss: 0.0290 - val_wine_quality_root_mean_squared_error: 0.5603 - val_wine_type_binary_accuracy: 0.9949\n",
      "Epoch 75/180\n",
      "3155/3155 [==============================] - 0s 90us/sample - loss: 0.3170 - wine_quality_loss: 0.2917 - wine_type_loss: 0.0253 - wine_quality_root_mean_squared_error: 0.5399 - wine_type_binary_accuracy: 0.9959 - val_loss: 0.3440 - val_wine_quality_loss: 0.3144 - val_wine_type_loss: 0.0290 - val_wine_quality_root_mean_squared_error: 0.5609 - val_wine_type_binary_accuracy: 0.9949\n",
      "Epoch 76/180\n",
      "3155/3155 [==============================] - 0s 74us/sample - loss: 0.3159 - wine_quality_loss: 0.2904 - wine_type_loss: 0.0252 - wine_quality_root_mean_squared_error: 0.5391 - wine_type_binary_accuracy: 0.9959 - val_loss: 0.3459 - val_wine_quality_loss: 0.3161 - val_wine_type_loss: 0.0288 - val_wine_quality_root_mean_squared_error: 0.5628 - val_wine_type_binary_accuracy: 0.9949\n",
      "Epoch 77/180\n",
      "3155/3155 [==============================] - 0s 90us/sample - loss: 0.3151 - wine_quality_loss: 0.2909 - wine_type_loss: 0.0250 - wine_quality_root_mean_squared_error: 0.5386 - wine_type_binary_accuracy: 0.9959 - val_loss: 0.3418 - val_wine_quality_loss: 0.3123 - val_wine_type_loss: 0.0288 - val_wine_quality_root_mean_squared_error: 0.5592 - val_wine_type_binary_accuracy: 0.9949\n",
      "Epoch 78/180\n",
      "3155/3155 [==============================] - 0s 92us/sample - loss: 0.3146 - wine_quality_loss: 0.2901 - wine_type_loss: 0.0249 - wine_quality_root_mean_squared_error: 0.5382 - wine_type_binary_accuracy: 0.9959 - val_loss: 0.3493 - val_wine_quality_loss: 0.3194 - val_wine_type_loss: 0.0288 - val_wine_quality_root_mean_squared_error: 0.5658 - val_wine_type_binary_accuracy: 0.9949\n",
      "Epoch 79/180\n",
      "3155/3155 [==============================] - 0s 89us/sample - loss: 0.3131 - wine_quality_loss: 0.2886 - wine_type_loss: 0.0247 - wine_quality_root_mean_squared_error: 0.5370 - wine_type_binary_accuracy: 0.9959 - val_loss: 0.3504 - val_wine_quality_loss: 0.3209 - val_wine_type_loss: 0.0287 - val_wine_quality_root_mean_squared_error: 0.5668 - val_wine_type_binary_accuracy: 0.9949\n",
      "Epoch 80/180\n",
      "3155/3155 [==============================] - 0s 76us/sample - loss: 0.3124 - wine_quality_loss: 0.2876 - wine_type_loss: 0.0246 - wine_quality_root_mean_squared_error: 0.5364 - wine_type_binary_accuracy: 0.9959 - val_loss: 0.3369 - val_wine_quality_loss: 0.3076 - val_wine_type_loss: 0.0287 - val_wine_quality_root_mean_squared_error: 0.5548 - val_wine_type_binary_accuracy: 0.9949\n",
      "Epoch 81/180\n",
      "3155/3155 [==============================] - 0s 91us/sample - loss: 0.3128 - wine_quality_loss: 0.2885 - wine_type_loss: 0.0245 - wine_quality_root_mean_squared_error: 0.5368 - wine_type_binary_accuracy: 0.9959 - val_loss: 0.3429 - val_wine_quality_loss: 0.3137 - val_wine_type_loss: 0.0286 - val_wine_quality_root_mean_squared_error: 0.5603 - val_wine_type_binary_accuracy: 0.9949\n",
      "Epoch 82/180\n",
      "3155/3155 [==============================] - 0s 91us/sample - loss: 0.3112 - wine_quality_loss: 0.2871 - wine_type_loss: 0.0244 - wine_quality_root_mean_squared_error: 0.5355 - wine_type_binary_accuracy: 0.9959 - val_loss: 0.3402 - val_wine_quality_loss: 0.3111 - val_wine_type_loss: 0.0286 - val_wine_quality_root_mean_squared_error: 0.5578 - val_wine_type_binary_accuracy: 0.9949\n",
      "Epoch 83/180\n",
      "3155/3155 [==============================] - 0s 92us/sample - loss: 0.3105 - wine_quality_loss: 0.2867 - wine_type_loss: 0.0242 - wine_quality_root_mean_squared_error: 0.5350 - wine_type_binary_accuracy: 0.9959 - val_loss: 0.3408 - val_wine_quality_loss: 0.3116 - val_wine_type_loss: 0.0285 - val_wine_quality_root_mean_squared_error: 0.5586 - val_wine_type_binary_accuracy: 0.9949\n",
      "Epoch 84/180\n",
      "3155/3155 [==============================] - 0s 93us/sample - loss: 0.3097 - wine_quality_loss: 0.2852 - wine_type_loss: 0.0241 - wine_quality_root_mean_squared_error: 0.5344 - wine_type_binary_accuracy: 0.9959 - val_loss: 0.3390 - val_wine_quality_loss: 0.3099 - val_wine_type_loss: 0.0285 - val_wine_quality_root_mean_squared_error: 0.5569 - val_wine_type_binary_accuracy: 0.9949\n",
      "Epoch 85/180\n",
      "3155/3155 [==============================] - 0s 76us/sample - loss: 0.3097 - wine_quality_loss: 0.2857 - wine_type_loss: 0.0239 - wine_quality_root_mean_squared_error: 0.5345 - wine_type_binary_accuracy: 0.9959 - val_loss: 0.3469 - val_wine_quality_loss: 0.3179 - val_wine_type_loss: 0.0284 - val_wine_quality_root_mean_squared_error: 0.5640 - val_wine_type_binary_accuracy: 0.9949\n",
      "Epoch 86/180\n",
      "3155/3155 [==============================] - 0s 90us/sample - loss: 0.3091 - wine_quality_loss: 0.2850 - wine_type_loss: 0.0239 - wine_quality_root_mean_squared_error: 0.5340 - wine_type_binary_accuracy: 0.9959 - val_loss: 0.3373 - val_wine_quality_loss: 0.3084 - val_wine_type_loss: 0.0284 - val_wine_quality_root_mean_squared_error: 0.5555 - val_wine_type_binary_accuracy: 0.9949\n",
      "Epoch 87/180\n",
      "3155/3155 [==============================] - 0s 90us/sample - loss: 0.3098 - wine_quality_loss: 0.2855 - wine_type_loss: 0.0237 - wine_quality_root_mean_squared_error: 0.5348 - wine_type_binary_accuracy: 0.9959 - val_loss: 0.3402 - val_wine_quality_loss: 0.3113 - val_wine_type_loss: 0.0283 - val_wine_quality_root_mean_squared_error: 0.5582 - val_wine_type_binary_accuracy: 0.9949\n",
      "Epoch 88/180\n",
      "3155/3155 [==============================] - 0s 94us/sample - loss: 0.3080 - wine_quality_loss: 0.2838 - wine_type_loss: 0.0236 - wine_quality_root_mean_squared_error: 0.5333 - wine_type_binary_accuracy: 0.9959 - val_loss: 0.3465 - val_wine_quality_loss: 0.3173 - val_wine_type_loss: 0.0283 - val_wine_quality_root_mean_squared_error: 0.5637 - val_wine_type_binary_accuracy: 0.9949\n",
      "Epoch 89/180\n",
      "3155/3155 [==============================] - 0s 90us/sample - loss: 0.3065 - wine_quality_loss: 0.2831 - wine_type_loss: 0.0234 - wine_quality_root_mean_squared_error: 0.5319 - wine_type_binary_accuracy: 0.9959 - val_loss: 0.3328 - val_wine_quality_loss: 0.3040 - val_wine_type_loss: 0.0282 - val_wine_quality_root_mean_squared_error: 0.5516 - val_wine_type_binary_accuracy: 0.9949\n",
      "Epoch 90/180\n",
      "3155/3155 [==============================] - 0s 76us/sample - loss: 0.3070 - wine_quality_loss: 0.2833 - wine_type_loss: 0.0233 - wine_quality_root_mean_squared_error: 0.5326 - wine_type_binary_accuracy: 0.9959 - val_loss: 0.3392 - val_wine_quality_loss: 0.3105 - val_wine_type_loss: 0.0281 - val_wine_quality_root_mean_squared_error: 0.5574 - val_wine_type_binary_accuracy: 0.9949\n",
      "Epoch 91/180\n",
      "3155/3155 [==============================] - 0s 91us/sample - loss: 0.3065 - wine_quality_loss: 0.2835 - wine_type_loss: 0.0233 - wine_quality_root_mean_squared_error: 0.5322 - wine_type_binary_accuracy: 0.9959 - val_loss: 0.3372 - val_wine_quality_loss: 0.3084 - val_wine_type_loss: 0.0282 - val_wine_quality_root_mean_squared_error: 0.5556 - val_wine_type_binary_accuracy: 0.9949\n",
      "Epoch 92/180\n",
      "3155/3155 [==============================] - 0s 93us/sample - loss: 0.3048 - wine_quality_loss: 0.2816 - wine_type_loss: 0.0231 - wine_quality_root_mean_squared_error: 0.5307 - wine_type_binary_accuracy: 0.9959 - val_loss: 0.3355 - val_wine_quality_loss: 0.3068 - val_wine_type_loss: 0.0281 - val_wine_quality_root_mean_squared_error: 0.5541 - val_wine_type_binary_accuracy: 0.9949\n",
      "Epoch 93/180\n",
      "3155/3155 [==============================] - 0s 91us/sample - loss: 0.3044 - wine_quality_loss: 0.2813 - wine_type_loss: 0.0230 - wine_quality_root_mean_squared_error: 0.5304 - wine_type_binary_accuracy: 0.9959 - val_loss: 0.3405 - val_wine_quality_loss: 0.3117 - val_wine_type_loss: 0.0281 - val_wine_quality_root_mean_squared_error: 0.5585 - val_wine_type_binary_accuracy: 0.9949\n",
      "Epoch 94/180\n",
      "3155/3155 [==============================] - 0s 92us/sample - loss: 0.3043 - wine_quality_loss: 0.2807 - wine_type_loss: 0.0229 - wine_quality_root_mean_squared_error: 0.5304 - wine_type_binary_accuracy: 0.9959 - val_loss: 0.3352 - val_wine_quality_loss: 0.3066 - val_wine_type_loss: 0.0280 - val_wine_quality_root_mean_squared_error: 0.5540 - val_wine_type_binary_accuracy: 0.9949\n",
      "Epoch 95/180\n",
      "3155/3155 [==============================] - 0s 77us/sample - loss: 0.3029 - wine_quality_loss: 0.2810 - wine_type_loss: 0.0228 - wine_quality_root_mean_squared_error: 0.5293 - wine_type_binary_accuracy: 0.9959 - val_loss: 0.3402 - val_wine_quality_loss: 0.3116 - val_wine_type_loss: 0.0280 - val_wine_quality_root_mean_squared_error: 0.5585 - val_wine_type_binary_accuracy: 0.9949\n",
      "Epoch 96/180\n",
      "3155/3155 [==============================] - 0s 91us/sample - loss: 0.3020 - wine_quality_loss: 0.2794 - wine_type_loss: 0.0226 - wine_quality_root_mean_squared_error: 0.5285 - wine_type_binary_accuracy: 0.9959 - val_loss: 0.3408 - val_wine_quality_loss: 0.3124 - val_wine_type_loss: 0.0279 - val_wine_quality_root_mean_squared_error: 0.5591 - val_wine_type_binary_accuracy: 0.9949\n",
      "Epoch 97/180\n",
      "3155/3155 [==============================] - 0s 90us/sample - loss: 0.3017 - wine_quality_loss: 0.2803 - wine_type_loss: 0.0225 - wine_quality_root_mean_squared_error: 0.5283 - wine_type_binary_accuracy: 0.9959 - val_loss: 0.3354 - val_wine_quality_loss: 0.3072 - val_wine_type_loss: 0.0279 - val_wine_quality_root_mean_squared_error: 0.5542 - val_wine_type_binary_accuracy: 0.9949\n",
      "Epoch 98/180\n",
      "3155/3155 [==============================] - 0s 92us/sample - loss: 0.3021 - wine_quality_loss: 0.2794 - wine_type_loss: 0.0224 - wine_quality_root_mean_squared_error: 0.5288 - wine_type_binary_accuracy: 0.9959 - val_loss: 0.3394 - val_wine_quality_loss: 0.3108 - val_wine_type_loss: 0.0278 - val_wine_quality_root_mean_squared_error: 0.5578 - val_wine_type_binary_accuracy: 0.9949\n",
      "Epoch 99/180\n",
      "3155/3155 [==============================] - 0s 89us/sample - loss: 0.3017 - wine_quality_loss: 0.2794 - wine_type_loss: 0.0223 - wine_quality_root_mean_squared_error: 0.5286 - wine_type_binary_accuracy: 0.9959 - val_loss: 0.3362 - val_wine_quality_loss: 0.3080 - val_wine_type_loss: 0.0278 - val_wine_quality_root_mean_squared_error: 0.5551 - val_wine_type_binary_accuracy: 0.9949\n",
      "Epoch 100/180\n",
      "3155/3155 [==============================] - 0s 77us/sample - loss: 0.2999 - wine_quality_loss: 0.2775 - wine_type_loss: 0.0221 - wine_quality_root_mean_squared_error: 0.5270 - wine_type_binary_accuracy: 0.9959 - val_loss: 0.3402 - val_wine_quality_loss: 0.3120 - val_wine_type_loss: 0.0279 - val_wine_quality_root_mean_squared_error: 0.5586 - val_wine_type_binary_accuracy: 0.9949\n",
      "Epoch 101/180\n",
      "3155/3155 [==============================] - 0s 92us/sample - loss: 0.2979 - wine_quality_loss: 0.2756 - wine_type_loss: 0.0221 - wine_quality_root_mean_squared_error: 0.5251 - wine_type_binary_accuracy: 0.9959 - val_loss: 0.3376 - val_wine_quality_loss: 0.3093 - val_wine_type_loss: 0.0277 - val_wine_quality_root_mean_squared_error: 0.5563 - val_wine_type_binary_accuracy: 0.9949\n",
      "Epoch 102/180\n",
      "3155/3155 [==============================] - 0s 92us/sample - loss: 0.3006 - wine_quality_loss: 0.2791 - wine_type_loss: 0.0219 - wine_quality_root_mean_squared_error: 0.5279 - wine_type_binary_accuracy: 0.9959 - val_loss: 0.3346 - val_wine_quality_loss: 0.3065 - val_wine_type_loss: 0.0276 - val_wine_quality_root_mean_squared_error: 0.5537 - val_wine_type_binary_accuracy: 0.9949\n",
      "Epoch 103/180\n",
      "3155/3155 [==============================] - 0s 90us/sample - loss: 0.2990 - wine_quality_loss: 0.2770 - wine_type_loss: 0.0218 - wine_quality_root_mean_squared_error: 0.5264 - wine_type_binary_accuracy: 0.9959 - val_loss: 0.3382 - val_wine_quality_loss: 0.3101 - val_wine_type_loss: 0.0276 - val_wine_quality_root_mean_squared_error: 0.5570 - val_wine_type_binary_accuracy: 0.9949\n",
      "Epoch 104/180\n",
      "3155/3155 [==============================] - 0s 76us/sample - loss: 0.2982 - wine_quality_loss: 0.2762 - wine_type_loss: 0.0217 - wine_quality_root_mean_squared_error: 0.5258 - wine_type_binary_accuracy: 0.9959 - val_loss: 0.3332 - val_wine_quality_loss: 0.3052 - val_wine_type_loss: 0.0276 - val_wine_quality_root_mean_squared_error: 0.5525 - val_wine_type_binary_accuracy: 0.9949\n",
      "Epoch 105/180\n",
      "3155/3155 [==============================] - 0s 91us/sample - loss: 0.2966 - wine_quality_loss: 0.2751 - wine_type_loss: 0.0216 - wine_quality_root_mean_squared_error: 0.5243 - wine_type_binary_accuracy: 0.9959 - val_loss: 0.3359 - val_wine_quality_loss: 0.3079 - val_wine_type_loss: 0.0275 - val_wine_quality_root_mean_squared_error: 0.5550 - val_wine_type_binary_accuracy: 0.9949\n",
      "Epoch 106/180\n",
      "3155/3155 [==============================] - 0s 91us/sample - loss: 0.2966 - wine_quality_loss: 0.2749 - wine_type_loss: 0.0216 - wine_quality_root_mean_squared_error: 0.5245 - wine_type_binary_accuracy: 0.9959 - val_loss: 0.3352 - val_wine_quality_loss: 0.3075 - val_wine_type_loss: 0.0275 - val_wine_quality_root_mean_squared_error: 0.5544 - val_wine_type_binary_accuracy: 0.9949\n",
      "Epoch 107/180\n",
      "3155/3155 [==============================] - 0s 90us/sample - loss: 0.2950 - wine_quality_loss: 0.2746 - wine_type_loss: 0.0214 - wine_quality_root_mean_squared_error: 0.5230 - wine_type_binary_accuracy: 0.9959 - val_loss: 0.3402 - val_wine_quality_loss: 0.3120 - val_wine_type_loss: 0.0275 - val_wine_quality_root_mean_squared_error: 0.5589 - val_wine_type_binary_accuracy: 0.9949\n",
      "Epoch 108/180\n",
      "3155/3155 [==============================] - 0s 76us/sample - loss: 0.2959 - wine_quality_loss: 0.2748 - wine_type_loss: 0.0212 - wine_quality_root_mean_squared_error: 0.5240 - wine_type_binary_accuracy: 0.9959 - val_loss: 0.3397 - val_wine_quality_loss: 0.3116 - val_wine_type_loss: 0.0275 - val_wine_quality_root_mean_squared_error: 0.5585 - val_wine_type_binary_accuracy: 0.9949\n",
      "Epoch 109/180\n",
      "3155/3155 [==============================] - 0s 92us/sample - loss: 0.2961 - wine_quality_loss: 0.2749 - wine_type_loss: 0.0216 - wine_quality_root_mean_squared_error: 0.5243 - wine_type_binary_accuracy: 0.9959 - val_loss: 0.3341 - val_wine_quality_loss: 0.3063 - val_wine_type_loss: 0.0274 - val_wine_quality_root_mean_squared_error: 0.5535 - val_wine_type_binary_accuracy: 0.9949\n",
      "Epoch 110/180\n",
      "3155/3155 [==============================] - 0s 91us/sample - loss: 0.2946 - wine_quality_loss: 0.2736 - wine_type_loss: 0.0211 - wine_quality_root_mean_squared_error: 0.5229 - wine_type_binary_accuracy: 0.9962 - val_loss: 0.3346 - val_wine_quality_loss: 0.3067 - val_wine_type_loss: 0.0274 - val_wine_quality_root_mean_squared_error: 0.5539 - val_wine_type_binary_accuracy: 0.9949\n",
      "Epoch 111/180\n",
      "3155/3155 [==============================] - 0s 88us/sample - loss: 0.2958 - wine_quality_loss: 0.2748 - wine_type_loss: 0.0220 - wine_quality_root_mean_squared_error: 0.5241 - wine_type_binary_accuracy: 0.9962 - val_loss: 0.3374 - val_wine_quality_loss: 0.3094 - val_wine_type_loss: 0.0273 - val_wine_quality_root_mean_squared_error: 0.5565 - val_wine_type_binary_accuracy: 0.9949\n",
      "Epoch 112/180\n",
      "3155/3155 [==============================] - 0s 76us/sample - loss: 0.2936 - wine_quality_loss: 0.2727 - wine_type_loss: 0.0208 - wine_quality_root_mean_squared_error: 0.5222 - wine_type_binary_accuracy: 0.9962 - val_loss: 0.3343 - val_wine_quality_loss: 0.3066 - val_wine_type_loss: 0.0273 - val_wine_quality_root_mean_squared_error: 0.5538 - val_wine_type_binary_accuracy: 0.9949\n",
      "Epoch 113/180\n",
      "3155/3155 [==============================] - 0s 89us/sample - loss: 0.2936 - wine_quality_loss: 0.2727 - wine_type_loss: 0.0208 - wine_quality_root_mean_squared_error: 0.5223 - wine_type_binary_accuracy: 0.9962 - val_loss: 0.3345 - val_wine_quality_loss: 0.3066 - val_wine_type_loss: 0.0273 - val_wine_quality_root_mean_squared_error: 0.5539 - val_wine_type_binary_accuracy: 0.9949\n",
      "Epoch 114/180\n",
      "3155/3155 [==============================] - 0s 89us/sample - loss: 0.2921 - wine_quality_loss: 0.2714 - wine_type_loss: 0.0206 - wine_quality_root_mean_squared_error: 0.5210 - wine_type_binary_accuracy: 0.9962 - val_loss: 0.3385 - val_wine_quality_loss: 0.3108 - val_wine_type_loss: 0.0273 - val_wine_quality_root_mean_squared_error: 0.5575 - val_wine_type_binary_accuracy: 0.9949\n",
      "Epoch 115/180\n",
      "3155/3155 [==============================] - 0s 75us/sample - loss: 0.2925 - wine_quality_loss: 0.2723 - wine_type_loss: 0.0206 - wine_quality_root_mean_squared_error: 0.5214 - wine_type_binary_accuracy: 0.9962 - val_loss: 0.3319 - val_wine_quality_loss: 0.3042 - val_wine_type_loss: 0.0272 - val_wine_quality_root_mean_squared_error: 0.5517 - val_wine_type_binary_accuracy: 0.9949\n",
      "Epoch 116/180\n",
      "3155/3155 [==============================] - 0s 89us/sample - loss: 0.2916 - wine_quality_loss: 0.2712 - wine_type_loss: 0.0205 - wine_quality_root_mean_squared_error: 0.5206 - wine_type_binary_accuracy: 0.9962 - val_loss: 0.3366 - val_wine_quality_loss: 0.3089 - val_wine_type_loss: 0.0272 - val_wine_quality_root_mean_squared_error: 0.5559 - val_wine_type_binary_accuracy: 0.9949\n",
      "Epoch 117/180\n",
      "3155/3155 [==============================] - 0s 90us/sample - loss: 0.2908 - wine_quality_loss: 0.2705 - wine_type_loss: 0.0204 - wine_quality_root_mean_squared_error: 0.5199 - wine_type_binary_accuracy: 0.9962 - val_loss: 0.3322 - val_wine_quality_loss: 0.3046 - val_wine_type_loss: 0.0272 - val_wine_quality_root_mean_squared_error: 0.5520 - val_wine_type_binary_accuracy: 0.9949\n",
      "Epoch 118/180\n",
      "3155/3155 [==============================] - 0s 75us/sample - loss: 0.2919 - wine_quality_loss: 0.2721 - wine_type_loss: 0.0203 - wine_quality_root_mean_squared_error: 0.5210 - wine_type_binary_accuracy: 0.9962 - val_loss: 0.3344 - val_wine_quality_loss: 0.3067 - val_wine_type_loss: 0.0272 - val_wine_quality_root_mean_squared_error: 0.5539 - val_wine_type_binary_accuracy: 0.9949\n",
      "Epoch 119/180\n",
      "3155/3155 [==============================] - 0s 92us/sample - loss: 0.2910 - wine_quality_loss: 0.2705 - wine_type_loss: 0.0202 - wine_quality_root_mean_squared_error: 0.5203 - wine_type_binary_accuracy: 0.9962 - val_loss: 0.3383 - val_wine_quality_loss: 0.3107 - val_wine_type_loss: 0.0271 - val_wine_quality_root_mean_squared_error: 0.5576 - val_wine_type_binary_accuracy: 0.9949\n",
      "Epoch 120/180\n",
      "3155/3155 [==============================] - 0s 92us/sample - loss: 0.2905 - wine_quality_loss: 0.2705 - wine_type_loss: 0.0201 - wine_quality_root_mean_squared_error: 0.5200 - wine_type_binary_accuracy: 0.9962 - val_loss: 0.3346 - val_wine_quality_loss: 0.3069 - val_wine_type_loss: 0.0271 - val_wine_quality_root_mean_squared_error: 0.5541 - val_wine_type_binary_accuracy: 0.9949\n",
      "Epoch 121/180\n",
      "3155/3155 [==============================] - 0s 90us/sample - loss: 0.2904 - wine_quality_loss: 0.2704 - wine_type_loss: 0.0200 - wine_quality_root_mean_squared_error: 0.5199 - wine_type_binary_accuracy: 0.9962 - val_loss: 0.3402 - val_wine_quality_loss: 0.3124 - val_wine_type_loss: 0.0271 - val_wine_quality_root_mean_squared_error: 0.5592 - val_wine_type_binary_accuracy: 0.9949\n",
      "Epoch 122/180\n",
      "3155/3155 [==============================] - 0s 75us/sample - loss: 0.2898 - wine_quality_loss: 0.2698 - wine_type_loss: 0.0199 - wine_quality_root_mean_squared_error: 0.5194 - wine_type_binary_accuracy: 0.9962 - val_loss: 0.3386 - val_wine_quality_loss: 0.3109 - val_wine_type_loss: 0.0271 - val_wine_quality_root_mean_squared_error: 0.5577 - val_wine_type_binary_accuracy: 0.9949\n",
      "Epoch 123/180\n",
      "3155/3155 [==============================] - 0s 91us/sample - loss: 0.2889 - wine_quality_loss: 0.2693 - wine_type_loss: 0.0199 - wine_quality_root_mean_squared_error: 0.5187 - wine_type_binary_accuracy: 0.9962 - val_loss: 0.3369 - val_wine_quality_loss: 0.3096 - val_wine_type_loss: 0.0271 - val_wine_quality_root_mean_squared_error: 0.5563 - val_wine_type_binary_accuracy: 0.9949\n",
      "Epoch 124/180\n",
      "3155/3155 [==============================] - 0s 92us/sample - loss: 0.2890 - wine_quality_loss: 0.2689 - wine_type_loss: 0.0198 - wine_quality_root_mean_squared_error: 0.5188 - wine_type_binary_accuracy: 0.9962 - val_loss: 0.3362 - val_wine_quality_loss: 0.3086 - val_wine_type_loss: 0.0271 - val_wine_quality_root_mean_squared_error: 0.5557 - val_wine_type_binary_accuracy: 0.9949\n",
      "Epoch 125/180\n",
      "3155/3155 [==============================] - 0s 91us/sample - loss: 0.2883 - wine_quality_loss: 0.2686 - wine_type_loss: 0.0197 - wine_quality_root_mean_squared_error: 0.5182 - wine_type_binary_accuracy: 0.9962 - val_loss: 0.3430 - val_wine_quality_loss: 0.3153 - val_wine_type_loss: 0.0271 - val_wine_quality_root_mean_squared_error: 0.5618 - val_wine_type_binary_accuracy: 0.9949\n",
      "Epoch 126/180\n",
      "3155/3155 [==============================] - 0s 89us/sample - loss: 0.2873 - wine_quality_loss: 0.2688 - wine_type_loss: 0.0196 - wine_quality_root_mean_squared_error: 0.5174 - wine_type_binary_accuracy: 0.9962 - val_loss: 0.3327 - val_wine_quality_loss: 0.3052 - val_wine_type_loss: 0.0270 - val_wine_quality_root_mean_squared_error: 0.5525 - val_wine_type_binary_accuracy: 0.9949\n",
      "Epoch 127/180\n",
      "3155/3155 [==============================] - 0s 76us/sample - loss: 0.2865 - wine_quality_loss: 0.2670 - wine_type_loss: 0.0195 - wine_quality_root_mean_squared_error: 0.5167 - wine_type_binary_accuracy: 0.9962 - val_loss: 0.3320 - val_wine_quality_loss: 0.3046 - val_wine_type_loss: 0.0270 - val_wine_quality_root_mean_squared_error: 0.5520 - val_wine_type_binary_accuracy: 0.9949\n",
      "Epoch 128/180\n",
      "3155/3155 [==============================] - 0s 92us/sample - loss: 0.2869 - wine_quality_loss: 0.2675 - wine_type_loss: 0.0195 - wine_quality_root_mean_squared_error: 0.5171 - wine_type_binary_accuracy: 0.9962 - val_loss: 0.3331 - val_wine_quality_loss: 0.3057 - val_wine_type_loss: 0.0270 - val_wine_quality_root_mean_squared_error: 0.5530 - val_wine_type_binary_accuracy: 0.9949\n",
      "Epoch 129/180\n",
      "3155/3155 [==============================] - 0s 90us/sample - loss: 0.2851 - wine_quality_loss: 0.2654 - wine_type_loss: 0.0193 - wine_quality_root_mean_squared_error: 0.5155 - wine_type_binary_accuracy: 0.9962 - val_loss: 0.3378 - val_wine_quality_loss: 0.3101 - val_wine_type_loss: 0.0271 - val_wine_quality_root_mean_squared_error: 0.5571 - val_wine_type_binary_accuracy: 0.9949\n",
      "Epoch 130/180\n",
      "3155/3155 [==============================] - 0s 89us/sample - loss: 0.2866 - wine_quality_loss: 0.2670 - wine_type_loss: 0.0194 - wine_quality_root_mean_squared_error: 0.5170 - wine_type_binary_accuracy: 0.9962 - val_loss: 0.3473 - val_wine_quality_loss: 0.3197 - val_wine_type_loss: 0.0271 - val_wine_quality_root_mean_squared_error: 0.5656 - val_wine_type_binary_accuracy: 0.9949\n",
      "Epoch 131/180\n",
      "3155/3155 [==============================] - 0s 76us/sample - loss: 0.2858 - wine_quality_loss: 0.2660 - wine_type_loss: 0.0192 - wine_quality_root_mean_squared_error: 0.5163 - wine_type_binary_accuracy: 0.9962 - val_loss: 0.3322 - val_wine_quality_loss: 0.3045 - val_wine_type_loss: 0.0271 - val_wine_quality_root_mean_squared_error: 0.5520 - val_wine_type_binary_accuracy: 0.9949\n",
      "Epoch 132/180\n",
      "3155/3155 [==============================] - 0s 91us/sample - loss: 0.2841 - wine_quality_loss: 0.2648 - wine_type_loss: 0.0191 - wine_quality_root_mean_squared_error: 0.5147 - wine_type_binary_accuracy: 0.9962 - val_loss: 0.3361 - val_wine_quality_loss: 0.3084 - val_wine_type_loss: 0.0270 - val_wine_quality_root_mean_squared_error: 0.5556 - val_wine_type_binary_accuracy: 0.9949\n",
      "Epoch 133/180\n",
      "3155/3155 [==============================] - 0s 91us/sample - loss: 0.2846 - wine_quality_loss: 0.2652 - wine_type_loss: 0.0190 - wine_quality_root_mean_squared_error: 0.5152 - wine_type_binary_accuracy: 0.9962 - val_loss: 0.3411 - val_wine_quality_loss: 0.3136 - val_wine_type_loss: 0.0270 - val_wine_quality_root_mean_squared_error: 0.5601 - val_wine_type_binary_accuracy: 0.9949\n",
      "Epoch 134/180\n",
      "3155/3155 [==============================] - 0s 89us/sample - loss: 0.2838 - wine_quality_loss: 0.2650 - wine_type_loss: 0.0189 - wine_quality_root_mean_squared_error: 0.5146 - wine_type_binary_accuracy: 0.9962 - val_loss: 0.3377 - val_wine_quality_loss: 0.3100 - val_wine_type_loss: 0.0271 - val_wine_quality_root_mean_squared_error: 0.5570 - val_wine_type_binary_accuracy: 0.9949\n",
      "Epoch 135/180\n",
      "3155/3155 [==============================] - 0s 77us/sample - loss: 0.2840 - wine_quality_loss: 0.2650 - wine_type_loss: 0.0188 - wine_quality_root_mean_squared_error: 0.5149 - wine_type_binary_accuracy: 0.9962 - val_loss: 0.3355 - val_wine_quality_loss: 0.3081 - val_wine_type_loss: 0.0271 - val_wine_quality_root_mean_squared_error: 0.5551 - val_wine_type_binary_accuracy: 0.9949\n",
      "Epoch 136/180\n",
      "3155/3155 [==============================] - 0s 91us/sample - loss: 0.2831 - wine_quality_loss: 0.2643 - wine_type_loss: 0.0188 - wine_quality_root_mean_squared_error: 0.5141 - wine_type_binary_accuracy: 0.9962 - val_loss: 0.3332 - val_wine_quality_loss: 0.3058 - val_wine_type_loss: 0.0271 - val_wine_quality_root_mean_squared_error: 0.5529 - val_wine_type_binary_accuracy: 0.9949\n",
      "Epoch 137/180\n",
      "3155/3155 [==============================] - 0s 91us/sample - loss: 0.2824 - wine_quality_loss: 0.2638 - wine_type_loss: 0.0187 - wine_quality_root_mean_squared_error: 0.5135 - wine_type_binary_accuracy: 0.9962 - val_loss: 0.3334 - val_wine_quality_loss: 0.3062 - val_wine_type_loss: 0.0270 - val_wine_quality_root_mean_squared_error: 0.5532 - val_wine_type_binary_accuracy: 0.9949\n",
      "Epoch 138/180\n",
      "3155/3155 [==============================] - 0s 89us/sample - loss: 0.2826 - wine_quality_loss: 0.2638 - wine_type_loss: 0.0186 - wine_quality_root_mean_squared_error: 0.5138 - wine_type_binary_accuracy: 0.9962 - val_loss: 0.3309 - val_wine_quality_loss: 0.3035 - val_wine_type_loss: 0.0270 - val_wine_quality_root_mean_squared_error: 0.5509 - val_wine_type_binary_accuracy: 0.9949\n",
      "Epoch 139/180\n",
      "3155/3155 [==============================] - 0s 75us/sample - loss: 0.2822 - wine_quality_loss: 0.2635 - wine_type_loss: 0.0189 - wine_quality_root_mean_squared_error: 0.5134 - wine_type_binary_accuracy: 0.9962 - val_loss: 0.3359 - val_wine_quality_loss: 0.3086 - val_wine_type_loss: 0.0269 - val_wine_quality_root_mean_squared_error: 0.5556 - val_wine_type_binary_accuracy: 0.9949\n",
      "Epoch 140/180\n",
      "3155/3155 [==============================] - 0s 89us/sample - loss: 0.2824 - wine_quality_loss: 0.2638 - wine_type_loss: 0.0184 - wine_quality_root_mean_squared_error: 0.5138 - wine_type_binary_accuracy: 0.9962 - val_loss: 0.3335 - val_wine_quality_loss: 0.3062 - val_wine_type_loss: 0.0269 - val_wine_quality_root_mean_squared_error: 0.5534 - val_wine_type_binary_accuracy: 0.9949\n",
      "Epoch 141/180\n",
      "3155/3155 [==============================] - 0s 90us/sample - loss: 0.2809 - wine_quality_loss: 0.2625 - wine_type_loss: 0.0183 - wine_quality_root_mean_squared_error: 0.5123 - wine_type_binary_accuracy: 0.9962 - val_loss: 0.3328 - val_wine_quality_loss: 0.3055 - val_wine_type_loss: 0.0270 - val_wine_quality_root_mean_squared_error: 0.5527 - val_wine_type_binary_accuracy: 0.9949\n",
      "Epoch 142/180\n",
      "3155/3155 [==============================] - 0s 76us/sample - loss: 0.2809 - wine_quality_loss: 0.2621 - wine_type_loss: 0.0193 - wine_quality_root_mean_squared_error: 0.5125 - wine_type_binary_accuracy: 0.9962 - val_loss: 0.3309 - val_wine_quality_loss: 0.3038 - val_wine_type_loss: 0.0269 - val_wine_quality_root_mean_squared_error: 0.5511 - val_wine_type_binary_accuracy: 0.9949\n",
      "Epoch 143/180\n",
      "3155/3155 [==============================] - 0s 91us/sample - loss: 0.2813 - wine_quality_loss: 0.2630 - wine_type_loss: 0.0182 - wine_quality_root_mean_squared_error: 0.5130 - wine_type_binary_accuracy: 0.9962 - val_loss: 0.3403 - val_wine_quality_loss: 0.3129 - val_wine_type_loss: 0.0269 - val_wine_quality_root_mean_squared_error: 0.5595 - val_wine_type_binary_accuracy: 0.9949\n",
      "Epoch 144/180\n",
      "3155/3155 [==============================] - 0s 90us/sample - loss: 0.2795 - wine_quality_loss: 0.2614 - wine_type_loss: 0.0181 - wine_quality_root_mean_squared_error: 0.5112 - wine_type_binary_accuracy: 0.9962 - val_loss: 0.3371 - val_wine_quality_loss: 0.3100 - val_wine_type_loss: 0.0269 - val_wine_quality_root_mean_squared_error: 0.5567 - val_wine_type_binary_accuracy: 0.9949\n",
      "Epoch 145/180\n",
      "3155/3155 [==============================] - 0s 89us/sample - loss: 0.2788 - wine_quality_loss: 0.2608 - wine_type_loss: 0.0179 - wine_quality_root_mean_squared_error: 0.5106 - wine_type_binary_accuracy: 0.9962 - val_loss: 0.3428 - val_wine_quality_loss: 0.3155 - val_wine_type_loss: 0.0270 - val_wine_quality_root_mean_squared_error: 0.5617 - val_wine_type_binary_accuracy: 0.9949\n",
      "Epoch 146/180\n",
      "3155/3155 [==============================] - 0s 77us/sample - loss: 0.2790 - wine_quality_loss: 0.2606 - wine_type_loss: 0.0179 - wine_quality_root_mean_squared_error: 0.5109 - wine_type_binary_accuracy: 0.9962 - val_loss: 0.3452 - val_wine_quality_loss: 0.3181 - val_wine_type_loss: 0.0270 - val_wine_quality_root_mean_squared_error: 0.5638 - val_wine_type_binary_accuracy: 0.9949\n",
      "Epoch 147/180\n",
      "3155/3155 [==============================] - 0s 91us/sample - loss: 0.2775 - wine_quality_loss: 0.2593 - wine_type_loss: 0.0178 - wine_quality_root_mean_squared_error: 0.5095 - wine_type_binary_accuracy: 0.9962 - val_loss: 0.3358 - val_wine_quality_loss: 0.3084 - val_wine_type_loss: 0.0269 - val_wine_quality_root_mean_squared_error: 0.5555 - val_wine_type_binary_accuracy: 0.9949\n",
      "Epoch 148/180\n",
      "3155/3155 [==============================] - 0s 91us/sample - loss: 0.2782 - wine_quality_loss: 0.2604 - wine_type_loss: 0.0178 - wine_quality_root_mean_squared_error: 0.5102 - wine_type_binary_accuracy: 0.9962 - val_loss: 0.3335 - val_wine_quality_loss: 0.3064 - val_wine_type_loss: 0.0269 - val_wine_quality_root_mean_squared_error: 0.5534 - val_wine_type_binary_accuracy: 0.9949\n",
      "Epoch 149/180\n",
      "3155/3155 [==============================] - 0s 90us/sample - loss: 0.2773 - wine_quality_loss: 0.2598 - wine_type_loss: 0.0177 - wine_quality_root_mean_squared_error: 0.5095 - wine_type_binary_accuracy: 0.9962 - val_loss: 0.3349 - val_wine_quality_loss: 0.3076 - val_wine_type_loss: 0.0269 - val_wine_quality_root_mean_squared_error: 0.5547 - val_wine_type_binary_accuracy: 0.9949\n",
      "Epoch 150/180\n",
      "3155/3155 [==============================] - 0s 75us/sample - loss: 0.2776 - wine_quality_loss: 0.2597 - wine_type_loss: 0.0176 - wine_quality_root_mean_squared_error: 0.5099 - wine_type_binary_accuracy: 0.9962 - val_loss: 0.3338 - val_wine_quality_loss: 0.3066 - val_wine_type_loss: 0.0269 - val_wine_quality_root_mean_squared_error: 0.5536 - val_wine_type_binary_accuracy: 0.9949\n",
      "Epoch 151/180\n",
      "3155/3155 [==============================] - 0s 91us/sample - loss: 0.2770 - wine_quality_loss: 0.2598 - wine_type_loss: 0.0176 - wine_quality_root_mean_squared_error: 0.5093 - wine_type_binary_accuracy: 0.9962 - val_loss: 0.3406 - val_wine_quality_loss: 0.3133 - val_wine_type_loss: 0.0269 - val_wine_quality_root_mean_squared_error: 0.5597 - val_wine_type_binary_accuracy: 0.9949\n",
      "Epoch 152/180\n",
      "3155/3155 [==============================] - 0s 89us/sample - loss: 0.2760 - wine_quality_loss: 0.2588 - wine_type_loss: 0.0175 - wine_quality_root_mean_squared_error: 0.5084 - wine_type_binary_accuracy: 0.9965 - val_loss: 0.3316 - val_wine_quality_loss: 0.3044 - val_wine_type_loss: 0.0270 - val_wine_quality_root_mean_squared_error: 0.5517 - val_wine_type_binary_accuracy: 0.9949\n",
      "Epoch 153/180\n",
      "3155/3155 [==============================] - 0s 90us/sample - loss: 0.2758 - wine_quality_loss: 0.2584 - wine_type_loss: 0.0174 - wine_quality_root_mean_squared_error: 0.5083 - wine_type_binary_accuracy: 0.9962 - val_loss: 0.3438 - val_wine_quality_loss: 0.3166 - val_wine_type_loss: 0.0269 - val_wine_quality_root_mean_squared_error: 0.5626 - val_wine_type_binary_accuracy: 0.9949\n",
      "Epoch 154/180\n",
      "3155/3155 [==============================] - 0s 76us/sample - loss: 0.2761 - wine_quality_loss: 0.2587 - wine_type_loss: 0.0177 - wine_quality_root_mean_squared_error: 0.5086 - wine_type_binary_accuracy: 0.9962 - val_loss: 0.3332 - val_wine_quality_loss: 0.3060 - val_wine_type_loss: 0.0269 - val_wine_quality_root_mean_squared_error: 0.5532 - val_wine_type_binary_accuracy: 0.9949\n",
      "Epoch 155/180\n",
      "3155/3155 [==============================] - 0s 89us/sample - loss: 0.2758 - wine_quality_loss: 0.2580 - wine_type_loss: 0.0173 - wine_quality_root_mean_squared_error: 0.5084 - wine_type_binary_accuracy: 0.9962 - val_loss: 0.3312 - val_wine_quality_loss: 0.3041 - val_wine_type_loss: 0.0269 - val_wine_quality_root_mean_squared_error: 0.5514 - val_wine_type_binary_accuracy: 0.9949\n",
      "Epoch 156/180\n",
      "3155/3155 [==============================] - 0s 72us/sample - loss: 0.2747 - wine_quality_loss: 0.2579 - wine_type_loss: 0.0172 - wine_quality_root_mean_squared_error: 0.5074 - wine_type_binary_accuracy: 0.9962 - val_loss: 0.3353 - val_wine_quality_loss: 0.3081 - val_wine_type_loss: 0.0269 - val_wine_quality_root_mean_squared_error: 0.5551 - val_wine_type_binary_accuracy: 0.9949\n",
      "Epoch 157/180\n",
      "3155/3155 [==============================] - 0s 89us/sample - loss: 0.2720 - wine_quality_loss: 0.2551 - wine_type_loss: 0.0171 - wine_quality_root_mean_squared_error: 0.5048 - wine_type_binary_accuracy: 0.9965 - val_loss: 0.3332 - val_wine_quality_loss: 0.3061 - val_wine_type_loss: 0.0268 - val_wine_quality_root_mean_squared_error: 0.5532 - val_wine_type_binary_accuracy: 0.9949\n",
      "Epoch 158/180\n",
      "3155/3155 [==============================] - 0s 88us/sample - loss: 0.2741 - wine_quality_loss: 0.2563 - wine_type_loss: 0.0170 - wine_quality_root_mean_squared_error: 0.5070 - wine_type_binary_accuracy: 0.9965 - val_loss: 0.3433 - val_wine_quality_loss: 0.3160 - val_wine_type_loss: 0.0269 - val_wine_quality_root_mean_squared_error: 0.5622 - val_wine_type_binary_accuracy: 0.9949\n",
      "Epoch 159/180\n",
      "3155/3155 [==============================] - 0s 73us/sample - loss: 0.2740 - wine_quality_loss: 0.2569 - wine_type_loss: 0.0170 - wine_quality_root_mean_squared_error: 0.5069 - wine_type_binary_accuracy: 0.9962 - val_loss: 0.3319 - val_wine_quality_loss: 0.3048 - val_wine_type_loss: 0.0268 - val_wine_quality_root_mean_squared_error: 0.5520 - val_wine_type_binary_accuracy: 0.9949\n",
      "Epoch 160/180\n",
      "3155/3155 [==============================] - 0s 91us/sample - loss: 0.2739 - wine_quality_loss: 0.2576 - wine_type_loss: 0.0169 - wine_quality_root_mean_squared_error: 0.5069 - wine_type_binary_accuracy: 0.9962 - val_loss: 0.3333 - val_wine_quality_loss: 0.3061 - val_wine_type_loss: 0.0269 - val_wine_quality_root_mean_squared_error: 0.5533 - val_wine_type_binary_accuracy: 0.9949\n",
      "Epoch 161/180\n",
      "3155/3155 [==============================] - 0s 89us/sample - loss: 0.2727 - wine_quality_loss: 0.2556 - wine_type_loss: 0.0168 - wine_quality_root_mean_squared_error: 0.5058 - wine_type_binary_accuracy: 0.9965 - val_loss: 0.3345 - val_wine_quality_loss: 0.3075 - val_wine_type_loss: 0.0268 - val_wine_quality_root_mean_squared_error: 0.5544 - val_wine_type_binary_accuracy: 0.9949\n",
      "Epoch 162/180\n",
      "3155/3155 [==============================] - 0s 75us/sample - loss: 0.2723 - wine_quality_loss: 0.2552 - wine_type_loss: 0.0167 - wine_quality_root_mean_squared_error: 0.5055 - wine_type_binary_accuracy: 0.9962 - val_loss: 0.3404 - val_wine_quality_loss: 0.3131 - val_wine_type_loss: 0.0269 - val_wine_quality_root_mean_squared_error: 0.5596 - val_wine_type_binary_accuracy: 0.9949\n",
      "Epoch 163/180\n",
      "3155/3155 [==============================] - 0s 91us/sample - loss: 0.2719 - wine_quality_loss: 0.2556 - wine_type_loss: 0.0166 - wine_quality_root_mean_squared_error: 0.5052 - wine_type_binary_accuracy: 0.9968 - val_loss: 0.3380 - val_wine_quality_loss: 0.3105 - val_wine_type_loss: 0.0269 - val_wine_quality_root_mean_squared_error: 0.5575 - val_wine_type_binary_accuracy: 0.9949\n",
      "Epoch 164/180\n",
      "3155/3155 [==============================] - 0s 88us/sample - loss: 0.2722 - wine_quality_loss: 0.2556 - wine_type_loss: 0.0167 - wine_quality_root_mean_squared_error: 0.5055 - wine_type_binary_accuracy: 0.9965 - val_loss: 0.3359 - val_wine_quality_loss: 0.3090 - val_wine_type_loss: 0.0268 - val_wine_quality_root_mean_squared_error: 0.5556 - val_wine_type_binary_accuracy: 0.9949\n",
      "Epoch 165/180\n",
      "3155/3155 [==============================] - 0s 75us/sample - loss: 0.2716 - wine_quality_loss: 0.2550 - wine_type_loss: 0.0165 - wine_quality_root_mean_squared_error: 0.5050 - wine_type_binary_accuracy: 0.9968 - val_loss: 0.3362 - val_wine_quality_loss: 0.3092 - val_wine_type_loss: 0.0268 - val_wine_quality_root_mean_squared_error: 0.5559 - val_wine_type_binary_accuracy: 0.9949\n",
      "Epoch 166/180\n",
      "3155/3155 [==============================] - 0s 88us/sample - loss: 0.2703 - wine_quality_loss: 0.2537 - wine_type_loss: 0.0165 - wine_quality_root_mean_squared_error: 0.5038 - wine_type_binary_accuracy: 0.9965 - val_loss: 0.3326 - val_wine_quality_loss: 0.3057 - val_wine_type_loss: 0.0268 - val_wine_quality_root_mean_squared_error: 0.5527 - val_wine_type_binary_accuracy: 0.9949\n",
      "Epoch 167/180\n",
      "3155/3155 [==============================] - 0s 89us/sample - loss: 0.2706 - wine_quality_loss: 0.2535 - wine_type_loss: 0.0163 - wine_quality_root_mean_squared_error: 0.5041 - wine_type_binary_accuracy: 0.9965 - val_loss: 0.3360 - val_wine_quality_loss: 0.3086 - val_wine_type_loss: 0.0269 - val_wine_quality_root_mean_squared_error: 0.5557 - val_wine_type_binary_accuracy: 0.9949\n",
      "Epoch 168/180\n",
      "3155/3155 [==============================] - 0s 73us/sample - loss: 0.2702 - wine_quality_loss: 0.2545 - wine_type_loss: 0.0164 - wine_quality_root_mean_squared_error: 0.5038 - wine_type_binary_accuracy: 0.9965 - val_loss: 0.3375 - val_wine_quality_loss: 0.3102 - val_wine_type_loss: 0.0269 - val_wine_quality_root_mean_squared_error: 0.5570 - val_wine_type_binary_accuracy: 0.9949\n",
      "Epoch 169/180\n",
      "3155/3155 [==============================] - 0s 89us/sample - loss: 0.2691 - wine_quality_loss: 0.2534 - wine_type_loss: 0.0162 - wine_quality_root_mean_squared_error: 0.5028 - wine_type_binary_accuracy: 0.9965 - val_loss: 0.3433 - val_wine_quality_loss: 0.3162 - val_wine_type_loss: 0.0269 - val_wine_quality_root_mean_squared_error: 0.5622 - val_wine_type_binary_accuracy: 0.9949\n",
      "Epoch 170/180\n",
      "3155/3155 [==============================] - 0s 91us/sample - loss: 0.2692 - wine_quality_loss: 0.2526 - wine_type_loss: 0.0162 - wine_quality_root_mean_squared_error: 0.5029 - wine_type_binary_accuracy: 0.9965 - val_loss: 0.3350 - val_wine_quality_loss: 0.3079 - val_wine_type_loss: 0.0268 - val_wine_quality_root_mean_squared_error: 0.5549 - val_wine_type_binary_accuracy: 0.9949\n",
      "Epoch 171/180\n",
      "3155/3155 [==============================] - 0s 73us/sample - loss: 0.2682 - wine_quality_loss: 0.2517 - wine_type_loss: 0.0164 - wine_quality_root_mean_squared_error: 0.5020 - wine_type_binary_accuracy: 0.9965 - val_loss: 0.3428 - val_wine_quality_loss: 0.3155 - val_wine_type_loss: 0.0269 - val_wine_quality_root_mean_squared_error: 0.5618 - val_wine_type_binary_accuracy: 0.9949\n",
      "Epoch 172/180\n",
      "3155/3155 [==============================] - 0s 90us/sample - loss: 0.2691 - wine_quality_loss: 0.2527 - wine_type_loss: 0.0161 - wine_quality_root_mean_squared_error: 0.5030 - wine_type_binary_accuracy: 0.9965 - val_loss: 0.3315 - val_wine_quality_loss: 0.3044 - val_wine_type_loss: 0.0268 - val_wine_quality_root_mean_squared_error: 0.5517 - val_wine_type_binary_accuracy: 0.9949\n",
      "Epoch 173/180\n",
      "3155/3155 [==============================] - 0s 90us/sample - loss: 0.2672 - wine_quality_loss: 0.2508 - wine_type_loss: 0.0160 - wine_quality_root_mean_squared_error: 0.5012 - wine_type_binary_accuracy: 0.9965 - val_loss: 0.3359 - val_wine_quality_loss: 0.3088 - val_wine_type_loss: 0.0269 - val_wine_quality_root_mean_squared_error: 0.5556 - val_wine_type_binary_accuracy: 0.9949\n",
      "Epoch 174/180\n",
      "3155/3155 [==============================] - 0s 75us/sample - loss: 0.2676 - wine_quality_loss: 0.2514 - wine_type_loss: 0.0159 - wine_quality_root_mean_squared_error: 0.5016 - wine_type_binary_accuracy: 0.9968 - val_loss: 0.3457 - val_wine_quality_loss: 0.3185 - val_wine_type_loss: 0.0268 - val_wine_quality_root_mean_squared_error: 0.5644 - val_wine_type_binary_accuracy: 0.9949\n",
      "Epoch 175/180\n",
      "3155/3155 [==============================] - 0s 90us/sample - loss: 0.2673 - wine_quality_loss: 0.2514 - wine_type_loss: 0.0159 - wine_quality_root_mean_squared_error: 0.5013 - wine_type_binary_accuracy: 0.9965 - val_loss: 0.3330 - val_wine_quality_loss: 0.3061 - val_wine_type_loss: 0.0269 - val_wine_quality_root_mean_squared_error: 0.5529 - val_wine_type_binary_accuracy: 0.9949\n",
      "Epoch 176/180\n",
      "3155/3155 [==============================] - 0s 89us/sample - loss: 0.2669 - wine_quality_loss: 0.2515 - wine_type_loss: 0.0158 - wine_quality_root_mean_squared_error: 0.5011 - wine_type_binary_accuracy: 0.9968 - val_loss: 0.3319 - val_wine_quality_loss: 0.3052 - val_wine_type_loss: 0.0268 - val_wine_quality_root_mean_squared_error: 0.5520 - val_wine_type_binary_accuracy: 0.9949\n",
      "Epoch 177/180\n",
      "3155/3155 [==============================] - 0s 75us/sample - loss: 0.2676 - wine_quality_loss: 0.2524 - wine_type_loss: 0.0157 - wine_quality_root_mean_squared_error: 0.5018 - wine_type_binary_accuracy: 0.9968 - val_loss: 0.3391 - val_wine_quality_loss: 0.3119 - val_wine_type_loss: 0.0268 - val_wine_quality_root_mean_squared_error: 0.5585 - val_wine_type_binary_accuracy: 0.9949\n",
      "Epoch 178/180\n",
      "3155/3155 [==============================] - 0s 92us/sample - loss: 0.2656 - wine_quality_loss: 0.2501 - wine_type_loss: 0.0156 - wine_quality_root_mean_squared_error: 0.4999 - wine_type_binary_accuracy: 0.9968 - val_loss: 0.3465 - val_wine_quality_loss: 0.3190 - val_wine_type_loss: 0.0269 - val_wine_quality_root_mean_squared_error: 0.5650 - val_wine_type_binary_accuracy: 0.9949\n",
      "Epoch 179/180\n",
      "3155/3155 [==============================] - 0s 92us/sample - loss: 0.2665 - wine_quality_loss: 0.2514 - wine_type_loss: 0.0156 - wine_quality_root_mean_squared_error: 0.5008 - wine_type_binary_accuracy: 0.9968 - val_loss: 0.3357 - val_wine_quality_loss: 0.3086 - val_wine_type_loss: 0.0268 - val_wine_quality_root_mean_squared_error: 0.5555 - val_wine_type_binary_accuracy: 0.9949\n",
      "Epoch 180/180\n",
      "3155/3155 [==============================] - 0s 91us/sample - loss: 0.2650 - wine_quality_loss: 0.2493 - wine_type_loss: 0.0155 - wine_quality_root_mean_squared_error: 0.4994 - wine_type_binary_accuracy: 0.9968 - val_loss: 0.3342 - val_wine_quality_loss: 0.3071 - val_wine_type_loss: 0.0268 - val_wine_quality_root_mean_squared_error: 0.5541 - val_wine_type_binary_accuracy: 0.9949\n"
     ]
    }
   ],
   "source": [
    "## Please uncomment all lines in this cell and replace those marked with `# YOUR CODE HERE`.\n",
    "## You can select all lines in this code cell with Ctrl+A (Windows/Linux) or Cmd+A (Mac), then press Ctrl+/ (Windows/Linux) or Cmd+/ (Mac) to uncomment.\n",
    "\n",
    "\n",
    "\n",
    "history = model.fit(norm_train_X, train_Y,\n",
    "                     epochs = 180, validation_data=(norm_val_X, val_Y))"
   ]
  },
  {
   "cell_type": "code",
   "execution_count": 106,
   "metadata": {
    "deletable": false,
    "editable": false,
    "nbgrader": {
     "cell_type": "code",
     "checksum": "fadad8896eda9c8c2115970724b15508",
     "grade": true,
     "grade_id": "cell-eb4d5b41bef8f0ab",
     "locked": true,
     "points": 1,
     "schema_version": 3,
     "solution": false,
     "task": false
    }
   },
   "outputs": [
    {
     "name": "stdout",
     "output_type": "stream",
     "text": [
      "\u001b[92m All public tests passed\n"
     ]
    }
   ],
   "source": [
    "utils.test_history(history)"
   ]
  },
  {
   "cell_type": "code",
   "execution_count": 108,
   "metadata": {
    "colab": {},
    "colab_type": "code",
    "id": "CubF2J2gSf6q"
   },
   "outputs": [
    {
     "name": "stdout",
     "output_type": "stream",
     "text": [
      "789/789 [==============================] - 0s 21us/sample - loss: 0.3342 - wine_quality_loss: 0.3071 - wine_type_loss: 0.0268 - wine_quality_root_mean_squared_error: 0.5541 - wine_type_binary_accuracy: 0.9949\n",
      "\n",
      "loss: 0.33418632203332976\n",
      "wine_quality_loss: 0.30705782771110535\n",
      "wine_type_loss: 0.02681087888777256\n",
      "wine_quality_rmse: 0.5540977716445923\n",
      "wine_type_accuracy: 0.9949302673339844\n"
     ]
    }
   ],
   "source": [
    "# Gather the training metrics\n",
    "loss, wine_quality_loss, wine_type_loss, wine_quality_rmse, wine_type_accuracy = model.evaluate(x=norm_val_X, y=val_Y)\n",
    "\n",
    "print()\n",
    "print(f'loss: {loss}')\n",
    "print(f'wine_quality_loss: {wine_quality_loss}')\n",
    "print(f'wine_type_loss: {wine_type_loss}')\n",
    "print(f'wine_quality_rmse: {wine_quality_rmse}')\n",
    "print(f'wine_type_accuracy: {wine_type_accuracy}')\n",
    "\n",
    "# EXPECTED VALUES\n",
    "# ~ 0.30 - 0.38\n",
    "# ~ 0.30 - 0.38\n",
    "# ~ 0.018 - 0.030\n",
    "# ~ 0.50 - 0.62\n",
    "# ~ 0.97 - 1.0\n",
    "\n",
    "# Example:\n",
    "#0.3657050132751465\n",
    "#0.3463745415210724\n",
    "#0.019330406561493874\n",
    "#0.5885359048843384\n",
    "#0.9974651336669922"
   ]
  },
  {
   "cell_type": "markdown",
   "metadata": {
    "colab_type": "text",
    "id": "gPtTGAP4usnm"
   },
   "source": [
    "## Analyze the Model Performance\n",
    "\n",
    "Note that the model has two outputs. The output at index 0 is quality and index 1 is wine type\n",
    "\n",
    "So, round the quality predictions to the nearest integer."
   ]
  },
  {
   "cell_type": "code",
   "execution_count": 109,
   "metadata": {
    "colab": {},
    "colab_type": "code",
    "id": "tBq9PEeAaW-Y"
   },
   "outputs": [],
   "source": [
    "predictions = model.predict(norm_test_X)\n",
    "quality_pred = predictions[0]\n",
    "type_pred = predictions[1]"
   ]
  },
  {
   "cell_type": "code",
   "execution_count": 110,
   "metadata": {
    "colab": {},
    "colab_type": "code",
    "id": "YLhgTR4xTIxj"
   },
   "outputs": [
    {
     "name": "stdout",
     "output_type": "stream",
     "text": [
      "[5.689938]\n"
     ]
    }
   ],
   "source": [
    "print(quality_pred[0])\n",
    "\n",
    "# EXPECTED OUTPUT\n",
    "# 5.6 - 6.0"
   ]
  },
  {
   "cell_type": "code",
   "execution_count": 111,
   "metadata": {
    "colab": {},
    "colab_type": "code",
    "id": "MPi-eYfGTUXi"
   },
   "outputs": [
    {
     "name": "stdout",
     "output_type": "stream",
     "text": [
      "[5.635561e-05]\n",
      "[0.9999888]\n"
     ]
    }
   ],
   "source": [
    "print(type_pred[0])\n",
    "print(type_pred[944])\n",
    "\n",
    "# EXPECTED OUTPUT\n",
    "# A number close to zero\n",
    "# A number close to or equal to 1"
   ]
  },
  {
   "cell_type": "markdown",
   "metadata": {
    "colab_type": "text",
    "id": "Kohk-9C6vt_s"
   },
   "source": [
    "### Plot Utilities\n",
    "\n",
    "We define a few utilities to visualize the model performance."
   ]
  },
  {
   "cell_type": "code",
   "execution_count": 112,
   "metadata": {
    "colab": {},
    "colab_type": "code",
    "id": "62gEOFUhn6aQ"
   },
   "outputs": [],
   "source": [
    "def plot_metrics(metric_name, title, ylim=5):\n",
    "    plt.title(title)\n",
    "    plt.ylim(0,ylim)\n",
    "    plt.plot(history.history[metric_name],color='blue',label=metric_name)\n",
    "    plt.plot(history.history['val_' + metric_name],color='green',label='val_' + metric_name)\n"
   ]
  },
  {
   "cell_type": "code",
   "execution_count": 113,
   "metadata": {
    "colab": {},
    "colab_type": "code",
    "id": "6rfgSx7uz5dj"
   },
   "outputs": [],
   "source": [
    "def plot_confusion_matrix(y_true, y_pred, title='', labels=[0,1]):\n",
    "    cm = confusion_matrix(y_true, y_pred)\n",
    "    fig = plt.figure()\n",
    "    ax = fig.add_subplot(111)\n",
    "    cax = ax.matshow(cm)\n",
    "    plt.title('Confusion matrix of the classifier')\n",
    "    fig.colorbar(cax)\n",
    "    ax.set_xticklabels([''] + labels)\n",
    "    ax.set_yticklabels([''] + labels)\n",
    "    plt.xlabel('Predicted')\n",
    "    plt.ylabel('True')\n",
    "    fmt = 'd'\n",
    "    thresh = cm.max() / 2.\n",
    "    for i, j in itertools.product(range(cm.shape[0]), range(cm.shape[1])):\n",
    "          plt.text(j, i, format(cm[i, j], fmt),\n",
    "                  horizontalalignment=\"center\",\n",
    "                  color=\"black\" if cm[i, j] > thresh else \"white\")\n",
    "    plt.show()"
   ]
  },
  {
   "cell_type": "code",
   "execution_count": 114,
   "metadata": {
    "colab": {},
    "colab_type": "code",
    "id": "dfVLIqi017Vf"
   },
   "outputs": [],
   "source": [
    "def plot_diff(y_true, y_pred, title = '' ):\n",
    "    plt.scatter(y_true, y_pred)\n",
    "    plt.title(title)\n",
    "    plt.xlabel('True Values')\n",
    "    plt.ylabel('Predictions')\n",
    "    plt.axis('equal')\n",
    "    plt.axis('square')\n",
    "    plt.plot([-100, 100], [-100, 100])\n",
    "    return plt"
   ]
  },
  {
   "cell_type": "markdown",
   "metadata": {
    "colab_type": "text",
    "id": "8sd1jdFbwE0I"
   },
   "source": [
    "### Plots for Metrics"
   ]
  },
  {
   "cell_type": "code",
   "execution_count": 115,
   "metadata": {
    "colab": {},
    "colab_type": "code",
    "id": "f3MwZ5J1pOfj"
   },
   "outputs": [
    {
     "data": {
      "image/png": "[encoded data removed]",
      "text/plain": [
       "<Figure size 432x288 with 1 Axes>"
      ]
     },
     "metadata": {
      "needs_background": "light"
     },
     "output_type": "display_data"
    }
   ],
   "source": [
    "plot_metrics('wine_quality_root_mean_squared_error', 'RMSE', ylim=2)"
   ]
  },
  {
   "cell_type": "code",
   "execution_count": 116,
   "metadata": {
    "colab": {},
    "colab_type": "code",
    "id": "QIAxEezCppnd"
   },
   "outputs": [
    {
     "data": {
      "image/png": "[encoded data removed]",
      "text/plain": [
       "<Figure size 432x288 with 1 Axes>"
      ]
     },
     "metadata": {
      "needs_background": "light"
     },
     "output_type": "display_data"
    }
   ],
   "source": [
    "plot_metrics('wine_type_loss', 'Wine Type Loss', ylim=0.2)"
   ]
  },
  {
   "cell_type": "markdown",
   "metadata": {
    "colab_type": "text",
    "id": "uYV9AOAMwI9p"
   },
   "source": [
    "### Plots for Confusion Matrix\n",
    "\n",
    "Plot the confusion matrices for wine type. You can see that the model performs well for prediction of wine type from the confusion matrix and the loss metrics."
   ]
  },
  {
   "cell_type": "code",
   "execution_count": 117,
   "metadata": {
    "colab": {},
    "colab_type": "code",
    "id": "C3hvTYxIaf3n"
   },
   "outputs": [
    {
     "data": {
      "image/png": "[encoded data removed]",
      "text/plain": [
       "<Figure size 432x288 with 2 Axes>"
      ]
     },
     "metadata": {
      "needs_background": "light"
     },
     "output_type": "display_data"
    }
   ],
   "source": [
    "plot_confusion_matrix(test_Y[1], np.round(type_pred), title='Wine Type', labels = [0, 1])"
   ]
  },
  {
   "cell_type": "code",
   "execution_count": 118,
   "metadata": {
    "colab": {},
    "colab_type": "code",
    "id": "GW91ym8P2I5y"
   },
   "outputs": [
    {
     "data": {
      "image/png": "[encoded data removed]",
      "text/plain": [
       "<Figure size 432x288 with 1 Axes>"
      ]
     },
     "metadata": {
      "needs_background": "light"
     },
     "output_type": "display_data"
    }
   ],
   "source": [
    "scatter_plot = plot_diff(test_Y[0], quality_pred, title='Type')"
   ]
  }
 ],
 "metadata": {
  "colab": {
   "include_colab_link": true,
   "name": "exercise-answer.ipynb",
   "provenance": []
  },
  "kernelspec": {
   "display_name": "Python 3",
   "language": "python",
   "name": "python3"
  },
  "language_info": {
   "codemirror_mode": {
    "name": "ipython",
    "version": 3
   },
   "file_extension": ".py",
   "mimetype": "text/x-python",
   "name": "python",
   "nbconvert_exporter": "python",
   "pygments_lexer": "ipython3",
   "version": "3.7.6"
  }
 },
 "nbformat": 4,
 "nbformat_minor": 4
}
