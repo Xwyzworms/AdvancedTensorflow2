{
 "cells": [
  {
   "cell_type": "code",
   "execution_count": 1,
   "id": "municipal-cleaner",
   "metadata": {},
   "outputs": [
    {
     "name": "stdout",
     "output_type": "stream",
     "text": [
      "2.1.0\n",
      "1.19.2\n"
     ]
    }
   ],
   "source": [
    "import tensorflow as tf\n",
    "import numpy as np\n",
    "import os\n",
    "\n",
    "print(tf.__version__)\n",
    "print(np.__version__)"
   ]
  },
  {
   "cell_type": "code",
   "execution_count": null,
   "id": "british-wagner",
   "metadata": {},
   "outputs": [],
   "source": []
  },
  {
   "cell_type": "code",
   "execution_count": 2,
   "id": "inside-special",
   "metadata": {},
   "outputs": [
    {
     "name": "stdout",
     "output_type": "stream",
     "text": [
      "INFO:tensorflow:Using MirroredStrategy with devices ('/job:localhost/replica:0/task:0/device:CPU:0',)\n",
      "Number of devices 1 \n"
     ]
    }
   ],
   "source": [
    "strategy = tf.distribute.MirroredStrategy(cross_device_ops = tf.distribute.HierarchicalCopyAllReduce()) # kalau misalnya punya gpu yang berbeda tipe\n",
    "\n",
    "print(\"Number of devices {} \".format(strategy.num_replicas_in_sync))"
   ]
  },
  {
   "cell_type": "code",
   "execution_count": 3,
   "id": "stable-sugar",
   "metadata": {},
   "outputs": [
    {
     "name": "stdout",
     "output_type": "stream",
     "text": [
      "(60000, 28, 28)\n"
     ]
    }
   ],
   "source": [
    "fashion_mnist = tf.keras.datasets.fashion_mnist\n",
    "(train_images,train_labes), (test_images, test_labels) = fashion_mnist.load_data()\n",
    "print(train_images.shape)"
   ]
  },
  {
   "cell_type": "code",
   "execution_count": 4,
   "id": "random-smooth",
   "metadata": {},
   "outputs": [
    {
     "name": "stdout",
     "output_type": "stream",
     "text": [
      "(60000, 28, 28, 1)\n"
     ]
    }
   ],
   "source": [
    "train_images = train_images[...,None]\n",
    "test_images = test_images[..., None]\n",
    "print(train_images.shape)\n",
    "train_images = train_images / np.float(255.0)\n",
    "test_images = test_images / np.float(255.0)\n",
    "\n",
    "BUFFER_SIZE = len(train_images)\n",
    "BATCH_SIZE_PER_REPLICA = 64\n",
    "GLOBAL_BATCH_SIZE = BATCH_SIZE_PER_REPLICA * strategy.num_replicas_in_sync\n",
    "\n",
    "train_dataset = tf.data.Dataset.from_tensor_slices((train_images,train_labes)).shuffle(buffer_size=BUFFER_SIZE).batch(GLOBAL_BATCH_SIZE)\n",
    "test_dataset = tf.data.Dataset.from_tensor_slices((test_images,test_labels)).batch(GLOBAL_BATCH_SIZE)\n"
   ]
  },
  {
   "cell_type": "code",
   "execution_count": 5,
   "id": "optical-cotton",
   "metadata": {},
   "outputs": [],
   "source": [
    "train_dist_dataset = strategy.experimental_distribute_dataset(train_dataset)\n",
    "test_dist_dataset = strategy.experimental_distribute_dataset(test_dataset)"
   ]
  },
  {
   "cell_type": "code",
   "execution_count": 6,
   "id": "social-midwest",
   "metadata": {},
   "outputs": [
    {
     "name": "stdout",
     "output_type": "stream",
     "text": [
      "Variable                 Type                  Data/Info\n",
      "--------------------------------------------------------\n",
      "BATCH_SIZE_PER_REPLICA   int                   64\n",
      "BUFFER_SIZE              int                   60000\n",
      "GLOBAL_BATCH_SIZE        int                   64\n",
      "fashion_mnist            module                <module 'tensorflow_core.<...>hion_mnist\\\\__init__.py'>\n",
      "np                       module                <module 'numpy' from 'C:\\<...>ges\\\\numpy\\\\__init__.py'>\n",
      "os                       module                <module 'os' from 'C:\\\\Us<...>DataScience\\\\lib\\\\os.py'>\n",
      "strategy                 MirroredStrategy      <tensorflow.python.distri<...>ct at 0x000001EBA06EABA8>\n",
      "test_dataset             BatchDataset          <BatchDataset shapes: ((N<...>: (tf.float64, tf.uint8)>\n",
      "test_dist_dataset        DistributedDataset    <tensorflow.python.distri<...>ct at 0x000001EBA6EE1E10>\n",
      "test_images              ndarray               10000x28x28x1: 7840000 elems, type `float64`, 62720000 bytes (59.814453125 Mb)\n",
      "test_labels              ndarray               10000: 10000 elems, type `uint8`, 10000 bytes\n",
      "tf                       module                <module 'tensorflow' from<...>tensorflow\\\\__init__.py'>\n",
      "train_dataset            BatchDataset          <BatchDataset shapes: ((N<...>: (tf.float64, tf.uint8)>\n",
      "train_dist_dataset       DistributedDataset    <tensorflow.python.distri<...>ct at 0x000001EBA6EE1DD8>\n",
      "train_images             ndarray               60000x28x28x1: 47040000 elems, type `float64`, 376320000 bytes (358.88671875 Mb)\n",
      "train_labes              ndarray               60000: 60000 elems, type `uint8`, 60000 bytes\n"
     ]
    }
   ],
   "source": [
    "%whos"
   ]
  },
  {
   "cell_type": "code",
   "execution_count": 7,
   "id": "endangered-certificate",
   "metadata": {},
   "outputs": [],
   "source": [
    "def def_model():\n",
    "    model = tf.keras.Sequential([\n",
    "        tf.keras.layers.Conv2D(32, 3 , activation= tf.nn.relu),\n",
    "        tf.keras.layers.MaxPool2D(),\n",
    "        tf.keras.layers.Conv2D(64, 3, activation = tf.nn.relu),\n",
    "        tf.keras.layers.MaxPool2D(),\n",
    "        tf.keras.layers.Flatten(),\n",
    "        tf.keras.layers.Dense(64, activation = tf.nn.relu),\n",
    "        tf.keras.layers.Dense(10)\n",
    "    ])\n",
    "    return model"
   ]
  },
  {
   "cell_type": "code",
   "execution_count": 12,
   "id": "assigned-royalty",
   "metadata": {},
   "outputs": [],
   "source": [
    "with strategy.scope():\n",
    "    loss_obj = tf.keras.losses.SparseCategoricalCrossentropy(from_logits= True,reduction=tf.keras.losses.Reduction.NONE)\n",
    "    \n",
    "    def compute_loss(labels, prediction):\n",
    "        loss_per_example= loss_obj(labels,prediction)\n",
    "        \n",
    "        return tf.nn.compute_average_loss(loss_per_example, global_batch_size=GLOBAL_BATCH_SIZE)\n",
    "    \n",
    "    test_loss = tf.keras.metrics.Mean(name=\"test_loss\")\n",
    "    \n",
    "    train_acc = tf.keras.metrics.SparseCategoricalAccuracy(name=\"train_acc\")\n",
    "    test_acc = tf.keras.metrics.SparseCategoricalAccuracy(name=\"test_acc\")\n",
    "    optimizer = tf.keras.optimizers.Adam()\n",
    "    model = def_model()\n",
    "        "
   ]
  },
  {
   "cell_type": "code",
   "execution_count": 13,
   "id": "fitting-karen",
   "metadata": {},
   "outputs": [],
   "source": [
    "@tf.function\n",
    "def distributed_train_step(dataset):\n",
    "    per_replica_losses = strategy.experimental_run_v2(fn=train_step, args=[dataset])\n",
    "    return strategy.reduce(tf.distribute.ReduceOp.SUM, per_replica_losses, axis = None)\n",
    "def train_step(inputs):\n",
    "    images, labels = inputs\n",
    "    with tf.GradientTape() as tape:\n",
    "        pred = model(images,training=True)\n",
    "        loss = compute_loss(labels,pred)\n",
    "    gradients = tape.gradient(loss, model.trainable_variables)\n",
    "    optimizer.apply_gradients(zip(gradients,model.trainable_variables))\n",
    "    train_acc.update_state(labels,pred)\n",
    "    \n",
    "    return loss\n",
    "def test_step(inputs):\n",
    "    images, labels = inputs\n",
    "    pred = model(images,training=False)\n",
    "    loss = loss_obj(labels,pred)\n",
    "    test_acc.update_state(labels,pred)\n",
    "    test_loss.update_statep(loss)\n",
    "     \n",
    "def distributed_test_step(dataset):\n",
    "    return strategy.experimental_run_v2(fn = test_step,args=[dataset])\n",
    "\n",
    "    "
   ]
  },
  {
   "cell_type": "code",
   "execution_count": 10,
   "id": "appointed-driver",
   "metadata": {},
   "outputs": [
    {
     "name": "stdout",
     "output_type": "stream",
     "text": [
      "(TensorSpec(shape=(None, 28, 28, 1), dtype=tf.float64, name=None), TensorSpec(shape=(None,), dtype=tf.uint8, name=None))\n"
     ]
    }
   ],
   "source": [
    "print(train_dist_dataset.element_spec)\n"
   ]
  },
  {
   "cell_type": "code",
   "execution_count": 14,
   "id": "alleged-nashville",
   "metadata": {},
   "outputs": [
    {
     "name": "stdout",
     "output_type": "stream",
     "text": [
      "0\n",
      "WARNING:tensorflow:Layer conv2d_2 is casting an input tensor from dtype float64 to the layer's dtype of float32, which is new behavior in TensorFlow 2.  The layer has dtype float32 because it's dtype defaults to floatx.\n",
      "\n",
      "If you intended to run this layer in float32, you can safely ignore this warning. If in doubt, this warning is likely only an issue if you are porting a TensorFlow 1.X model to TensorFlow 2.\n",
      "\n",
      "To change all layers to have dtype float64 by default, call `tf.keras.backend.set_floatx('float64')`. To change just this layer, pass dtype='float64' to the layer constructor. If you are the author of this layer, you can disable autocasting by passing autocast=False to the base Layer constructor.\n",
      "\n",
      "Epoch : 0 Loss : 0.51 acc : 0.82\n",
      "1\n",
      "Epoch : 1 Loss : 0.33 acc : 0.88\n",
      "2\n",
      "Epoch : 2 Loss : 0.29 acc : 0.89\n",
      "3\n",
      "Epoch : 3 Loss : 0.26 acc : 0.90\n",
      "4\n",
      "Epoch : 4 Loss : 0.24 acc : 0.91\n",
      "5\n",
      "Epoch : 5 Loss : 0.22 acc : 0.92\n",
      "6\n",
      "Epoch : 6 Loss : 0.20 acc : 0.93\n",
      "7\n",
      "Epoch : 7 Loss : 0.19 acc : 0.93\n",
      "8\n",
      "Epoch : 8 Loss : 0.17 acc : 0.94\n",
      "9\n",
      "Epoch : 9 Loss : 0.16 acc : 0.94\n"
     ]
    }
   ],
   "source": [
    "EPOCHS = 10\n",
    "for epoch in range(EPOCHS):\n",
    "    total_loss = 0.0\n",
    "    \n",
    "    print(epoch)\n",
    "    num_batches = 0\n",
    "    for batch in train_dist_dataset:\n",
    "        total_loss += distributed_train_step(batch)\n",
    "        num_batches += 1\n",
    "    train_loss = total_loss/num_batches\n",
    "    print(\"Epoch : %d Loss : %.2f acc : %.2f\" % (epoch,train_loss,train_acc.result()))\n",
    "    train_acc.reset_states()\n",
    "         "
   ]
  }
 ],
 "metadata": {
  "kernelspec": {
   "display_name": "Python 3",
   "language": "python",
   "name": "python3"
  },
  "language_info": {
   "codemirror_mode": {
    "name": "ipython",
    "version": 3
   },
   "file_extension": ".py",
   "mimetype": "text/x-python",
   "name": "python",
   "nbconvert_exporter": "python",
   "pygments_lexer": "ipython3",
   "version": "3.6.12"
  }
 },
 "nbformat": 4,
 "nbformat_minor": 5
}
