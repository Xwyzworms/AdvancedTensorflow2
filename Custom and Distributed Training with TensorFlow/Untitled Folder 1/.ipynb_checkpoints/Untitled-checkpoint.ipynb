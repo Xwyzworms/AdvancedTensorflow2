{
 "cells": [
  {
   "cell_type": "code",
   "execution_count": 2,
   "id": "prompt-rabbit",
   "metadata": {},
   "outputs": [
    {
     "name": "stdout",
     "output_type": "stream",
     "text": [
      "2.1.0\n"
     ]
    }
   ],
   "source": [
    "import tensorflow as tf\n",
    "import tensorflow_datasets as tfds\n",
    "print(tf.__version__)"
   ]
  },
  {
   "cell_type": "code",
   "execution_count": 8,
   "id": "several-standard",
   "metadata": {},
   "outputs": [
    {
     "name": "stderr",
     "output_type": "stream",
     "text": [
      "WARNING:absl:Warning: Setting shuffle_files=True because split=TRAIN and shuffle_files=None. This behavior will be deprecated on 2019-08-06, at which point shuffle_files=False will be the default for all splits.\n"
     ]
    },
    {
     "name": "stdout",
     "output_type": "stream",
     "text": [
      "{'test': <_OptionsDataset shapes: ((28, 28, 1), ()), types: (tf.uint8, tf.int64)>, 'train': <_OptionsDataset shapes: ((28, 28, 1), ()), types: (tf.uint8, tf.int64)>}\n"
     ]
    }
   ],
   "source": [
    "datasets,info = tfds.load(name = \"mnist\", with_info=True,as_supervised=True )\n",
    "print(datasets)\n",
    "mnist_train, mnist_test = datasets[\"train\"], datasets[\"test\"]"
   ]
  },
  {
   "cell_type": "code",
   "execution_count": 9,
   "id": "adult-strip",
   "metadata": {},
   "outputs": [
    {
     "name": "stdout",
     "output_type": "stream",
     "text": [
      "Variable             Type               Data/Info\n",
      "-------------------------------------------------\n",
      "BUFFER_SIZE          int                10000\n",
      "batch_size           int                64\n",
      "datasets             dict               n=2\n",
      "info                 DatasetInfo        tfds.core.DatasetInfo(\\n <...>edistribution_info=,\\n)\\n\n",
      "mnist_test           _OptionsDataset    <_OptionsDataset shapes: <...>es: (tf.uint8, tf.int64)>\n",
      "mnist_train          _OptionsDataset    <_OptionsDataset shapes: <...>es: (tf.uint8, tf.int64)>\n",
      "model                Sequential         <tensorflow.python.keras.<...>ct at 0x0000026F606F1898>\n",
      "num_test_examples    int                10000\n",
      "num_train_examples   int                60000\n",
      "scale                function           <function scale at 0x0000026F606DEAE8>\n",
      "tf                   module             <module 'tensorflow' from<...>tensorflow\\\\__init__.py'>\n",
      "tfds                 module             <module 'tensorflow_datas<...>w_datasets\\\\__init__.py'>\n",
      "train_dataset        BatchDataset       <BatchDataset shapes: ((N<...>: (tf.float32, tf.int64)>\n",
      "val_dataset          BatchDataset       <BatchDataset shapes: ((N<...>: (tf.float32, tf.int64)>\n"
     ]
    }
   ],
   "source": [
    "%whos"
   ]
  },
  {
   "cell_type": "code",
   "execution_count": 10,
   "id": "passing-practitioner",
   "metadata": {},
   "outputs": [],
   "source": [
    "model= tf.keras.Sequential([\n",
    "    tf.keras.layers.Conv2D(filters=32, kernel_size=3, activation =tf.nn.relu, input_shape=(28, 28, 1)),\n",
    "    tf.keras.layers.MaxPooling2D(),\n",
    "    tf.keras.layers.Flatten(),\n",
    "    tf.keras.layers.Dense(64, activation = tf.nn.relu),\n",
    "    tf.keras.layers.Dense(10)\n",
    "])\n",
    "\n",
    "model.compile(\n",
    "loss = tf.keras.losses.SparseCategoricalCrossentropy(from_logits=True),\n",
    "optimizer = tf.keras.optimizers.Adam(),\n",
    "metrics = [tf.keras.metrics.SparseCategoricalAccuracy()])\n",
    "\n",
    "def scale(image,label):\n",
    "    image = tf.cast(image, tf.float32)\n",
    "    image /= 255\n",
    "    return image, label\n",
    "num_train_examples = info.splits['train'].num_examples\n",
    "num_test_examples = info.splits[\"test\"].num_examples\n",
    "\n",
    "BUFFER_SIZE = 10000\n",
    "\n",
    "batch_size=64\n",
    "\n",
    "train_dataset = mnist_train.map(scale).cache().shuffle(BUFFER_SIZE).batch(batch_size)\n",
    "val_dataset = mnist_test.map(scale).batch(batch_size)\n"
   ]
  },
  {
   "cell_type": "code",
   "execution_count": 11,
   "id": "contained-tobago",
   "metadata": {},
   "outputs": [
    {
     "name": "stdout",
     "output_type": "stream",
     "text": [
      "WARNING:tensorflow:There are non-GPU devices in `tf.distribute.Strategy`, not using nccl allreduce.\n"
     ]
    },
    {
     "name": "stderr",
     "output_type": "stream",
     "text": [
      "WARNING:tensorflow:There are non-GPU devices in `tf.distribute.Strategy`, not using nccl allreduce.\n"
     ]
    },
    {
     "name": "stdout",
     "output_type": "stream",
     "text": [
      "INFO:tensorflow:Using MirroredStrategy with devices ('/job:localhost/replica:0/task:0/device:CPU:0',)\n"
     ]
    },
    {
     "name": "stderr",
     "output_type": "stream",
     "text": [
      "INFO:tensorflow:Using MirroredStrategy with devices ('/job:localhost/replica:0/task:0/device:CPU:0',)\n"
     ]
    },
    {
     "name": "stdout",
     "output_type": "stream",
     "text": [
      "Number of devices 1\n"
     ]
    }
   ],
   "source": [
    "strategy = tf.distribute.MirroredStrategy()\n",
    "print(\"Number of devices %d\" %(strategy.num_replicas_in_sync))"
   ]
  },
  {
   "cell_type": "code",
   "execution_count": 12,
   "id": "sustained-float",
   "metadata": {},
   "outputs": [],
   "source": [
    "num_train_examples = info.splits[\"train\"].num_examples\n",
    "num_test_examples = info.splits[\"test\"].num_examples\n",
    "BUFFER_SIZE = 10000\n",
    "BATCH_PER_REPLICA = 64\n",
    "BATCH_SIZE = BATCH_PER_REPLICA * strategy.num_replicas_in_sync"
   ]
  },
  {
   "cell_type": "code",
   "execution_count": 14,
   "id": "animated-wedding",
   "metadata": {},
   "outputs": [
    {
     "name": "stdout",
     "output_type": "stream",
     "text": [
      "Epoch 1/2\n",
      "938/938 [==============================] - 22s 24ms/step - loss: 0.1979 - sparse_categorical_accuracy: 0.9434\n",
      "Epoch 2/2\n",
      "938/938 [==============================] - 18s 19ms/step - loss: 0.0652 - sparse_categorical_accuracy: 0.9814\n"
     ]
    },
    {
     "data": {
      "text/plain": [
       "<tensorflow.python.keras.callbacks.History at 0x26f62ed14e0>"
      ]
     },
     "execution_count": 14,
     "metadata": {},
     "output_type": "execute_result"
    }
   ],
   "source": [
    "with strategy.scope():\n",
    "    model= tf.keras.Sequential([\n",
    "    tf.keras.layers.Conv2D(filters=32, kernel_size=3, activation =tf.nn.relu, input_shape=(28, 28, 1)),\n",
    "    tf.keras.layers.MaxPooling2D(),\n",
    "    tf.keras.layers.Flatten(),\n",
    "    tf.keras.layers.Dense(64, activation = tf.nn.relu),\n",
    "    tf.keras.layers.Dense(10)\n",
    "])\n",
    "model.compile(\n",
    "loss = tf.keras.losses.SparseCategoricalCrossentropy(from_logits=True),\n",
    "optimizer = tf.keras.optimizers.Adam(),\n",
    "metrics = [tf.keras.metrics.SparseCategoricalAccuracy()])\n",
    "model.fit(train_dataset,epochs=2)"
   ]
  },
  {
   "cell_type": "code",
   "execution_count": null,
   "id": "lightweight-weapon",
   "metadata": {},
   "outputs": [],
   "source": []
  }
 ],
 "metadata": {
  "kernelspec": {
   "display_name": "Python 3",
   "language": "python",
   "name": "python3"
  },
  "language_info": {
   "codemirror_mode": {
    "name": "ipython",
    "version": 3
   },
   "file_extension": ".py",
   "mimetype": "text/x-python",
   "name": "python",
   "nbconvert_exporter": "python",
   "pygments_lexer": "ipython3",
   "version": "3.6.12"
  }
 },
 "nbformat": 4,
 "nbformat_minor": 5
}
