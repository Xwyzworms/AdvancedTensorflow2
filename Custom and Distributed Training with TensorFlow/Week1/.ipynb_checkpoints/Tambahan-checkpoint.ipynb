{
 "cells": [
  {
   "cell_type": "markdown",
   "id": "later-eight",
   "metadata": {},
   "source": [
    "CheatSheet for using tensorflow eager execution : Ada beberapa benefit lho \n",
    "\n",
    "- Execution Line by line\n",
    "- Support Vektorisasi\n",
    "- Operator Overloading < jadi gausah ribet kalau mau nambahin / lakuin operasi aritmatika tensor obj > \n",
    "- Kompatibel dengan numpy < Ntar ada contoh nya >"
   ]
  }
 ],
 "metadata": {
  "kernelspec": {
   "display_name": "Python 3",
   "language": "python",
   "name": "python3"
  },
  "language_info": {
   "codemirror_mode": {
    "name": "ipython",
    "version": 3
   },
   "file_extension": ".py",
   "mimetype": "text/x-python",
   "name": "python",
   "nbconvert_exporter": "python",
   "pygments_lexer": "ipython3",
   "version": "3.6.12"
  }
 },
 "nbformat": 4,
 "nbformat_minor": 5
}
