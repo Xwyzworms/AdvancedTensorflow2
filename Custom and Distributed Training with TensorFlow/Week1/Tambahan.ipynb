{
 "cells": [
  {
   "cell_type": "markdown",
   "id": "outstanding-links",
   "metadata": {},
   "source": [
    "CheatSheet for using tensorflow eager execution : Ada beberapa benefit lho \n",
    "\n",
    "- Execution Line by line\n",
    "- Support Vektorisasi\n",
    "- Operator Overloading < jadi gausah ribet kalau mau nambahin / lakuin operasi aritmatika tensor obj > \n",
    "- Kompatibel dengan numpy < Ntar ada contoh nya > intinya tf obj bisa diproses menggunakan numpy function\n"
   ]
  },
  {
   "cell_type": "code",
   "execution_count": 1,
   "id": "allied-server",
   "metadata": {},
   "outputs": [
    {
     "name": "stdout",
     "output_type": "stream",
     "text": [
      "2.1.0\n"
     ]
    }
   ],
   "source": [
    "import tensorflow as tf\n",
    "import numpy as np\n",
    "print(tf.__version__)"
   ]
  },
  {
   "cell_type": "code",
   "execution_count": 2,
   "id": "african-favor",
   "metadata": {},
   "outputs": [
    {
     "name": "stdout",
     "output_type": "stream",
     "text": [
      "tf.Tensor(\n",
      "[[3 4 5]\n",
      " [6 7 8]], shape=(2, 3), dtype=int32)\n"
     ]
    }
   ],
   "source": [
    "# Support vektorisasi Example\n",
    "matrix = tf.constant([1,2,3,4,5,6],shape=(2,3))\n",
    "matrix = tf.add(matrix,2)\n",
    "print(matrix)"
   ]
  },
  {
   "cell_type": "code",
   "execution_count": 3,
   "id": "immediate-bennett",
   "metadata": {},
   "outputs": [
    {
     "name": "stdout",
     "output_type": "stream",
     "text": [
      "tf.Tensor(\n",
      "[[ 6  8 10]\n",
      " [12 14 16]], shape=(2, 3), dtype=int32)\n"
     ]
    }
   ],
   "source": [
    "# Operator Overloading \n",
    "matrix = matrix * 2\n",
    "print(matrix)"
   ]
  },
  {
   "cell_type": "code",
   "execution_count": 4,
   "id": "abstract-treasury",
   "metadata": {},
   "outputs": [
    {
     "name": "stdout",
     "output_type": "stream",
     "text": [
      "[ 2.  6. 12. 20. 48. 42.]\n",
      "[[1. 2. 3.]\n",
      " [4. 8. 6.]]\n",
      "['Ngab' '1' 'Ngab' '1' '1' '1']\n",
      "4\n"
     ]
    }
   ],
   "source": [
    "#Contoh numpy compatibility\n",
    "x = tf.constant([1,2,3,4,8,6],dtype=tf.float32)\n",
    "y = tf.constant([2,3,4,5,6,7],dtype=tf.float32)\n",
    "\n",
    "print(np.multiply(x,y))\n",
    "print(np.reshape(x,(2,3)))\n",
    "print(np.where(x%2 == 0,1,\"Ngab\"))\n",
    "print(np.argmax(x,axis=None))"
   ]
  },
  {
   "cell_type": "code",
   "execution_count": 5,
   "id": "paperback-arabic",
   "metadata": {},
   "outputs": [
    {
     "name": "stdout",
     "output_type": "stream",
     "text": [
      "tf.Tensor([1. 2. 3. 4.], shape=(4,), dtype=float32)\n",
      "tf.Tensor([ 4  8 12 16], shape=(4,), dtype=int32)\n",
      "tf.Tensor([b'Lhoo' b'ngab' b'Lhoo' b'ngab'], shape=(4,), dtype=string)\n",
      "tf.Tensor(\n",
      "[[1. 0. 0.]\n",
      " [0. 1. 0.]\n",
      " [0. 0. 1.]], shape=(3, 3), dtype=float32)\n"
     ]
    }
   ],
   "source": [
    "# Numpy interopability < BIsa juga dari numpy ke Tensor Obj > LOL\n",
    "arr = np.array([1,2,3,4])\n",
    "print( tf.cast(arr,tf.float32) )\n",
    "print(tf.multiply(arr,4))\n",
    "print(tf.where(arr % 2 ==0, \"ngab\", \"Lhoo\"))\n",
    "print(tf.eye(3,3))\n"
   ]
  },
  {
   "cell_type": "code",
   "execution_count": 6,
   "id": "close-aside",
   "metadata": {},
   "outputs": [
    {
     "data": {
      "text/plain": [
       "<tf.Variable 'UnreadVariable' shape=() dtype=float32, numpy=4.0>"
      ]
     },
     "execution_count": 6,
     "metadata": {},
     "output_type": "execute_result"
    }
   ],
   "source": [
    "v = tf.Variable(0.0,dtype=tf.float32)\n",
    "v.assign_add(4)"
   ]
  },
  {
   "cell_type": "code",
   "execution_count": 7,
   "id": "opening-destination",
   "metadata": {},
   "outputs": [
    {
     "data": {
      "text/plain": [
       "4.0"
      ]
     },
     "execution_count": 7,
     "metadata": {},
     "output_type": "execute_result"
    }
   ],
   "source": [
    "v.read_value().numpy()"
   ]
  },
  {
   "cell_type": "code",
   "execution_count": 8,
   "id": "endangered-former",
   "metadata": {},
   "outputs": [],
   "source": [
    "# Training data\n",
    "x_train = np.array([-1.0, 0.0, ])"
   ]
  },
  {
   "cell_type": "code",
   "execution_count": null,
   "id": "cubic-cherry",
   "metadata": {},
   "outputs": [],
   "source": []
  },
  {
   "cell_type": "code",
   "execution_count": null,
   "id": "endless-penalty",
   "metadata": {},
   "outputs": [],
   "source": []
  },
  {
   "cell_type": "code",
   "execution_count": null,
   "id": "diagnostic-wildlife",
   "metadata": {},
   "outputs": [],
   "source": []
  },
  {
   "cell_type": "code",
   "execution_count": null,
   "id": "distributed-wrapping",
   "metadata": {},
   "outputs": [],
   "source": []
  },
  {
   "cell_type": "code",
   "execution_count": null,
   "id": "thousand-western",
   "metadata": {},
   "outputs": [],
   "source": []
  }
 ],
 "metadata": {
  "kernelspec": {
   "display_name": "Python 3",
   "language": "python",
   "name": "python3"
  },
  "language_info": {
   "codemirror_mode": {
    "name": "ipython",
    "version": 3
   },
   "file_extension": ".py",
   "mimetype": "text/x-python",
   "name": "python",
   "nbconvert_exporter": "python",
   "pygments_lexer": "ipython3",
   "version": "3.6.12"
  }
 },
 "nbformat": 4,
 "nbformat_minor": 5
}
